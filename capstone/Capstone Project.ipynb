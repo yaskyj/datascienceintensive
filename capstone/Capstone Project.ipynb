{
 "cells": [
  {
   "cell_type": "code",
   "execution_count": 1,
   "metadata": {
    "collapsed": false
   },
   "outputs": [],
   "source": [
    "import pandas as pd\n",
    "import numpy as np\n",
    "import gc\n",
    "import ml_metrics as metrics\n",
    "#from sklearn import cross_validation\n",
    "from sklearn import ensemble\n",
    "from sklearn.decomposition import RandomizedPCA\n",
    "#from sklearn.linear_model import LogisticRegression\n",
    "#from sklearn.feature_selection import SelectKBest\n",
    "#from sklearn.naive_bayes import GaussianNB\n",
    "from sklearn import tree\n",
    "#from sklearn.svm import SVC\n",
    "#from sklearn.naive_bayes import BernoulliNB\n",
    "#from datetime import datetime"
   ]
  },
  {
   "cell_type": "code",
   "execution_count": null,
   "metadata": {
    "collapsed": false
   },
   "outputs": [],
   "source": [
    "%%time\n",
    "train_dtypes = {'date_time': pd.np.object,\n",
    "'site_name': pd.np.int64,\n",
    "'posa_continent': pd.np.int64,\n",
    "'user_location_country': pd.np.int64,\n",
    "'user_location_region': pd.np.int64,\n",
    "'user_location_city': pd.np.int64,\n",
    "'orig_destination_distance': pd.np.float64,\n",
    "'user_id': pd.np.int64,\n",
    "'is_mobile': pd.np.int64,\n",
    "'is_package': pd.np.int64,\n",
    "'channel': pd.np.int64,\n",
    "'srch_ci': pd.np.object,\n",
    "'srch_co': pd.np.object,\n",
    "'srch_adults_cnt': pd.np.int64,\n",
    "'srch_children_cnt': pd.np.int64,\n",
    "'srch_rm_cnt': pd.np.int64,\n",
    "'srch_destination_id': pd.np.int64,\n",
    "'srch_destination_type_id': pd.np.int64,\n",
    "'is_booking': pd.np.int64,\n",
    "'cnt': pd.np.int64,\n",
    "'hotel_continent': pd.np.int64,\n",
    "'hotel_country': pd.np.int64,\n",
    "'hotel_market': pd.np.int64,\n",
    "'hotel_cluster': pd.np.int64}"
   ]
  },
  {
   "cell_type": "code",
   "execution_count": null,
   "metadata": {
    "collapsed": false
   },
   "outputs": [],
   "source": [
    "%%time\n",
    "all_train = pd.read_csv('train.csv', dtype=train_dtypes, iterator=True, chunksize=1000)\n",
    "#iter_csv = pandas.read_csv('file.csv', iterator=True, chunksize=1000)\n",
    "all_train = pd.concat([chunk[chunk['is_booking'] == 1] for chunk in all_train])\n",
    "# all_train = pd.concat(all_train, ignore_index=True)\n",
    "#temp_train = pd.read_csv('train.csv', dtype=train_dtypes, iterator=True, chunksize=1000)\n",
    "#all_train = pd.concat(temp_train, ignore_index=True)"
   ]
  },
  {
   "cell_type": "code",
   "execution_count": null,
   "metadata": {
    "collapsed": false
   },
   "outputs": [],
   "source": [
    "%%time\n",
    "all_train['id'] = [i for i in range(0, len(all_train))]\n",
    "all_train['orig_destination_distance'] = all_train['orig_destination_distance'].fillna(-1)\n",
    "all_train['date_time'] = pd.to_datetime(all_train['date_time'], errors='coerce')\n",
    "all_train['srch_ci'] = pd.to_datetime(all_train['srch_ci'], errors='coerce')\n",
    "all_train['srch_co'] = pd.to_datetime(all_train['srch_co'], errors='coerce')\n",
    "all_train['activity_month'] = all_train['date_time'].fillna(-1).dt.month.astype(int)\n",
    "all_train['activity_year'] = all_train['date_time'].fillna(-1).dt.year.astype(int)\n",
    "all_train['checkin_month'] = all_train['srch_ci'].fillna(-1).dt.month.astype(int)\n",
    "all_train['checkin_year'] = all_train['srch_ci'].fillna(-1).dt.year.astype(int)\n",
    "all_train['checkout_month'] = all_train['srch_co'].fillna(-1).dt.month.astype(int)\n",
    "all_train['checkout_year'] = all_train['srch_co'].fillna(-1).dt.year.astype(int)\n",
    "#Split groups into two different classifiers for destinations vs. no destinations"
   ]
  },
  {
   "cell_type": "code",
   "execution_count": 2,
   "metadata": {
    "collapsed": false
   },
   "outputs": [
    {
     "name": "stdout",
     "output_type": "stream",
     "text": [
      "CPU times: user 2.19 s, sys: 153 ms, total: 2.34 s\n",
      "Wall time: 2.43 s\n"
     ]
    }
   ],
   "source": [
    "%%time\n",
    "destinations = pd.read_csv('destinations.csv')"
   ]
  },
  {
   "cell_type": "code",
   "execution_count": null,
   "metadata": {
    "collapsed": false
   },
   "outputs": [],
   "source": [
    "%%time\n",
    "destination_ids = destinations['srch_destination_id']\n",
    "destination_ds = destinations.drop(['srch_destination_id'], 1)"
   ]
  },
  {
   "cell_type": "code",
   "execution_count": null,
   "metadata": {
    "collapsed": false
   },
   "outputs": [],
   "source": [
    "%%time\n",
    "pca = RandomizedPCA(n_components=1, whiten=True).fit(destination_ds)"
   ]
  },
  {
   "cell_type": "code",
   "execution_count": null,
   "metadata": {
    "collapsed": false
   },
   "outputs": [],
   "source": [
    "%%time\n",
    "destinations_pca = pca.transform(destination_ds)"
   ]
  },
  {
   "cell_type": "code",
   "execution_count": null,
   "metadata": {
    "collapsed": false
   },
   "outputs": [],
   "source": [
    "%%time\n",
    "destinations_df = pd.DataFrame()\n",
    "destinations_df['srch_destination_id'] = destination_ids\n",
    "destinations_df['latent_destinations'] = destinations_pca"
   ]
  },
  {
   "cell_type": "code",
   "execution_count": null,
   "metadata": {
    "collapsed": false
   },
   "outputs": [],
   "source": [
    "%%time\n",
    "with_dest_match = pd.merge(all_train, destinations_df)"
   ]
  },
  {
   "cell_type": "code",
   "execution_count": null,
   "metadata": {
    "collapsed": false
   },
   "outputs": [],
   "source": [
    "%%time\n",
    "wo_dest_match = all_train[~(all_train.id.isin(with_dest_match.id))]"
   ]
  },
  {
   "cell_type": "code",
   "execution_count": null,
   "metadata": {
    "collapsed": false
   },
   "outputs": [],
   "source": [
    "%%time\n",
    "with_features = with_dest_match.drop(['id', 'is_booking', 'cnt', 'user_id', 'hotel_cluster', 'date_time', 'srch_ci', 'srch_co'],1)\n",
    "with_labels = with_dest_match['hotel_cluster']\n",
    "wo_features = wo_dest_match.drop(['id', 'is_booking', 'cnt', 'user_id', 'hotel_cluster', 'date_time', 'srch_ci', 'srch_co'],1)\n",
    "wo_labels = wo_dest_match['hotel_cluster']\n",
    "with_features = with_features.reindex_axis(sorted(with_features.columns), axis=1)\n",
    "wo_features = wo_features.reindex_axis(sorted(wo_features.columns), axis=1)"
   ]
  },
  {
   "cell_type": "code",
   "execution_count": null,
   "metadata": {
    "collapsed": false
   },
   "outputs": [],
   "source": [
    "# %%time\n",
    "# pca_wo = RandomizedPCA(n_components=20, whiten=True).fit(wo_features)"
   ]
  },
  {
   "cell_type": "code",
   "execution_count": null,
   "metadata": {
    "collapsed": false
   },
   "outputs": [],
   "source": [
    "# %%time\n",
    "# wo_train_features = pca_wo.transform(wo_features)"
   ]
  },
  {
   "cell_type": "code",
   "execution_count": null,
   "metadata": {
    "collapsed": false
   },
   "outputs": [],
   "source": [
    "%%time\n",
    "#clf = LogisticRegression(tol=0.1)\n",
    "#clf = GaussianNB()\n",
    "#clf_with = ensemble.AdaBoostClassifier().fit(with_features, with_labels.values.ravel())\n",
    "#clf_wo = ensemble.AdaBoostClassifier().fit(wo_features, wo_labels.values.ravel())\n",
    "#clf = ensemble.AdaBoostClassifier(SVC(probability=True, kernel='linear'),n_estimators=10)\n",
    "#clf = ensemble.GradientBoostingClassifier(SVC(probability=True, kernel='linear'),n_estimators=100, learning_rate=1.0, max_depth=1, random_state=0)\n",
    "#clf = ensemble.GradientBoostingClassifier(n_estimators=100, learning_rate=1.0, max_depth=1, random_state=0, verbose=3)\n",
    "# clf_with = tree.DecisionTreeClassifier(min_samples_split=100).fit(with_features, with_labels.values.ravel())\n",
    "# clf_wo = tree.DecisionTreeClassifier(min_samples_split=50).fit(wo_features, wo_labels.values.ravel())\n",
    "clf_with = ensemble.RandomForestClassifier(n_estimators=20, min_samples_split=500, n_jobs=2).fit(with_features, with_labels.values.ravel())\n",
    "clf_wo = ensemble.RandomForestClassifier(n_estimators=20, min_samples_split=500, n_jobs=2).fit(wo_features, wo_labels.values.ravel())\n",
    "#clf - BernoulliNB()"
   ]
  },
  {
   "cell_type": "code",
   "execution_count": null,
   "metadata": {
    "collapsed": false
   },
   "outputs": [],
   "source": [
    "# all_scores = []\n",
    "# %%time\n",
    "# for i in range(0, 20):\n",
    "#     features_train, features_test, labels_train, labels_test = cross_validation.train_test_split(features, labels, test_size=0.5)\n",
    "#     clf = tree.DecisionTreeClassifier(min_samples_split=500)\n",
    "#     clf = clf.fit(features_train, labels_train.values.ravel())\n",
    "#     pred_probs = pd.DataFrame(clf.predict_proba(features_test))\n",
    "#     pred_probs = pd.DataFrame([list([r.sort_values(ascending=False)[:3].index.values]) for i,r in pred_probs.iterrows()])\n",
    "#     labels_test_df = pd.DataFrame(labels_test.values, index=range(0, len(labels_test)))\n",
    "#     test_score = mapk(labels_test_df.values, pred_probs.values)\n",
    "#     all_scores.append(test_score)\n",
    "# print np.mean(all_scores)"
   ]
  },
  {
   "cell_type": "code",
   "execution_count": null,
   "metadata": {
    "collapsed": false
   },
   "outputs": [],
   "source": [
    "# %%time\n",
    "#features_train, features_test, labels_train, labels_test = cross_validation.train_test_split(features, labels, test_size=0.5)"
   ]
  },
  {
   "cell_type": "code",
   "execution_count": null,
   "metadata": {
    "collapsed": false
   },
   "outputs": [],
   "source": [
    "%%time\n",
    "pred_probs = pd.DataFrame(clf.predict_proba(features_test))"
   ]
  },
  {
   "cell_type": "code",
   "execution_count": null,
   "metadata": {
    "collapsed": false
   },
   "outputs": [],
   "source": [
    "%%time\n",
    "pred_probs = pd.DataFrame([list([r.sort_values(ascending=False)[:5].index.values]) for i,r in pred_probs.iterrows()])"
   ]
  },
  {
   "cell_type": "code",
   "execution_count": null,
   "metadata": {
    "collapsed": false
   },
   "outputs": [],
   "source": [
    "%%time\n",
    "labels_test_df = pd.DataFrame(labels_test.values, index=range(0, len(labels_test)))"
   ]
  },
  {
   "cell_type": "code",
   "execution_count": null,
   "metadata": {
    "collapsed": false
   },
   "outputs": [],
   "source": [
    "%%time\n",
    "test_score = mapk(labels_test_df.values, pred_probs.values)\n",
    "print test_score"
   ]
  },
  {
   "cell_type": "code",
   "execution_count": null,
   "metadata": {
    "collapsed": false
   },
   "outputs": [],
   "source": [
    "%%time\n",
    "test_dtypes = {'id': pd.np.int64,\n",
    "'date_time': pd.np.object,\n",
    "'site_name': pd.np.int64,\n",
    "'posa_continent': pd.np.int64,\n",
    "'user_location_country': pd.np.int64,\n",
    "'user_location_region': pd.np.int64,\n",
    "'user_location_city': pd.np.int64,\n",
    "'orig_destination_distance': pd.np.float64,\n",
    "'user_id': pd.np.int64,\n",
    "'is_mobile': pd.np.int64,\n",
    "'is_package': pd.np.int64,\n",
    "'channel': pd.np.int64,\n",
    "'srch_ci': pd.np.object,\n",
    "'srch_co': pd.np.object,\n",
    "'srch_adults_cnt': pd.np.int64,\n",
    "'srch_children_cnt': pd.np.int64,\n",
    "'srch_rm_cnt': pd.np.int64,\n",
    "'srch_destination_id': pd.np.int64,\n",
    "'srch_destination_type_id': pd.np.int64,\n",
    "'hotel_continent': pd.np.int64,\n",
    "'hotel_country': pd.np.int64,\n",
    "'hotel_market': pd.np.int64}"
   ]
  },
  {
   "cell_type": "code",
   "execution_count": null,
   "metadata": {
    "collapsed": false
   },
   "outputs": [],
   "source": [
    "%%time\n",
    "all_test = pd.read_csv('test.csv', dtype=test_dtypes)"
   ]
  },
  {
   "cell_type": "code",
   "execution_count": null,
   "metadata": {
    "collapsed": false
   },
   "outputs": [],
   "source": [
    "%%time\n",
    "all_test['orig_destination_distance'] = all_test['orig_destination_distance'].fillna(-1)\n",
    "all_test['date_time'] = pd.to_datetime(all_test['date_time'], errors='coerce')\n",
    "all_test['srch_ci'] = pd.to_datetime(all_test['srch_ci'], errors='coerce')\n",
    "all_test['srch_co'] = pd.to_datetime(all_test['srch_co'], errors='coerce')\n",
    "all_test['activity_month'] = all_test['date_time'].fillna(-1).dt.month.astype(int)\n",
    "all_test['checkin_month'] = all_test['srch_ci'].fillna(-1).dt.month.astype(int)\n",
    "all_test['checkout_month'] = all_test['srch_co'].fillna(-1).dt.month.astype(int)"
   ]
  },
  {
   "cell_type": "code",
   "execution_count": null,
   "metadata": {
    "collapsed": false
   },
   "outputs": [],
   "source": [
    "%%time\n",
    "with_dest_test = pd.merge(all_test, destinations_df)\n",
    "with_testing_ids = with_dest_test['id'] \n",
    "with_testing_features = with_dest_test.drop(['user_id', 'id', 'date_time', 'srch_ci', 'srch_co'],1)"
   ]
  },
  {
   "cell_type": "code",
   "execution_count": null,
   "metadata": {
    "collapsed": false
   },
   "outputs": [],
   "source": [
    "%%time\n",
    "wo_dest_test = all_test[~(all_test.id.isin(with_dest_test.id))]\n",
    "wo_testing_ids = wo_dest_test['id']\n",
    "wo_testing_features = wo_dest_test.drop(['user_id', 'id', 'date_time', 'srch_ci', 'srch_co'],1)"
   ]
  },
  {
   "cell_type": "code",
   "execution_count": null,
   "metadata": {
    "collapsed": false
   },
   "outputs": [],
   "source": [
    "%%time\n",
    "with_testing_features = with_testing_features.reindex_axis(sorted(with_testing_features.columns), axis=1)\n",
    "wo_testing_features = wo_testing_features.reindex_axis(sorted(wo_testing_features.columns), axis=1)"
   ]
  },
  {
   "cell_type": "code",
   "execution_count": null,
   "metadata": {
    "collapsed": false
   },
   "outputs": [],
   "source": [
    "# %%time\n",
    "# with_test = pca_with.transform(with_testing_features)"
   ]
  },
  {
   "cell_type": "code",
   "execution_count": null,
   "metadata": {
    "collapsed": false
   },
   "outputs": [],
   "source": [
    "# %%time\n",
    "# wo_test = pca_wo.transform(wo_testing_features)"
   ]
  },
  {
   "cell_type": "code",
   "execution_count": null,
   "metadata": {
    "collapsed": false
   },
   "outputs": [],
   "source": [
    "%%time\n",
    "#feature_test_file = selector.transform(all_test)\n",
    "#pred = clf.predict(feature_test_list)\n",
    "with_test_probs = pd.DataFrame(clf_with.predict_proba(with_testing_features))\n",
    "wo_test_probs = pd.DataFrame(clf_wo.predict_proba(wo_testing_features))"
   ]
  },
  {
   "cell_type": "code",
   "execution_count": null,
   "metadata": {
    "collapsed": false
   },
   "outputs": [],
   "source": [
    "%%time\n",
    "with_test_probs = pd.Series([(i, r.sort_values(ascending=False)[:5].index.values) for i,r in with_test_probs.iterrows()])\n",
    "with_test_probs = with_test_probs.values"
   ]
  },
  {
   "cell_type": "code",
   "execution_count": null,
   "metadata": {
    "collapsed": false
   },
   "outputs": [],
   "source": [
    "%%time\n",
    "indices_1 = with_testing_ids.values\n",
    "values_1 = [b for a,b in with_test_probs]"
   ]
  },
  {
   "cell_type": "code",
   "execution_count": null,
   "metadata": {
    "collapsed": false
   },
   "outputs": [],
   "source": [
    "%%time\n",
    "submission_1 = pd.DataFrame()\n",
    "submission_1['id'] = indices_1\n",
    "submission_1['hotel_cluster'] = [' '.join(str(x) for x in y) for y in values_1]"
   ]
  },
  {
   "cell_type": "code",
   "execution_count": null,
   "metadata": {
    "collapsed": false
   },
   "outputs": [],
   "source": [
    "%%time\n",
    "wo_test_probs = pd.Series([(i, r.sort_values(ascending=False)[:5].index.values) for i,r in wo_test_probs.iterrows()])\n",
    "wo_test_probs = wo_test_probs.values"
   ]
  },
  {
   "cell_type": "code",
   "execution_count": null,
   "metadata": {
    "collapsed": false
   },
   "outputs": [],
   "source": [
    "%%time\n",
    "indices_2 = wo_testing_ids.values\n",
    "values_2 = [b for a,b in wo_test_probs]"
   ]
  },
  {
   "cell_type": "code",
   "execution_count": null,
   "metadata": {
    "collapsed": false
   },
   "outputs": [],
   "source": [
    "%%time\n",
    "submission_2 = pd.DataFrame()\n",
    "submission_2['id'] = indices_2\n",
    "submission_2['hotel_cluster'] = [' '.join(str(x) for x in y) for y in values_2]"
   ]
  },
  {
   "cell_type": "code",
   "execution_count": null,
   "metadata": {
    "collapsed": false
   },
   "outputs": [],
   "source": [
    "%%time\n",
    "submission = pd.concat([submission_1, submission_2])"
   ]
  },
  {
   "cell_type": "code",
   "execution_count": null,
   "metadata": {
    "collapsed": true
   },
   "outputs": [],
   "source": [
    "submission.sort_values(by='id', inplace=True)"
   ]
  },
  {
   "cell_type": "code",
   "execution_count": null,
   "metadata": {
    "collapsed": false
   },
   "outputs": [],
   "source": [
    "%%time\n",
    "submission.to_csv('submission.csv', index=False)"
   ]
  },
  {
   "cell_type": "code",
   "execution_count": null,
   "metadata": {
    "collapsed": true
   },
   "outputs": [],
   "source": []
  }
 ],
 "metadata": {
  "kernelspec": {
   "display_name": "Python 2",
   "language": "python",
   "name": "python2"
  },
  "language_info": {
   "codemirror_mode": {
    "name": "ipython",
    "version": 2
   },
   "file_extension": ".py",
   "mimetype": "text/x-python",
   "name": "python",
   "nbconvert_exporter": "python",
   "pygments_lexer": "ipython2",
   "version": "2.7.11"
  }
 },
 "nbformat": 4,
 "nbformat_minor": 0
}
