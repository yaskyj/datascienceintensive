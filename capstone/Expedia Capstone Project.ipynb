{
 "cells": [
  {
   "cell_type": "code",
   "execution_count": 1,
   "metadata": {
    "collapsed": true
   },
   "outputs": [],
   "source": [
    "import pandas as pd\n",
    "from sklearn.metrics import accuracy_score\n",
    "from sklearn.naive_bayes import GaussianNB\n",
    "from datetime import datetime"
   ]
  },
  {
   "cell_type": "code",
   "execution_count": 2,
   "metadata": {
    "collapsed": false
   },
   "outputs": [],
   "source": [
    "train_dtypes = {'date_time': pd.np.object,\n",
    "'site_name': pd.np.int64,\n",
    "'posa_continent': pd.np.int64,\n",
    "'user_location_country': pd.np.int64,\n",
    "'user_location_region': pd.np.int64,\n",
    "'user_location_city': pd.np.int64,\n",
    "'orig_destination_distance': pd.np.float64,\n",
    "'user_id': pd.np.int64,\n",
    "'is_mobile': pd.np.int64,\n",
    "'is_package': pd.np.int64,\n",
    "'channel': pd.np.int64,\n",
    "'srch_ci': pd.np.object,\n",
    "'srch_co': pd.np.object,\n",
    "'srch_adults_cnt': pd.np.int64,\n",
    "'srch_children_cnt': pd.np.int64,\n",
    "'srch_rm_cnt': pd.np.int64,\n",
    "'srch_destination_id': pd.np.int64,\n",
    "'srch_destination_type_id': pd.np.int64,\n",
    "'is_booking': pd.np.int64,\n",
    "'cnt': pd.np.int64,\n",
    "'hotel_continent': pd.np.int64,\n",
    "'hotel_country': pd.np.int64,\n",
    "'hotel_market': pd.np.int64,\n",
    "'hotel_cluster': pd.np.int64}"
   ]
  },
  {
   "cell_type": "code",
   "execution_count": 3,
   "metadata": {
    "collapsed": false
   },
   "outputs": [
    {
     "name": "stdout",
     "output_type": "stream",
     "text": [
      "CPU times: user 2min 29s, sys: 1min 35s, total: 4min 5s\n",
      "Wall time: 4min 14s\n"
     ]
    }
   ],
   "source": [
    "%%time\n",
    "all_train = pd.read_csv('train.csv', dtype=train_dtypes)\n",
    "#temp_train = pd.read_csv('train.csv', dtype=train_dtypes, iterator=True, chunksize=1000)\n",
    "#all_train = pd.concat(temp_train, ignore_index=True)"
   ]
  },
  {
   "cell_type": "code",
   "execution_count": 4,
   "metadata": {
    "collapsed": false
   },
   "outputs": [
    {
     "name": "stdout",
     "output_type": "stream",
     "text": [
      "CPU times: user 8.71 s, sys: 29.3 s, total: 38 s\n",
      "Wall time: 47.6 s\n"
     ]
    }
   ],
   "source": [
    "%%time\n",
    "all_train['orig_destination_distance'] = all_train['orig_destination_distance'].fillna(0.0).astype(int)\n",
    "#all_train['date_time'] = pd.to_datetime(all_train['date_time'], errors='coerce')\n",
    "#all_train['srch_ci'] = pd.to_datetime(all_train['srch_ci'], errors='coerce')\n",
    "#all_train['srch_co'] = pd.to_datetime(all_train['srch_co'], errors='coerce')\n",
    "#Remove dates columns\n",
    "all_train = all_train.drop(['date_time','srch_ci','srch_co','is_booking', 'cnt'], 1)"
   ]
  },
  {
   "cell_type": "code",
   "execution_count": 5,
   "metadata": {
    "collapsed": false
   },
   "outputs": [
    {
     "name": "stdout",
     "output_type": "stream",
     "text": [
      "CPU times: user 2.07 ms, sys: 0 ns, total: 2.07 ms\n",
      "Wall time: 8.44 ms\n"
     ]
    }
   ],
   "source": [
    "%%time\n",
    "#Split into training and test data\n",
    "#split = int(0.75*len(all_train))\n",
    "#train = all_train[0:split]\n",
    "#test  = all_train[split:]"
   ]
  },
  {
   "cell_type": "code",
   "execution_count": 5,
   "metadata": {
    "collapsed": false
   },
   "outputs": [
    {
     "name": "stdout",
     "output_type": "stream",
     "text": [
      "CPU times: user 1.32 ms, sys: 3.63 ms, total: 4.95 ms\n",
      "Wall time: 16.1 ms\n"
     ]
    }
   ],
   "source": [
    "%%time\n",
    "features_train = all_train.ix[:,:'hotel_market'] \n",
    "labels_train = all_train.ix[:,'hotel_cluster':]\n",
    "#features_test = test.ix[:,:'hotel_market'] \n",
    "#labels_test = test.ix[:,'hotel_cluster':]"
   ]
  },
  {
   "cell_type": "code",
   "execution_count": 6,
   "metadata": {
    "collapsed": false
   },
   "outputs": [],
   "source": [
    "features_train = features_train.values\n",
    "labels_train = labels_train.values\n",
    "#features_test = features_test.values\n",
    "#labels_test = labels_test.values"
   ]
  },
  {
   "cell_type": "code",
   "execution_count": 7,
   "metadata": {
    "collapsed": false
   },
   "outputs": [
    {
     "name": "stdout",
     "output_type": "stream",
     "text": [
      "CPU times: user 46.6 s, sys: 47.1 s, total: 1min 33s\n",
      "Wall time: 1min 56s\n"
     ]
    }
   ],
   "source": [
    "%%time\n",
    "clf = GaussianNB()\n",
    "clf.fit(features_train, labels_train.ravel())"
   ]
  },
  {
   "cell_type": "code",
   "execution_count": 9,
   "metadata": {
    "collapsed": false
   },
   "outputs": [
    {
     "name": "stdout",
     "output_type": "stream",
     "text": [
      "CPU times: user 2min 9s, sys: 1min 34s, total: 3min 44s\n",
      "Wall time: 6min 48s\n"
     ]
    }
   ],
   "source": [
    "%%time\n",
    "#pred = clf.predict(features_test)"
   ]
  },
  {
   "cell_type": "code",
   "execution_count": 11,
   "metadata": {
    "collapsed": false
   },
   "outputs": [
    {
     "name": "stdout",
     "output_type": "stream",
     "text": [
      "0.0577647704175\n"
     ]
    }
   ],
   "source": [
    "#print accuracy_score(pred, labels_test.ravel())"
   ]
  },
  {
   "cell_type": "code",
   "execution_count": 8,
   "metadata": {
    "collapsed": true
   },
   "outputs": [],
   "source": [
    "test_dtypes = {'id': pd.np.int64,\n",
    "'date_time': pd.np.object,\n",
    "'site_name': pd.np.int64,\n",
    "'posa_continent': pd.np.int64,\n",
    "'user_location_country': pd.np.int64,\n",
    "'user_location_region': pd.np.int64,\n",
    "'user_location_city': pd.np.int64,\n",
    "'orig_destination_distance': pd.np.float64,\n",
    "'user_id': pd.np.int64,\n",
    "'is_mobile': pd.np.int64,\n",
    "'is_package': pd.np.int64,\n",
    "'channel': pd.np.int64,\n",
    "'srch_ci': pd.np.object,\n",
    "'srch_co': pd.np.object,\n",
    "'srch_adults_cnt': pd.np.int64,\n",
    "'srch_children_cnt': pd.np.int64,\n",
    "'srch_rm_cnt': pd.np.int64,\n",
    "'srch_destination_id': pd.np.int64,\n",
    "'srch_destination_type_id': pd.np.int64,\n",
    "'hotel_continent': pd.np.int64,\n",
    "'hotel_country': pd.np.int64,\n",
    "'hotel_market': pd.np.int64}"
   ]
  },
  {
   "cell_type": "code",
   "execution_count": 9,
   "metadata": {
    "collapsed": false
   },
   "outputs": [
    {
     "name": "stdout",
     "output_type": "stream",
     "text": [
      "CPU times: user 8.53 s, sys: 1.42 s, total: 9.96 s\n",
      "Wall time: 10.4 s\n"
     ]
    }
   ],
   "source": [
    "%%time\n",
    "all_test = pd.read_csv('test.csv', dtype=test_dtypes)"
   ]
  },
  {
   "cell_type": "code",
   "execution_count": 10,
   "metadata": {
    "collapsed": true
   },
   "outputs": [],
   "source": [
    "all_test['orig_destination_distance'] = all_test['orig_destination_distance'].fillna(0.0).astype(int)\n",
    "#all_train['date_time'] = pd.to_datetime(all_train['date_time'], errors='coerce')\n",
    "#all_train['srch_ci'] = pd.to_datetime(all_train['srch_ci'], errors='coerce')\n",
    "#all_train['srch_co'] = pd.to_datetime(all_train['srch_co'], errors='coerce')\n",
    "#Remove dates columns\n",
    "testing_file = all_test.drop(['id', 'date_time','srch_ci','srch_co'], 1)"
   ]
  },
  {
   "cell_type": "code",
   "execution_count": 11,
   "metadata": {
    "collapsed": true
   },
   "outputs": [],
   "source": [
    "testing_file = testing_file.values"
   ]
  },
  {
   "cell_type": "code",
   "execution_count": 12,
   "metadata": {
    "collapsed": false
   },
   "outputs": [
    {
     "name": "stdout",
     "output_type": "stream",
     "text": [
      "CPU times: user 49.8 s, sys: 49.8 s, total: 1min 39s\n",
      "Wall time: 1min 51s\n"
     ]
    }
   ],
   "source": [
    "%%time\n",
    "probs = pd.DataFrame(clf.predict_proba(testing_file))"
   ]
  },
  {
   "cell_type": "code",
   "execution_count": 14,
   "metadata": {
    "collapsed": false
   },
   "outputs": [],
   "source": [
    "probs = probs.transpose()"
   ]
  },
  {
   "cell_type": "code",
   "execution_count": 15,
   "metadata": {
    "collapsed": false
   },
   "outputs": [
    {
     "data": {
      "text/html": [
       "<div>\n",
       "<table border=\"1\" class=\"dataframe\">\n",
       "  <thead>\n",
       "    <tr style=\"text-align: right;\">\n",
       "      <th></th>\n",
       "      <th>0</th>\n",
       "      <th>1</th>\n",
       "      <th>2</th>\n",
       "      <th>3</th>\n",
       "      <th>4</th>\n",
       "      <th>5</th>\n",
       "      <th>6</th>\n",
       "      <th>7</th>\n",
       "      <th>8</th>\n",
       "      <th>9</th>\n",
       "      <th>...</th>\n",
       "      <th>2528233</th>\n",
       "      <th>2528234</th>\n",
       "      <th>2528235</th>\n",
       "      <th>2528236</th>\n",
       "      <th>2528237</th>\n",
       "      <th>2528238</th>\n",
       "      <th>2528239</th>\n",
       "      <th>2528240</th>\n",
       "      <th>2528241</th>\n",
       "      <th>2528242</th>\n",
       "    </tr>\n",
       "  </thead>\n",
       "  <tbody>\n",
       "    <tr>\n",
       "      <th>0</th>\n",
       "      <td>1.506405e-10</td>\n",
       "      <td>2.955820e-11</td>\n",
       "      <td>6.870839e-02</td>\n",
       "      <td>0.002590</td>\n",
       "      <td>2.796015e-02</td>\n",
       "      <td>3.699272e-02</td>\n",
       "      <td>3.165751e-02</td>\n",
       "      <td>0.050388</td>\n",
       "      <td>0.003692</td>\n",
       "      <td>6.974000e-02</td>\n",
       "      <td>...</td>\n",
       "      <td>4.120701e-02</td>\n",
       "      <td>0.000011</td>\n",
       "      <td>0.001456</td>\n",
       "      <td>4.291106e-02</td>\n",
       "      <td>7.735057e-02</td>\n",
       "      <td>7.866100e-02</td>\n",
       "      <td>7.606394e-12</td>\n",
       "      <td>0.002261</td>\n",
       "      <td>4.141485e-02</td>\n",
       "      <td>2.020798e-08</td>\n",
       "    </tr>\n",
       "    <tr>\n",
       "      <th>1</th>\n",
       "      <td>0.000000e+00</td>\n",
       "      <td>0.000000e+00</td>\n",
       "      <td>3.084643e-09</td>\n",
       "      <td>0.425499</td>\n",
       "      <td>2.962716e-14</td>\n",
       "      <td>1.125613e-57</td>\n",
       "      <td>4.603395e-08</td>\n",
       "      <td>0.000000</td>\n",
       "      <td>0.422830</td>\n",
       "      <td>9.107173e-123</td>\n",
       "      <td>...</td>\n",
       "      <td>3.479091e-136</td>\n",
       "      <td>0.000000</td>\n",
       "      <td>0.000000</td>\n",
       "      <td>6.310056e-317</td>\n",
       "      <td>1.620888e-303</td>\n",
       "      <td>4.535872e-302</td>\n",
       "      <td>0.000000e+00</td>\n",
       "      <td>0.411110</td>\n",
       "      <td>3.055774e-135</td>\n",
       "      <td>0.000000e+00</td>\n",
       "    </tr>\n",
       "    <tr>\n",
       "      <th>2</th>\n",
       "      <td>1.716470e-02</td>\n",
       "      <td>3.227898e-03</td>\n",
       "      <td>8.642124e-03</td>\n",
       "      <td>0.000117</td>\n",
       "      <td>3.157087e-03</td>\n",
       "      <td>2.539271e-03</td>\n",
       "      <td>1.805579e-03</td>\n",
       "      <td>0.004502</td>\n",
       "      <td>0.000201</td>\n",
       "      <td>4.951708e-03</td>\n",
       "      <td>...</td>\n",
       "      <td>3.580276e-03</td>\n",
       "      <td>0.005322</td>\n",
       "      <td>0.010197</td>\n",
       "      <td>2.609661e-03</td>\n",
       "      <td>6.658094e-03</td>\n",
       "      <td>6.948049e-03</td>\n",
       "      <td>1.716767e-03</td>\n",
       "      <td>0.000173</td>\n",
       "      <td>2.433319e-03</td>\n",
       "      <td>2.663613e-03</td>\n",
       "    </tr>\n",
       "    <tr>\n",
       "      <th>3</th>\n",
       "      <td>6.431745e-03</td>\n",
       "      <td>1.322360e-02</td>\n",
       "      <td>3.644911e-03</td>\n",
       "      <td>0.000041</td>\n",
       "      <td>8.248447e-04</td>\n",
       "      <td>6.969966e-04</td>\n",
       "      <td>6.551082e-04</td>\n",
       "      <td>0.001014</td>\n",
       "      <td>0.000066</td>\n",
       "      <td>1.219071e-03</td>\n",
       "      <td>...</td>\n",
       "      <td>1.043317e-03</td>\n",
       "      <td>0.017990</td>\n",
       "      <td>0.008009</td>\n",
       "      <td>1.775961e-03</td>\n",
       "      <td>1.700150e-03</td>\n",
       "      <td>1.774696e-03</td>\n",
       "      <td>1.639449e-02</td>\n",
       "      <td>0.000053</td>\n",
       "      <td>1.408340e-03</td>\n",
       "      <td>3.094246e-02</td>\n",
       "    </tr>\n",
       "    <tr>\n",
       "      <th>4</th>\n",
       "      <td>2.356170e-04</td>\n",
       "      <td>2.389454e-05</td>\n",
       "      <td>6.770841e-03</td>\n",
       "      <td>0.000550</td>\n",
       "      <td>1.085496e-02</td>\n",
       "      <td>1.094781e-02</td>\n",
       "      <td>9.646123e-03</td>\n",
       "      <td>0.010380</td>\n",
       "      <td>0.000620</td>\n",
       "      <td>9.632881e-03</td>\n",
       "      <td>...</td>\n",
       "      <td>1.178748e-02</td>\n",
       "      <td>0.003144</td>\n",
       "      <td>0.006128</td>\n",
       "      <td>9.441841e-03</td>\n",
       "      <td>8.587547e-03</td>\n",
       "      <td>8.480219e-03</td>\n",
       "      <td>3.402525e-05</td>\n",
       "      <td>0.000594</td>\n",
       "      <td>1.060822e-02</td>\n",
       "      <td>1.872846e-03</td>\n",
       "    </tr>\n",
       "  </tbody>\n",
       "</table>\n",
       "<p>5 rows × 2528243 columns</p>\n",
       "</div>"
      ],
      "text/plain": [
       "        0             1             2         3             4        \\\n",
       "0  1.506405e-10  2.955820e-11  6.870839e-02  0.002590  2.796015e-02   \n",
       "1  0.000000e+00  0.000000e+00  3.084643e-09  0.425499  2.962716e-14   \n",
       "2  1.716470e-02  3.227898e-03  8.642124e-03  0.000117  3.157087e-03   \n",
       "3  6.431745e-03  1.322360e-02  3.644911e-03  0.000041  8.248447e-04   \n",
       "4  2.356170e-04  2.389454e-05  6.770841e-03  0.000550  1.085496e-02   \n",
       "\n",
       "        5             6         7         8              9        \\\n",
       "0  3.699272e-02  3.165751e-02  0.050388  0.003692   6.974000e-02   \n",
       "1  1.125613e-57  4.603395e-08  0.000000  0.422830  9.107173e-123   \n",
       "2  2.539271e-03  1.805579e-03  0.004502  0.000201   4.951708e-03   \n",
       "3  6.969966e-04  6.551082e-04  0.001014  0.000066   1.219071e-03   \n",
       "4  1.094781e-02  9.646123e-03  0.010380  0.000620   9.632881e-03   \n",
       "\n",
       "       ...             2528233   2528234   2528235        2528236  \\\n",
       "0      ...        4.120701e-02  0.000011  0.001456   4.291106e-02   \n",
       "1      ...       3.479091e-136  0.000000  0.000000  6.310056e-317   \n",
       "2      ...        3.580276e-03  0.005322  0.010197   2.609661e-03   \n",
       "3      ...        1.043317e-03  0.017990  0.008009   1.775961e-03   \n",
       "4      ...        1.178748e-02  0.003144  0.006128   9.441841e-03   \n",
       "\n",
       "         2528237        2528238       2528239   2528240        2528241  \\\n",
       "0   7.735057e-02   7.866100e-02  7.606394e-12  0.002261   4.141485e-02   \n",
       "1  1.620888e-303  4.535872e-302  0.000000e+00  0.411110  3.055774e-135   \n",
       "2   6.658094e-03   6.948049e-03  1.716767e-03  0.000173   2.433319e-03   \n",
       "3   1.700150e-03   1.774696e-03  1.639449e-02  0.000053   1.408340e-03   \n",
       "4   8.587547e-03   8.480219e-03  3.402525e-05  0.000594   1.060822e-02   \n",
       "\n",
       "        2528242  \n",
       "0  2.020798e-08  \n",
       "1  0.000000e+00  \n",
       "2  2.663613e-03  \n",
       "3  3.094246e-02  \n",
       "4  1.872846e-03  \n",
       "\n",
       "[5 rows x 2528243 columns]"
      ]
     },
     "execution_count": 15,
     "metadata": {},
     "output_type": "execute_result"
    }
   ],
   "source": [
    "probs.head()"
   ]
  },
  {
   "cell_type": "code",
   "execution_count": 16,
   "metadata": {
    "collapsed": false
   },
   "outputs": [
    {
     "name": "stdout",
     "output_type": "stream",
     "text": [
      "CPU times: user 36 s, sys: 22.7 s, total: 58.6 s\n",
      "Wall time: 1min 14s\n"
     ]
    }
   ],
   "source": [
    "%%time\n",
    "#pred = clf.predict(testing_file)"
   ]
  },
  {
   "cell_type": "code",
   "execution_count": 18,
   "metadata": {
    "collapsed": true
   },
   "outputs": [],
   "source": [
    "submission = pd.DataFrame()"
   ]
  },
  {
   "cell_type": "code",
   "execution_count": 19,
   "metadata": {
    "collapsed": false
   },
   "outputs": [],
   "source": [
    "submission['id'] = pd.Series(all_test['id'])\n",
    "submission['hotel_cluster'] = pd.Series(pred)"
   ]
  },
  {
   "cell_type": "code",
   "execution_count": 20,
   "metadata": {
    "collapsed": true
   },
   "outputs": [],
   "source": [
    "submission.to_csv('submission.csv', index=False)"
   ]
  }
 ],
 "metadata": {
  "kernelspec": {
   "display_name": "Python 2",
   "language": "python",
   "name": "python2"
  },
  "language_info": {
   "codemirror_mode": {
    "name": "ipython",
    "version": 2
   },
   "file_extension": ".py",
   "mimetype": "text/x-python",
   "name": "python",
   "nbconvert_exporter": "python",
   "pygments_lexer": "ipython2",
   "version": "2.7.11"
  }
 },
 "nbformat": 4,
 "nbformat_minor": 0
}
