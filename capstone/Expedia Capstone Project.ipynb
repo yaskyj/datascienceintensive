{
 "cells": [
  {
   "cell_type": "code",
   "execution_count": 1,
   "metadata": {
    "collapsed": true
   },
   "outputs": [],
   "source": [
    "import pandas as pd\n",
    "from sklearn.metrics import accuracy_score\n",
    "from sklearn.naive_bayes import GaussianNB\n",
    "from datetime import datetime"
   ]
  },
  {
   "cell_type": "code",
   "execution_count": 2,
   "metadata": {
    "collapsed": false
   },
   "outputs": [],
   "source": [
    "train_dtypes = {'date_time': pd.np.object,\n",
    "'site_name': pd.np.int64,\n",
    "'posa_continent': pd.np.int64,\n",
    "'user_location_country': pd.np.int64,\n",
    "'user_location_region': pd.np.int64,\n",
    "'user_location_city': pd.np.int64,\n",
    "'orig_destination_distance': pd.np.float64,\n",
    "'user_id': pd.np.int64,\n",
    "'is_mobile': pd.np.int64,\n",
    "'is_package': pd.np.int64,\n",
    "'channel': pd.np.int64,\n",
    "'srch_ci': pd.np.object,\n",
    "'srch_co': pd.np.object,\n",
    "'srch_adults_cnt': pd.np.int64,\n",
    "'srch_children_cnt': pd.np.int64,\n",
    "'srch_rm_cnt': pd.np.int64,\n",
    "'srch_destination_id': pd.np.int64,\n",
    "'srch_destination_type_id': pd.np.int64,\n",
    "'is_booking': pd.np.int64,\n",
    "'cnt': pd.np.int64,\n",
    "'hotel_continent': pd.np.int64,\n",
    "'hotel_country': pd.np.int64,\n",
    "'hotel_market': pd.np.int64,\n",
    "'hotel_cluster': pd.np.int64}"
   ]
  },
  {
   "cell_type": "code",
   "execution_count": 3,
   "metadata": {
    "collapsed": false
   },
   "outputs": [
    {
     "name": "stdout",
     "output_type": "stream",
     "text": [
      "CPU times: user 1min 15s, sys: 15.6 s, total: 1min 31s\n",
      "Wall time: 3min 40s\n"
     ]
    }
   ],
   "source": [
    "%%time\n",
    "all_train = pd.read_csv('train.csv', dtype=train_dtypes)\n",
    "#temp_train = pd.read_csv('train.csv', dtype=train_dtypes, iterator=True, chunksize=1000)\n",
    "#all_train = pd.concat(temp_train, ignore_index=True)"
   ]
  },
  {
   "cell_type": "code",
   "execution_count": 4,
   "metadata": {
    "collapsed": false
   },
   "outputs": [
    {
     "name": "stdout",
     "output_type": "stream",
     "text": [
      "CPU times: user 9.47 s, sys: 13 s, total: 22.5 s\n",
      "Wall time: 2min 34s\n"
     ]
    }
   ],
   "source": [
    "%%time\n",
    "all_train['orig_destination_distance'] = all_train['orig_destination_distance'].fillna(0.0).astype(int)\n",
    "#all_train['date_time'] = pd.to_datetime(all_train['date_time'], errors='coerce')\n",
    "#all_train['srch_ci'] = pd.to_datetime(all_train['srch_ci'], errors='coerce')\n",
    "#all_train['srch_co'] = pd.to_datetime(all_train['srch_co'], errors='coerce')\n",
    "#Remove dates columns\n",
    "all_train = all_train.drop(['date_time','srch_ci','srch_co','is_booking', 'cnt'], 1)"
   ]
  },
  {
   "cell_type": "code",
   "execution_count": 5,
   "metadata": {
    "collapsed": false
   },
   "outputs": [
    {
     "name": "stdout",
     "output_type": "stream",
     "text": [
      "CPU times: user 2.07 ms, sys: 0 ns, total: 2.07 ms\n",
      "Wall time: 8.44 ms\n"
     ]
    }
   ],
   "source": [
    "%%time\n",
    "#Split into training and test data\n",
    "split = int(0.75*len(all_train))\n",
    "train = all_train[0:split]\n",
    "test  = all_train[split:]"
   ]
  },
  {
   "cell_type": "code",
   "execution_count": 6,
   "metadata": {
    "collapsed": false
   },
   "outputs": [
    {
     "name": "stdout",
     "output_type": "stream",
     "text": [
      "CPU times: user 0 ns, sys: 3.97 ms, total: 3.97 ms\n",
      "Wall time: 9.87 ms\n"
     ]
    }
   ],
   "source": [
    "%%time\n",
    "features_train = train.ix[:,:'hotel_market'] \n",
    "labels_train = train.ix[:,'hotel_cluster':]\n",
    "features_test = test.ix[:,:'hotel_market'] \n",
    "labels_test = test.ix[:,'hotel_cluster':]"
   ]
  },
  {
   "cell_type": "code",
   "execution_count": 7,
   "metadata": {
    "collapsed": false
   },
   "outputs": [],
   "source": [
    "features_train = features_train.values\n",
    "labels_train = labels_train.values\n",
    "features_test = features_test.values\n",
    "labels_test = labels_test.values"
   ]
  },
  {
   "cell_type": "code",
   "execution_count": 8,
   "metadata": {
    "collapsed": false
   },
   "outputs": [
    {
     "name": "stdout",
     "output_type": "stream",
     "text": [
      "CPU times: user 26.5 s, sys: 975 ms, total: 27.5 s\n",
      "Wall time: 54 s\n"
     ]
    }
   ],
   "source": [
    "%%time\n",
    "clf = GaussianNB()\n",
    "clf.fit(features_train, labels_train.ravel())"
   ]
  },
  {
   "cell_type": "code",
   "execution_count": 9,
   "metadata": {
    "collapsed": false
   },
   "outputs": [
    {
     "name": "stdout",
     "output_type": "stream",
     "text": [
      "CPU times: user 2min 9s, sys: 1min 34s, total: 3min 44s\n",
      "Wall time: 6min 48s\n"
     ]
    }
   ],
   "source": [
    "%%time\n",
    "pred = clf.predict(features_test)"
   ]
  },
  {
   "cell_type": "code",
   "execution_count": 11,
   "metadata": {
    "collapsed": false
   },
   "outputs": [
    {
     "name": "stdout",
     "output_type": "stream",
     "text": [
      "0.0577647704175\n"
     ]
    }
   ],
   "source": [
    "print accuracy_score(pred, labels_test.ravel())"
   ]
  },
  {
   "cell_type": "code",
   "execution_count": 12,
   "metadata": {
    "collapsed": true
   },
   "outputs": [],
   "source": [
    "test_dtypes = {'id': pd.np.int64,\n",
    "'date_time': pd.np.object,\n",
    "'site_name': pd.np.int64,\n",
    "'posa_continent': pd.np.int64,\n",
    "'user_location_country': pd.np.int64,\n",
    "'user_location_region': pd.np.int64,\n",
    "'user_location_city': pd.np.int64,\n",
    "'orig_destination_distance': pd.np.float64,\n",
    "'user_id': pd.np.int64,\n",
    "'is_mobile': pd.np.int64,\n",
    "'is_package': pd.np.int64,\n",
    "'channel': pd.np.int64,\n",
    "'srch_ci': pd.np.object,\n",
    "'srch_co': pd.np.object,\n",
    "'srch_adults_cnt': pd.np.int64,\n",
    "'srch_children_cnt': pd.np.int64,\n",
    "'srch_rm_cnt': pd.np.int64,\n",
    "'srch_destination_id': pd.np.int64,\n",
    "'srch_destination_type_id': pd.np.int64,\n",
    "'hotel_continent': pd.np.int64,\n",
    "'hotel_country': pd.np.int64,\n",
    "'hotel_market': pd.np.int64}"
   ]
  },
  {
   "cell_type": "code",
   "execution_count": 13,
   "metadata": {
    "collapsed": false
   },
   "outputs": [
    {
     "name": "stdout",
     "output_type": "stream",
     "text": [
      "CPU times: user 5.6 s, sys: 490 ms, total: 6.09 s\n",
      "Wall time: 20.2 s\n"
     ]
    }
   ],
   "source": [
    "%%time\n",
    "all_test = pd.read_csv('test.csv', dtype=test_dtypes)"
   ]
  },
  {
   "cell_type": "code",
   "execution_count": 14,
   "metadata": {
    "collapsed": true
   },
   "outputs": [],
   "source": [
    "all_test['orig_destination_distance'] = all_train['orig_destination_distance'].fillna(0.0).astype(int)\n",
    "#all_train['date_time'] = pd.to_datetime(all_train['date_time'], errors='coerce')\n",
    "#all_train['srch_ci'] = pd.to_datetime(all_train['srch_ci'], errors='coerce')\n",
    "#all_train['srch_co'] = pd.to_datetime(all_train['srch_co'], errors='coerce')\n",
    "#Remove dates columns\n",
    "testing_file = all_test.drop(['id', 'date_time','srch_ci','srch_co'], 1)"
   ]
  },
  {
   "cell_type": "code",
   "execution_count": 15,
   "metadata": {
    "collapsed": true
   },
   "outputs": [],
   "source": [
    "testing_file = testing_file.values"
   ]
  },
  {
   "cell_type": "code",
   "execution_count": 16,
   "metadata": {
    "collapsed": false
   },
   "outputs": [
    {
     "name": "stdout",
     "output_type": "stream",
     "text": [
      "CPU times: user 36 s, sys: 22.7 s, total: 58.6 s\n",
      "Wall time: 1min 14s\n"
     ]
    }
   ],
   "source": [
    "%%time\n",
    "pred = clf.predict(testing_file)"
   ]
  },
  {
   "cell_type": "code",
   "execution_count": 17,
   "metadata": {
    "collapsed": false,
    "scrolled": false
   },
   "outputs": [
    {
     "data": {
      "text/plain": [
       "2528243"
      ]
     },
     "execution_count": 17,
     "metadata": {},
     "output_type": "execute_result"
    }
   ],
   "source": [
    "len(pred)"
   ]
  },
  {
   "cell_type": "code",
   "execution_count": 18,
   "metadata": {
    "collapsed": true
   },
   "outputs": [],
   "source": [
    "submission = pd.DataFrame()"
   ]
  },
  {
   "cell_type": "code",
   "execution_count": 19,
   "metadata": {
    "collapsed": false
   },
   "outputs": [],
   "source": [
    "submission['id'] = pd.Series(all_test['id'])\n",
    "submission['hotel_cluster'] = pd.Series(pred)"
   ]
  },
  {
   "cell_type": "code",
   "execution_count": 20,
   "metadata": {
    "collapsed": true
   },
   "outputs": [],
   "source": [
    "submission.to_csv('submission.csv', index=False)"
   ]
  }
 ],
 "metadata": {
  "kernelspec": {
   "display_name": "Python 2",
   "language": "python",
   "name": "python2"
  },
  "language_info": {
   "codemirror_mode": {
    "name": "ipython",
    "version": 2
   },
   "file_extension": ".py",
   "mimetype": "text/x-python",
   "name": "python",
   "nbconvert_exporter": "python",
   "pygments_lexer": "ipython2",
   "version": "2.7.11"
  }
 },
 "nbformat": 4,
 "nbformat_minor": 0
}
