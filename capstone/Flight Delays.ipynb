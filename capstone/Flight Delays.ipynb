{
 "cells": [
  {
   "cell_type": "code",
   "execution_count": 1,
   "metadata": {
    "collapsed": false
   },
   "outputs": [
    {
     "name": "stdout",
     "output_type": "stream",
     "text": [
      "CPU times: user 1.22 s, sys: 501 ms, total: 1.72 s\n",
      "Wall time: 3.96 s\n"
     ]
    }
   ],
   "source": [
    "%%time\n",
    "import warnings\n",
    "warnings.filterwarnings('ignore')\n",
    "import pandas as pd\n",
    "import numpy as np\n",
    "from sklearn import cross_validation, ensemble, tree, metrics, preprocessing\n",
    "from sklearn.grid_search import GridSearchCV\n",
    "from sklearn.metrics import confusion_matrix, precision_recall_fscore_support, accuracy_score\n",
    "le = preprocessing.LabelEncoder()\n",
    "import xgboost as xgb\n",
    "from datetime import datetime, date\n",
    "from sklearn.preprocessing import StandardScaler\n",
    "from sklearn.preprocessing import OneHotEncoder\n",
    "import matplotlib.pylab as plt\n",
    "%matplotlib inline\n",
    "from matplotlib.pylab import rcParams\n",
    "rcParams['figure.figsize'] = 12, 4"
   ]
  },
  {
   "cell_type": "code",
   "execution_count": 2,
   "metadata": {
    "collapsed": false
   },
   "outputs": [
    {
     "name": "stdout",
     "output_type": "stream",
     "text": [
      "CPU times: user 51.5 s, sys: 9.78 s, total: 1min 1s\n",
      "Wall time: 1min 2s\n"
     ]
    }
   ],
   "source": [
    "%%time\n",
    "temp_train_2014_1 = pd.read_csv('CAX_Train_2014_Jan_to_Jun.csv')\n",
    "temp_train_2014_2 = pd.read_csv('CAX_Train_2014_Jul_to_Dec.csv')\n",
    "temp_train_2015 = pd.read_csv('CAX_Train_2015.csv')\n",
    "testing = pd.read_csv('CAX_TestSet.csv')\n",
    "weather = pd.read_csv('weather.csv')\n",
    "codes = pd.read_csv('training_weather_cities_joined.csv')"
   ]
  },
  {
   "cell_type": "code",
   "execution_count": 3,
   "metadata": {
    "collapsed": false
   },
   "outputs": [
    {
     "name": "stdout",
     "output_type": "stream",
     "text": [
      "CPU times: user 58.2 s, sys: 4.95 s, total: 1min 3s\n",
      "Wall time: 1min 3s\n"
     ]
    }
   ],
   "source": [
    "%%time\n",
    "weather['week_of_year'] = pd.to_datetime(weather['date'], errors='coerce').dt.weekofyear.astype(int)\n",
    "weather.events.fillna(-1, inplace=True)\n",
    "weather.conditions.fillna(-1, inplace=True)\n",
    "weather.gust_speed_mph.replace('-', -1, inplace=True)\n",
    "weather.gust_speed_mph.fillna(-1, inplace=True)\n",
    "weather.gust_speed_mph = pd.to_numeric(weather.gust_speed_mph, errors='coerce')\n",
    "weather.wind_speed_mph.replace('Calm', 0, inplace=True)\n",
    "weather.wind_speed_mph.fillna(-1, inplace=True)\n",
    "weather.wind_speed_mph = pd.to_numeric(weather.wind_speed_mph, errors='coerce')\n",
    "weather.events.replace(['Fog',\n",
    "'Fog-Hail-Thunderstorm',\n",
    "'Fog-Rain',\n",
    "'Fog-Rain-Hail-Thunderstorm',\n",
    "'Fog-Rain-Snow',\n",
    "'Fog-Rain-Thunderstorm',\n",
    "'Fog-Rain-Thunderstorm-Tornado',\n",
    "'Fog-Snow',\n",
    "'Fog-Snow-Thunderstorm',\n",
    "'Fog-Thunderstorm',\n",
    "'Hail',\n",
    "'Hail-Thunderstorm',\n",
    "'Rain',\n",
    "'Rain-Hail',\n",
    "'Rain-Hail-Thunderstorm',\n",
    "'Rain-Snow',\n",
    "'Rain-Snow-Thunderstorm',\n",
    "'Rain-Thunderstorm',\n",
    "'Rain-Thunderstorm-Tornado',\n",
    "'Rain-Tornado',\n",
    "'Snow',\n",
    "'Snow-Hail',\n",
    "'Snow-Thunderstorm',\n",
    "'Snow-Tornado',\n",
    "'Thunderstorm',\n",
    "'Thunderstorm-Tornado',\n",
    "'Tornado'], [10,\n",
    "80,\n",
    "20,\n",
    "80,\n",
    "60,\n",
    "50,\n",
    "100,\n",
    "60,\n",
    "60,\n",
    "50,\n",
    "80,\n",
    "80,\n",
    "20,\n",
    "80,\n",
    "80,\n",
    "60,\n",
    "60,\n",
    "50,\n",
    "100,\n",
    "100,\n",
    "60,\n",
    "80,\n",
    "60,\n",
    "100,\n",
    "50,\n",
    "100,\n",
    "100], inplace=True)\n",
    "weather.conditions.replace(['Unknown',\n",
    "'Clear',\n",
    "'Overcast',\n",
    "'Partly Cloudy',\n",
    "'Drizzle',\n",
    "'Scattered Clouds',\n",
    "'Mostly Cloudy',\n",
    "'Haze',\n",
    "'Mist',\n",
    "'Patches of Fog',\n",
    "'Rain',\n",
    "'Shallow Fog',\n",
    "'Low Drifting Snow',\n",
    "'Rain Showers',\n",
    "'Light Blowing Snow',\n",
    "'Light Drizzle',\n",
    "'Light Fog',\n",
    "'Light Hail',\n",
    "'Light Ice Pellets',\n",
    "'Light Low Drifting Snow',\n",
    "'Light Mist',\n",
    "'Light Rain',\n",
    "'Light Rain Showers',\n",
    "'Light Sand',\n",
    "'Light Small Hail Showers',\n",
    "'Light Smoke',\n",
    "'Light Snow',\n",
    "'Light Snow Grains',\n",
    "'Light Snow Showers',\n",
    "'Light Thunderstorm',\n",
    "'Light Thunderstorms and Rain',\n",
    "'Light Thunderstorms and Snow',\n",
    "'Light Thunderstorms with Hail',\n",
    "'Light Thunderstorms with Small Hail',\n",
    "'Heavy Blowing Snow',\n",
    "'Heavy Drizzle',\n",
    "'Heavy Freezing Drizzle',\n",
    "'Heavy Freezing Fog',\n",
    "'Heavy Freezing Rain',\n",
    "'Heavy Ice Pellets',\n",
    "'Heavy Rain',\n",
    "'Heavy Rain Showers',\n",
    "'Heavy Small Hail',\n",
    "'Heavy Snow',\n",
    "'Heavy Snow Showers',\n",
    "'Heavy Thunderstorm',\n",
    "'Heavy Thunderstorms and Rain',\n",
    "'Heavy Thunderstorms and Snow',\n",
    "'Heavy Thunderstorms with Hail',\n",
    "'Heavy Thunderstorms with Small Hail',\n",
    "'Ice Crystals',\n",
    "'Ice Pellets',\n",
    "'Funnel Cloud',\n",
    "'Blowing Sand',\n",
    "'Blowing Snow',\n",
    "'Thunderstorm',\n",
    "'Thunderstorms and Rain',\n",
    "'Thunderstorms and Snow',\n",
    "'Thunderstorms with Hail',\n",
    "'Thunderstorms with Small Hail',\n",
    "'Volcanic Ash',\n",
    "'Widespread Dust',\n",
    "'Sand',\n",
    "'Sandstorm',\n",
    "'Small Hail',\n",
    "'Small Hail Showers',\n",
    "'Smoke',\n",
    "'Snow',\n",
    "'Snow Grains',\n",
    "'Snow Showers',\n",
    "'Squalls',\n",
    "'Fog',\n",
    "'Freezing Rain',\n",
    "'Hail',\n",
    "'Light Freezing Drizzle',\n",
    "'Light Freezing Fog',\n",
    "'Light Freezing Rain'], [-1,\n",
    "0,\n",
    "0,\n",
    "0,\n",
    "10,\n",
    "0,\n",
    "0,\n",
    "0,\n",
    "0,\n",
    "10,\n",
    "10,\n",
    "10,\n",
    "30,\n",
    "10,\n",
    "30,\n",
    "10,\n",
    "10,\n",
    "50,\n",
    "70,\n",
    "30,\n",
    "0,\n",
    "10,\n",
    "10,\n",
    "30,\n",
    "50,\n",
    "20,\n",
    "30,\n",
    "70,\n",
    "30,\n",
    "20,\n",
    "20,\n",
    "40,\n",
    "60,\n",
    "60,\n",
    "80,\n",
    "20,\n",
    "70,\n",
    "70,\n",
    "90,\n",
    "80,\n",
    "20,\n",
    "20,\n",
    "70,\n",
    "80,\n",
    "80,\n",
    "50,\n",
    "30,\n",
    "80,\n",
    "80,\n",
    "80,\n",
    "70,\n",
    "70,\n",
    "90,\n",
    "70,\n",
    "70,\n",
    "40,\n",
    "30,\n",
    "70,\n",
    "80,\n",
    "80,\n",
    "100,\n",
    "20,\n",
    "60,\n",
    "80,\n",
    "60,\n",
    "70,\n",
    "20,\n",
    "60,\n",
    "60,\n",
    "60,\n",
    "70,\n",
    "10,\n",
    "80,\n",
    "50,\n",
    "60,\n",
    "50,\n",
    "80], inplace=True)"
   ]
  },
  {
   "cell_type": "code",
   "execution_count": 4,
   "metadata": {
    "collapsed": false
   },
   "outputs": [
    {
     "name": "stdout",
     "output_type": "stream",
     "text": [
      "CPU times: user 1.88 s, sys: 1.59 s, total: 3.47 s\n",
      "Wall time: 3.76 s\n"
     ]
    }
   ],
   "source": [
    "%%time\n",
    "weather_group = weather.groupby( [ 'airport_code', 'week_of_year'] ).mean()\n",
    "weather_group = weather_group.reset_index()\n",
    "weather_group = weather_group.drop('zip', 1)\n",
    "weather_group.fillna(-1, inplace=True)"
   ]
  },
  {
   "cell_type": "code",
   "execution_count": 5,
   "metadata": {
    "collapsed": false
   },
   "outputs": [
    {
     "name": "stdout",
     "output_type": "stream",
     "text": [
      "CPU times: user 8 µs, sys: 1 µs, total: 9 µs\n",
      "Wall time: 12.2 µs\n"
     ]
    }
   ],
   "source": [
    "%%time\n",
    "# this array defines the dates of holiday in 2007 and 2008\n",
    "holidays = [\n",
    "        date(2014, 1, 1), date(2014, 1, 20), date(2014, 5, 26), date(2014, 7, 4), \\\n",
    "        date(2014, 9, 1), date(2014, 11, 27), date(2014, 12, 25), \\\n",
    "        date(2015, 1, 1), date(2015, 1, 19), date(2015, 5, 25), date(2015, 7, 4), \\\n",
    "        date(2015, 9, 7), date(2015, 11, 26), date(2015, 12, 25) \\\n",
    "     ]\n",
    "\n",
    "def days_from_nearest_holiday(year, month, day):\n",
    "  d = date(year, month, day)\n",
    "  x = [(abs(d-h)).days for h in holidays]\n",
    "  return min(x)"
   ]
  },
  {
   "cell_type": "code",
   "execution_count": 6,
   "metadata": {
    "collapsed": false
   },
   "outputs": [
    {
     "name": "stdout",
     "output_type": "stream",
     "text": [
      "CPU times: user 2min 44s, sys: 8.71 s, total: 2min 52s\n",
      "Wall time: 2min 53s\n"
     ]
    }
   ],
   "source": [
    "%%time\n",
    "testing = pd.merge(testing, codes[['ORIGIN', 'city', 'airport_code']], left_on='ORIGIN', right_on='ORIGIN')\n",
    "testing.rename(columns={'city': 'origin_city', 'airport_code': 'origin_icao_code'}, inplace=True)\n",
    "testing = pd.merge(testing, codes[['ORIGIN', 'city', 'airport_code']], left_on='DEST', right_on='ORIGIN')\n",
    "testing.rename(columns={'city': 'dest_city', 'airport_code': 'dest_icao_code', 'ORIGIN_x': 'ORIGIN'}, inplace=True)\n",
    "testing = testing.drop('ORIGIN_y', 1)\n",
    "testing['DAY_OF_YEAR'] = pd.to_datetime(testing['FL_DATE'], errors='coerce').dt.dayofyear.astype(int)\n",
    "testing['WEEK_OF_YEAR'] = pd.to_datetime(testing['FL_DATE'], errors='coerce').dt.weekofyear.astype(int)\n",
    "testing['day'] = pd.to_datetime(testing['FL_DATE'], errors='coerce').dt.day.astype(int)\n",
    "testing['hour'] = testing['CRS_DEP_TIME'].map(lambda x: int(str(int(x)).zfill(4)[:2]))\n",
    "testing['days_from_holidays'] = [days_from_nearest_holiday(r.YEAR, r.MONTH, r.day) for i,r in testing.iterrows()]\n",
    "testing = pd.merge(testing, weather_group, left_on=['origin_icao_code', 'WEEK_OF_YEAR'], right_on=['airport_code', 'week_of_year'], how='left')\n",
    "testing.rename(columns={'conditions': 'orig_conditions', 'airport_code': 'orig_airport_code', 'week_of_year': 'orig_week_of_year', 'temperature_f': 'orig_temperature_f', 'dew_point_f': 'orig_dew_point_f', 'humidity': 'orig_humidity', 'sea_level_pressure_in': 'orig_sea_level_pressure_in', 'visibility_mph': 'orig_visibility_mph', 'wind_speed_mph': 'orig_wind_speed_mph', 'gust_speed_mph': 'orig_gust_speed_mph', 'precipitation_in': 'orig_precipitation_in', 'events': 'orig_events', 'wind_dir_degrees': 'orig_wind_dir_degrees'}, inplace=True)\n",
    "testing = pd.merge(testing, weather_group, left_on=['dest_icao_code', 'WEEK_OF_YEAR'], right_on=['airport_code', 'week_of_year'], how='left')\n",
    "testing.rename(columns={'conditions': 'dest_conditions', 'airport_code': 'dest_airport_code', 'week_of_year': 'dest_week_of_year', 'temperature_f': 'dest_temperature_f', 'dew_point_f': 'dest_dew_point_f', 'humidity': 'dest_humidity', 'sea_level_pressure_in': 'dest_sea_level_pressure_in', 'visibility_mph': 'dest_visibility_mph', 'wind_speed_mph': 'dest_wind_speed_mph', 'gust_speed_mph': 'dest_gust_speed_mph', 'precipitation_in': 'dest_precipitation_in', 'events': 'dest_events', 'wind_dir_degrees': 'dest_wind_dir_degrees'}, inplace=True)\n",
    "testing.fillna(-1, inplace=True)"
   ]
  },
  {
   "cell_type": "code",
   "execution_count": 7,
   "metadata": {
    "collapsed": false
   },
   "outputs": [
    {
     "name": "stdout",
     "output_type": "stream",
     "text": [
      "CPU times: user 16min 53s, sys: 1min 46s, total: 18min 40s\n",
      "Wall time: 19min 29s\n"
     ]
    }
   ],
   "source": [
    "%%time\n",
    "training = pd.concat([temp_train_2014_1, temp_train_2014_2, temp_train_2015], ignore_index=True)\n",
    "training = pd.merge(training, codes[['ORIGIN', 'city', 'airport_code']], left_on='ORIGIN', right_on='ORIGIN')\n",
    "training.rename(columns={'city': 'origin_city', 'airport_code': 'origin_icao_code'}, inplace=True)\n",
    "training = pd.merge(training, codes[['ORIGIN', 'city', 'airport_code']], left_on='DEST', right_on='ORIGIN')\n",
    "training.rename(columns={'city': 'dest_city', 'airport_code': 'dest_icao_code', 'ORIGIN_x': 'ORIGIN'}, inplace=True)\n",
    "training = training.drop('ORIGIN_y', 1)\n",
    "training['DAY_OF_YEAR'] = pd.to_datetime(training['FL_DATE'], errors='coerce').dt.dayofyear.astype(int)\n",
    "training['WEEK_OF_YEAR'] = pd.to_datetime(training['FL_DATE'], errors='coerce').dt.weekofyear.astype(int)\n",
    "training['hour'] = training['CRS_DEP_TIME'].map(lambda x: int(str(int(x)).zfill(4)[:2]))\n",
    "training['day'] = pd.to_datetime(training['FL_DATE'], errors='coerce').dt.day.astype(int)\n",
    "training['days_from_holidays'] = [days_from_nearest_holiday(r.YEAR, r.MONTH, r.day) for i,r in training.iterrows()]\n",
    "training = pd.merge(training, weather_group, left_on=['origin_icao_code', 'WEEK_OF_YEAR'], right_on=['airport_code', 'week_of_year'], how='left')\n",
    "training.rename(columns={'conditions': 'orig_conditions', 'airport_code': 'orig_airport_code', 'week_of_year': 'orig_week_of_year', 'temperature_f': 'orig_temperature_f', 'dew_point_f': 'orig_dew_point_f', 'humidity': 'orig_humidity', 'sea_level_pressure_in': 'orig_sea_level_pressure_in', 'visibility_mph': 'orig_visibility_mph', 'wind_speed_mph': 'orig_wind_speed_mph', 'gust_speed_mph': 'orig_gust_speed_mph', 'precipitation_in': 'orig_precipitation_in', 'events': 'orig_events', 'wind_dir_degrees': 'orig_wind_dir_degrees'}, inplace=True)\n",
    "training = pd.merge(training, weather_group, left_on=['dest_icao_code', 'WEEK_OF_YEAR'], right_on=['airport_code', 'week_of_year'], how='left')\n",
    "training.rename(columns={'conditions': 'dest_conditions', 'airport_code': 'dest_airport_code', 'week_of_year': 'dest_week_of_year', 'temperature_f': 'dest_temperature_f', 'dew_point_f': 'dest_dew_point_f', 'humidity': 'dest_humidity', 'sea_level_pressure_in': 'dest_sea_level_pressure_in', 'visibility_mph': 'dest_visibility_mph', 'wind_speed_mph': 'dest_wind_speed_mph', 'gust_speed_mph': 'dest_gust_speed_mph', 'precipitation_in': 'dest_precipitation_in', 'events': 'dest_events', 'wind_dir_degrees': 'dest_wind_dir_degrees'}, inplace=True)\n",
    "training.fillna(-1, inplace=True)"
   ]
  },
  {
   "cell_type": "code",
   "execution_count": 8,
   "metadata": {
    "collapsed": false
   },
   "outputs": [
    {
     "name": "stdout",
     "output_type": "stream",
     "text": [
      "CPU times: user 136 µs, sys: 45 µs, total: 181 µs\n",
      "Wall time: 165 µs\n"
     ]
    }
   ],
   "source": [
    "%%time\n",
    "features = [c for c in training.columns if c in ['days_from_holidays', 'DAY_OF_MONTH', 'DAY_OF_WEEK', 'UNIQUE_CARRIER', 'ORIGIN', 'DEST', 'DISTANCE', 'hour', 'orig_temperature_f', 'orig_dew_point_f', 'orig_humidity', 'orig_sea_level_pressure_in', 'orig_visibility_mph', 'orig_wind_speed_mph', 'orig_gust_speed_mph', 'orig_precipitation_in', 'orig_events', 'orig_conditions', 'orig_wind_dir_degrees', 'dest_temperature_f', 'dest_dew_point_f', 'dest_humidity', 'dest_sea_level_pressure_in', 'dest_visibility_mph', 'dest_wind_speed_mph', 'dest_gust_speed_mph', 'dest_precipitation_in', 'dest_events', 'dest_conditions', 'dest_wind_dir_degrees']]"
   ]
  },
  {
   "cell_type": "code",
   "execution_count": 9,
   "metadata": {
    "collapsed": false
   },
   "outputs": [
    {
     "name": "stdout",
     "output_type": "stream",
     "text": [
      "8496931\n",
      "7796102\n",
      "CPU times: user 25.7 s, sys: 50.1 s, total: 1min 15s\n",
      "Wall time: 1min 40s\n"
     ]
    }
   ],
   "source": [
    "%%time\n",
    "print len(training)\n",
    "columns = ['DAY_OF_MONTH', 'DAY_OF_WEEK', 'UNIQUE_CARRIER', 'ORIGIN', 'DEST', 'hour']\n",
    "for i in columns:\n",
    "    mask = training[i].isin(list(testing[i].drop_duplicates().values))\n",
    "    training = training[mask]\n",
    "#     difference = [c for c in list(test_training[i].drop_duplicates().values) if c not in list(test_testing[i].drop_duplicates().values)]\n",
    "#     print i, difference, len(test_training[i].drop_duplicates()), len(test_testing[i].drop_duplicates())\n",
    "print len(training)"
   ]
  },
  {
   "cell_type": "code",
   "execution_count": 10,
   "metadata": {
    "collapsed": false
   },
   "outputs": [
    {
     "data": {
      "text/plain": [
       "<matplotlib.axes._subplots.AxesSubplot at 0x1f7f652d0>"
      ]
     },
     "execution_count": 10,
     "metadata": {},
     "output_type": "execute_result"
    },
    {
     "data": {
      "image/png": "[encoded data removed]",
      "text/plain": [
       "<matplotlib.figure.Figure at 0x145b10210>"
      ]
     },
     "metadata": {},
     "output_type": "display_data"
    }
   ],
   "source": [
    "# Select a Pandas dataframe with flight originating from ORD\n",
    "\n",
    "# Compute average number of delayed flights per month\n",
    "grouped = training[['ARR_DEL15', 'MONTH']].groupby('MONTH').mean()\n",
    "\n",
    "# plot average delays by month\n",
    "grouped.plot(kind='bar')"
   ]
  },
  {
   "cell_type": "code",
   "execution_count": 11,
   "metadata": {
    "collapsed": false
   },
   "outputs": [
    {
     "data": {
      "text/plain": [
       "<matplotlib.axes._subplots.AxesSubplot at 0x103c41650>"
      ]
     },
     "execution_count": 11,
     "metadata": {},
     "output_type": "execute_result"
    },
    {
     "data": {
      "image/png": "[encoded data removed]",
      "text/plain": [
       "<matplotlib.figure.Figure at 0x145b10410>"
      ]
     },
     "metadata": {},
     "output_type": "display_data"
    }
   ],
   "source": [
    "# Compute average number of delayed flights by hour\n",
    "grouped = training[['ARR_DEL15', 'hour']].groupby('hour').mean()\n",
    "\n",
    "# plot average delays by hour of day\n",
    "grouped.plot(kind='bar')"
   ]
  },
  {
   "cell_type": "code",
   "execution_count": 12,
   "metadata": {
    "collapsed": false
   },
   "outputs": [
    {
     "data": {
      "text/plain": [
       "<matplotlib.axes._subplots.AxesSubplot at 0x116433610>"
      ]
     },
     "execution_count": 12,
     "metadata": {},
     "output_type": "execute_result"
    },
    {
     "data": {
      "image/png": "[encoded data removed]",
      "text/plain": [
       "<matplotlib.figure.Figure at 0x11945ef90>"
      ]
     },
     "metadata": {},
     "output_type": "display_data"
    }
   ],
   "source": [
    "# Compute average number of delayed flights per carrier\n",
    "grouped1 = training[['ARR_DEL15', 'UNIQUE_CARRIER']].groupby('UNIQUE_CARRIER').filter(lambda x: len(x)>10)\n",
    "grouped2 = grouped1.groupby('UNIQUE_CARRIER').mean()\n",
    "carrier = grouped2.sort(['ARR_DEL15'], ascending=False)\n",
    "\n",
    "# display top 15 destination carriers by delay (from ORD)\n",
    "carrier.plot(kind='bar')"
   ]
  },
  {
   "cell_type": "code",
   "execution_count": 13,
   "metadata": {
    "collapsed": false
   },
   "outputs": [
    {
     "name": "stdout",
     "output_type": "stream",
     "text": [
      "CPU times: user 24.3 s, sys: 26.9 s, total: 51.1 s\n",
      "Wall time: 1min 13s\n"
     ]
    }
   ],
   "source": [
    "%%time\n",
    "delayed = training[training['ARR_DEL15'] == 1]\n",
    "on_time = training[training['ARR_DEL15'] == 0]\n",
    "sample_rows = np.random.choice(on_time.index.values, (len(delayed)))\n",
    "on_time = on_time.ix[sample_rows]\n",
    "training = pd.concat([on_time, delayed], ignore_index=True)"
   ]
  },
  {
   "cell_type": "code",
   "execution_count": null,
   "metadata": {
    "collapsed": false
   },
   "outputs": [],
   "source": [
    "# print (pd.to_datetime(training['FL_DATE'], errors='coerce').min()), (pd.to_datetime(training['FL_DATE'], errors='coerce').max())\n",
    "# print (pd.to_datetime(testing['FL_DATE'], errors='coerce').min()), (pd.to_datetime(testing['FL_DATE'], errors='coerce').max())\n",
    "# print (pd.to_datetime(weather['date'], errors='coerce').min()), (pd.to_datetime(weather['date'], errors='coerce').max())"
   ]
  },
  {
   "cell_type": "code",
   "execution_count": 14,
   "metadata": {
    "collapsed": false
   },
   "outputs": [
    {
     "name": "stdout",
     "output_type": "stream",
     "text": [
      "CPU times: user 11.6 s, sys: 625 ms, total: 12.2 s\n",
      "Wall time: 12.5 s\n"
     ]
    }
   ],
   "source": [
    "%%time\n",
    "training.UNIQUE_CARRIER = le.fit_transform(training.UNIQUE_CARRIER)\n",
    "training.ORIGIN = le.fit_transform(training.ORIGIN)\n",
    "training.DEST = le.fit_transform(training.DEST)"
   ]
  },
  {
   "cell_type": "code",
   "execution_count": 15,
   "metadata": {
    "collapsed": false
   },
   "outputs": [
    {
     "name": "stdout",
     "output_type": "stream",
     "text": [
      "CPU times: user 9.8 s, sys: 9 s, total: 18.8 s\n",
      "Wall time: 24.7 s\n"
     ]
    }
   ],
   "source": [
    "%%time\n",
    "features_train, features_test, labels_train, labels_test = cross_validation.train_test_split(training[features], training['ARR_DEL15'], test_size=0.50)\n",
    "features_train, features_test, labels_train, labels_test = cross_validation.train_test_split(features_train, labels_train, test_size=0.40)\n",
    "# features_train, features_test, labels_train, labels_test = cross_validation.train_test_split(features_train, labels_train, test_size=0.40)"
   ]
  },
  {
   "cell_type": "code",
   "execution_count": null,
   "metadata": {
    "collapsed": false
   },
   "outputs": [],
   "source": [
    "%%time\n",
    "categ = [list(features_train.columns).index(x) for x in 'DAY_OF_MONTH', 'DAY_OF_WEEK', 'UNIQUE_CARRIER', 'ORIGIN', 'DEST', 'hour']\n",
    "enc = OneHotEncoder(categorical_features = categ)\n",
    "features_train['UNIQUE_CARRIER'] = pd.factorize(features_train['UNIQUE_CARRIER'])[0]\n",
    "features_train['ORIGIN'] = pd.factorize(features_train['ORIGIN'])[0]\n",
    "features_train['DEST'] = pd.factorize(features_train['DEST'])[0]\n",
    "features_train = enc.fit_transform(features_train)\n",
    "\n",
    "features_test['UNIQUE_CARRIER'] = pd.factorize(features_test['UNIQUE_CARRIER'])[0]\n",
    "features_test['ORIGIN'] = pd.factorize(features_test['ORIGIN'])[0]\n",
    "features_test['DEST'] = pd.factorize(features_test['DEST'])[0]\n",
    "features_test = enc.transform(features_test)\n",
    "\n",
    "print features_train.shape"
   ]
  },
  {
   "cell_type": "code",
   "execution_count": null,
   "metadata": {
    "collapsed": false
   },
   "outputs": [],
   "source": [
    "%%time\n",
    "# features_test['UNIQUE_CARRIER'] = pd.factorize(features_test['UNIQUE_CARRIER'])[0]\n",
    "# features_test['ORIGIN'] = pd.factorize(features_test['ORIGIN'])[0]\n",
    "# features_test['DEST'] = pd.factorize(features_test['DEST'])[0]\n",
    "# features_test['origin_icao_code'] = pd.factorize(features_test['origin_icao_code'])[0]\n",
    "# features_test['dest_icao_code'] = pd.factorize(features_test['dest_icao_code'])[0]\n",
    "# features_test = enc.transform(features_test)\n",
    "\n",
    "testing['UNIQUE_CARRIER'] = pd.factorize(testing['UNIQUE_CARRIER'])[0]\n",
    "testing['ORIGIN'] = pd.factorize(testing['ORIGIN'])[0]\n",
    "testing['DEST'] = pd.factorize(testing['DEST'])[0]\n",
    "testing_trans = enc.transform(testing[features])\n",
    "print testing_trans.shape"
   ]
  },
  {
   "cell_type": "code",
   "execution_count": 18,
   "metadata": {
    "collapsed": false
   },
   "outputs": [
    {
     "name": "stdout",
     "output_type": "stream",
     "text": [
      "CPU times: user 5 µs, sys: 8 µs, total: 13 µs\n",
      "Wall time: 42.2 µs\n"
     ]
    }
   ],
   "source": [
    "%%time\n",
    "def modelfit(alg, features, labels, useTrainCV=True, cv_folds=5, early_stopping_rounds=10):\n",
    "    \n",
    "    if useTrainCV:\n",
    "        xgb_param = alg.get_xgb_params()\n",
    "        xgtrain = xgb.DMatrix(features.values, label=labels.values)\n",
    "        cvresult = xgb.cv(xgb_param, xgtrain, num_boost_round=alg.get_params()['n_estimators'], nfold=cv_folds,\n",
    "            metrics=['auc'], early_stopping_rounds=early_stopping_rounds, show_progress=True)\n",
    "        alg.set_params(n_estimators=cvresult.shape[0])\n",
    "    \n",
    "    #Fit the algorithm on the data\n",
    "    alg.fit(features, labels, eval_metric='auc')\n",
    "        \n",
    "    #Predict training set:\n",
    "    dtrain_predictions = alg.predict(features)\n",
    "    dtrain_predprob = alg.predict_proba(features)[:,1]\n",
    "        \n",
    "    #Print model report:\n",
    "    print \"\\nModel Report\"\n",
    "    print \"Accuracy : %.4g\" % metrics.accuracy_score(labels.values, dtrain_predictions)\n",
    "    print \"AUC Score (Train): %f\" % metrics.roc_auc_score(labels, dtrain_predprob)\n",
    "                    \n",
    "    feat_imp = pd.Series(alg.booster().get_fscore()).sort_values(ascending=False)\n",
    "    feat_imp.plot(kind='bar', title='Feature Importances')\n",
    "    plt.ylabel('Feature Importance Score')"
   ]
  },
  {
   "cell_type": "code",
   "execution_count": 17,
   "metadata": {
    "collapsed": false,
    "scrolled": true
   },
   "outputs": [
    {
     "name": "stderr",
     "output_type": "stream",
     "text": [
      "Will train until cv error hasn't decreased in 50 rounds.\n",
      "[0]\tcv-test-auc:0.622138+0.02697195043\tcv-train-auc:0.623945+0.0259324766345\n",
      "[1]\tcv-test-auc:0.6565948+0.00205542301242\tcv-train-auc:0.6577216+0.00134319776653\n",
      "[2]\tcv-test-auc:0.6635022+0.00201267855357\tcv-train-auc:0.665282+0.00158719677419\n",
      "[3]\tcv-test-auc:0.667217+0.00230531169259\tcv-train-auc:0.6691986+0.00204247669265\n",
      "[4]\tcv-test-auc:0.671516+0.00172251432505\tcv-train-auc:0.6736814+0.00181216827033\n",
      "[5]\tcv-test-auc:0.674305+0.00142369800168\tcv-train-auc:0.6769146+0.00159971667491\n",
      "[6]\tcv-test-auc:0.6774+0.0012654986369\tcv-train-auc:0.6801236+0.00104823348544\n",
      "[7]\tcv-test-auc:0.6795204+0.000801512220743\tcv-train-auc:0.6826098+0.0010208334634\n",
      "[8]\tcv-test-auc:0.6818394+0.000682329421907\tcv-train-auc:0.685339+0.000927868956265\n",
      "[9]\tcv-test-auc:0.6835532+0.000598389304717\tcv-train-auc:0.6875074+0.000632742791346\n",
      "[10]\tcv-test-auc:0.685106+0.000880833014822\tcv-train-auc:0.6892022+0.000337478532651\n",
      "[11]\tcv-test-auc:0.6861444+0.00095212826867\tcv-train-auc:0.6905136+0.00050321709033\n",
      "[12]\tcv-test-auc:0.6872044+0.00062514465526\tcv-train-auc:0.6917828+0.000365559516358\n",
      "[13]\tcv-test-auc:0.6879402+0.00052224875299\tcv-train-auc:0.6928534+0.000298688868222\n",
      "[14]\tcv-test-auc:0.6891574+0.00058150755799\tcv-train-auc:0.6943336+0.000606989159705\n",
      "[15]\tcv-test-auc:0.6902496+0.000705399914942\tcv-train-auc:0.6957008+0.000643722424652\n",
      "[16]\tcv-test-auc:0.6911612+0.000562538674226\tcv-train-auc:0.6968512+0.000644193573392\n",
      "[17]\tcv-test-auc:0.6918384+0.000627618865236\tcv-train-auc:0.69792+0.00068162188932\n",
      "[18]\tcv-test-auc:0.692766+0.000458310375183\tcv-train-auc:0.6990188+0.000467677410188\n",
      "[19]\tcv-test-auc:0.6934064+0.000411965338348\tcv-train-auc:0.6999864+0.000382430438119\n",
      "[20]\tcv-test-auc:0.6940018+0.000494522557625\tcv-train-auc:0.700876+0.000296976093314\n",
      "[21]\tcv-test-auc:0.6944426+0.000567530298751\tcv-train-auc:0.7016468+0.000399908689578\n",
      "[22]\tcv-test-auc:0.6950502+0.000678841189086\tcv-train-auc:0.7025148+0.000498847632048\n",
      "[23]\tcv-test-auc:0.6956494+0.000645422838146\tcv-train-auc:0.703344+0.000557550715182\n",
      "[24]\tcv-test-auc:0.6964394+0.000655064760157\tcv-train-auc:0.7043478+0.000539386095483\n",
      "[25]\tcv-test-auc:0.6970256+0.000659380497133\tcv-train-auc:0.7051216+0.000624803841217\n",
      "[26]\tcv-test-auc:0.6975628+0.000623305190096\tcv-train-auc:0.7058992+0.000560980356162\n",
      "[27]\tcv-test-auc:0.6981696+0.000946143033584\tcv-train-auc:0.7067136+0.000800976304269\n",
      "[28]\tcv-test-auc:0.6989004+0.000620636640878\tcv-train-auc:0.707685+0.000728682098037\n",
      "[29]\tcv-test-auc:0.699404+0.000639094672173\tcv-train-auc:0.7083202+0.00064468051002\n",
      "[30]\tcv-test-auc:0.6998414+0.000516460492197\tcv-train-auc:0.709032+0.000638192134079\n",
      "[31]\tcv-test-auc:0.7003388+0.000265005207496\tcv-train-auc:0.709723+0.000509477771841\n",
      "[32]\tcv-test-auc:0.7007636+0.000303863521996\tcv-train-auc:0.7103144+0.000446089049406\n",
      "[33]\tcv-test-auc:0.7011314+0.000397902802202\tcv-train-auc:0.7108558+0.000528529431536\n",
      "[34]\tcv-test-auc:0.7014794+0.000536090514745\tcv-train-auc:0.7113874+0.000608896575783\n",
      "[35]\tcv-test-auc:0.701774+0.000592773818585\tcv-train-auc:0.7118936+0.000700740636755\n",
      "[36]\tcv-test-auc:0.7019162+0.00063879023161\tcv-train-auc:0.7123276+0.00068172768757\n",
      "[37]\tcv-test-auc:0.702126+0.000520993282106\tcv-train-auc:0.712799+0.000579255729363\n",
      "[38]\tcv-test-auc:0.7023586+0.00057751384399\tcv-train-auc:0.713286+0.000636429729035\n",
      "[39]\tcv-test-auc:0.7025588+0.000545553077161\tcv-train-auc:0.713735+0.000628768637895\n",
      "[40]\tcv-test-auc:0.7029116+0.000421730055841\tcv-train-auc:0.7143354+0.000531314445503\n",
      "[41]\tcv-test-auc:0.7033064+0.000442509932092\tcv-train-auc:0.714917+0.000615934412093\n",
      "[42]\tcv-test-auc:0.7034324+0.000500201799277\tcv-train-auc:0.7152424+0.000633122294664\n",
      "[43]\tcv-test-auc:0.7034528+0.000496326666622\tcv-train-auc:0.7156146+0.000634975464093\n",
      "[44]\tcv-test-auc:0.703724+0.000445862310585\tcv-train-auc:0.716096+0.000591153448776\n",
      "[45]\tcv-test-auc:0.7039482+0.000466674361841\tcv-train-auc:0.716537+0.000638251361142\n",
      "[46]\tcv-test-auc:0.7042282+0.000534568012511\tcv-train-auc:0.7170144+0.000666842890042\n",
      "[47]\tcv-test-auc:0.7043886+0.000574423049677\tcv-train-auc:0.7173772+0.000671865284116\n",
      "[48]\tcv-test-auc:0.7046056+0.000666979639869\tcv-train-auc:0.7177852+0.000686737329697\n",
      "[49]\tcv-test-auc:0.704829+0.000698942916124\tcv-train-auc:0.7182366+0.000807149701109\n",
      "[50]\tcv-test-auc:0.7050326+0.000681977301675\tcv-train-auc:0.7186636+0.000801151820818\n",
      "[51]\tcv-test-auc:0.705108+0.00072418146897\tcv-train-auc:0.718991+0.000815302152579\n",
      "[52]\tcv-test-auc:0.7051826+0.000623296590717\tcv-train-auc:0.7193422+0.000801352706366\n",
      "[53]\tcv-test-auc:0.7053208+0.000615699732012\tcv-train-auc:0.7196968+0.000727625013314\n",
      "[54]\tcv-test-auc:0.7054526+0.000587513267935\tcv-train-auc:0.720028+0.000674949479591\n",
      "[55]\tcv-test-auc:0.7055256+0.000635535868382\tcv-train-auc:0.7203166+0.000693380299691\n",
      "[56]\tcv-test-auc:0.7057504+0.000758835845226\tcv-train-auc:0.720738+0.000739143017284\n",
      "[57]\tcv-test-auc:0.7058838+0.000791208796715\tcv-train-auc:0.7210754+0.000739321202185\n",
      "[58]\tcv-test-auc:0.7059368+0.000846100561399\tcv-train-auc:0.7213628+0.000751808326637\n",
      "[59]\tcv-test-auc:0.7061954+0.00100998942569\tcv-train-auc:0.7218078+0.000756485928488\n",
      "[60]\tcv-test-auc:0.7064738+0.00110807317448\tcv-train-auc:0.7222962+0.000853303556772\n",
      "[61]\tcv-test-auc:0.7064948+0.00111768875811\tcv-train-auc:0.7225382+0.000869784892948\n",
      "[62]\tcv-test-auc:0.7065832+0.0011600407579\tcv-train-auc:0.7228568+0.000895476945544\n",
      "[63]\tcv-test-auc:0.7067308+0.00112584624172\tcv-train-auc:0.7232136+0.000830731388597\n",
      "[64]\tcv-test-auc:0.7068538+0.00110221856272\tcv-train-auc:0.7235482+0.000737050174683\n",
      "[65]\tcv-test-auc:0.707047+0.000955220602793\tcv-train-auc:0.7239338+0.00058895072799\n",
      "[66]\tcv-test-auc:0.7071522+0.00099014330276\tcv-train-auc:0.7242536+0.000643815066615\n",
      "[67]\tcv-test-auc:0.7072512+0.000958978498195\tcv-train-auc:0.72455+0.000665821597727\n",
      "[68]\tcv-test-auc:0.7072434+0.000870023815766\tcv-train-auc:0.724823+0.000675748473916\n",
      "[69]\tcv-test-auc:0.7073616+0.000875912918046\tcv-train-auc:0.7251114+0.000707528826268\n",
      "[70]\tcv-test-auc:0.7074638+0.000901351518554\tcv-train-auc:0.7254238+0.00074014630986\n",
      "[71]\tcv-test-auc:0.7076418+0.000800292796419\tcv-train-auc:0.7257854+0.000625771076353\n",
      "[72]\tcv-test-auc:0.7076526+0.000765118971141\tcv-train-auc:0.7260274+0.000660074723043\n",
      "[73]\tcv-test-auc:0.7077092+0.000828956548922\tcv-train-auc:0.7262992+0.000702343334844\n",
      "[74]\tcv-test-auc:0.7078894+0.000772557984879\tcv-train-auc:0.7266846+0.000662768617241\n",
      "[75]\tcv-test-auc:0.7079592+0.000711542099949\tcv-train-auc:0.7269248+0.000620987729347\n",
      "[76]\tcv-test-auc:0.7080746+0.000659830766182\tcv-train-auc:0.7272018+0.000612655008957\n",
      "[77]\tcv-test-auc:0.7081428+0.0006610380927\tcv-train-auc:0.72748+0.000670830828153\n",
      "[78]\tcv-test-auc:0.7081926+0.000670400357995\tcv-train-auc:0.727762+0.000730732782897\n",
      "[79]\tcv-test-auc:0.7082248+0.000610711519459\tcv-train-auc:0.7279976+0.000718950512901\n",
      "[80]\tcv-test-auc:0.7083048+0.000583803871176\tcv-train-auc:0.7282672+0.00068166777832\n",
      "[81]\tcv-test-auc:0.70844+0.000629709139206\tcv-train-auc:0.7285738+0.000717943006095\n",
      "[82]\tcv-test-auc:0.7084504+0.000621518656196\tcv-train-auc:0.728811+0.000745033422069\n",
      "[83]\tcv-test-auc:0.7085478+0.000614741376515\tcv-train-auc:0.7291466+0.000674258585411\n",
      "[84]\tcv-test-auc:0.7085754+0.00065046401899\tcv-train-auc:0.729372+0.000704978013842\n",
      "[85]\tcv-test-auc:0.7086444+0.000618193367807\tcv-train-auc:0.7296338+0.000722754010712\n",
      "[86]\tcv-test-auc:0.7087494+0.000611111315556\tcv-train-auc:0.729964+0.000721917723844\n",
      "[87]\tcv-test-auc:0.708761+0.000574113925976\tcv-train-auc:0.7301842+0.000752002499996\n",
      "[88]\tcv-test-auc:0.7087988+0.000582208347587\tcv-train-auc:0.7304034+0.000742126027033\n",
      "[89]\tcv-test-auc:0.708918+0.000650035383652\tcv-train-auc:0.7306962+0.000730023944813\n",
      "[90]\tcv-test-auc:0.7089972+0.000558874726571\tcv-train-auc:0.7309802+0.000696480121755\n",
      "[91]\tcv-test-auc:0.709013+0.000678885262765\tcv-train-auc:0.7312164+0.000739467538165\n",
      "[92]\tcv-test-auc:0.709066+0.000710470548299\tcv-train-auc:0.7314932+0.000728345906833\n",
      "[93]\tcv-test-auc:0.7090508+0.000696837829054\tcv-train-auc:0.731689+0.000747387182122\n",
      "[94]\tcv-test-auc:0.7091586+0.000836202033004\tcv-train-auc:0.7319794+0.000810841192836\n",
      "[95]\tcv-test-auc:0.7092798+0.000871230256591\tcv-train-auc:0.7322306+0.000791946109278\n",
      "[96]\tcv-test-auc:0.7095128+0.000788137652952\tcv-train-auc:0.7325764+0.000841204517344\n",
      "[97]\tcv-test-auc:0.709532+0.00074800935823\tcv-train-auc:0.7327838+0.000868158833394\n",
      "[98]\tcv-test-auc:0.7095982+0.000759425151019\tcv-train-auc:0.733005+0.000867490864505\n",
      "[99]\tcv-test-auc:0.7096536+0.000750211596818\tcv-train-auc:0.7332272+0.000852073095456\n",
      "[100]\tcv-test-auc:0.7097982+0.000698139069241\tcv-train-auc:0.7335336+0.000945699021888\n",
      "[101]\tcv-test-auc:0.709835+0.000699980285437\tcv-train-auc:0.7337244+0.000953636744259\n",
      "[102]\tcv-test-auc:0.7098482+0.000657188070494\tcv-train-auc:0.733955+0.000913608231136\n",
      "[103]\tcv-test-auc:0.7098442+0.000633309529377\tcv-train-auc:0.7341544+0.00085599336446\n",
      "[104]\tcv-test-auc:0.7099066+0.000537388723365\tcv-train-auc:0.734377+0.000821586270577\n",
      "[105]\tcv-test-auc:0.7100064+0.000547807849524\tcv-train-auc:0.734652+0.000776780277814\n",
      "[106]\tcv-test-auc:0.7099834+0.000484107673973\tcv-train-auc:0.7348736+0.000783494888305\n",
      "[107]\tcv-test-auc:0.7100832+0.000523621007982\tcv-train-auc:0.7351458+0.000673315795151\n",
      "[108]\tcv-test-auc:0.7101722+0.000454246805162\tcv-train-auc:0.7354516+0.00071393517913\n",
      "[109]\tcv-test-auc:0.7102332+0.000444528244322\tcv-train-auc:0.735725+0.000722184187033\n",
      "[110]\tcv-test-auc:0.7102984+0.000469009424212\tcv-train-auc:0.7359836+0.000695989252791\n",
      "[111]\tcv-test-auc:0.7103304+0.000381668756908\tcv-train-auc:0.7362182+0.000690195740352\n",
      "[112]\tcv-test-auc:0.7103178+0.000442835590259\tcv-train-auc:0.7364198+0.000687979767144\n",
      "[113]\tcv-test-auc:0.7103764+0.000426058963056\tcv-train-auc:0.736682+0.000650128295031\n",
      "[114]\tcv-test-auc:0.7104272+0.000406249873846\tcv-train-auc:0.7369066+0.000660620193455\n",
      "[115]\tcv-test-auc:0.710546+0.000453212974219\tcv-train-auc:0.7371194+0.00066326272321\n",
      "[116]\tcv-test-auc:0.710548+0.00053593954883\tcv-train-auc:0.737314+0.000649608189604\n",
      "[117]\tcv-test-auc:0.710599+0.000581712987649\tcv-train-auc:0.7375214+0.00063001161894\n",
      "[118]\tcv-test-auc:0.710679+0.000620715715928\tcv-train-auc:0.737723+0.000682101165517\n",
      "[119]\tcv-test-auc:0.7107452+0.000516291158166\tcv-train-auc:0.7379786+0.000708923014156\n",
      "[120]\tcv-test-auc:0.7107284+0.000494915184653\tcv-train-auc:0.7381776+0.000696404365294\n",
      "[121]\tcv-test-auc:0.7107632+0.000494469574393\tcv-train-auc:0.7383802+0.000676574726102\n",
      "[122]\tcv-test-auc:0.7108966+0.000544860936387\tcv-train-auc:0.7386026+0.00063989674167\n",
      "[123]\tcv-test-auc:0.7109284+0.000562528790374\tcv-train-auc:0.7388126+0.000639301681524\n",
      "[124]\tcv-test-auc:0.7109344+0.00059145569572\tcv-train-auc:0.7389976+0.000637128746801\n",
      "[125]\tcv-test-auc:0.7109744+0.000720743671495\tcv-train-auc:0.7391838+0.000684541130978\n",
      "[126]\tcv-test-auc:0.7109266+0.000726102637373\tcv-train-auc:0.7393444+0.000684755313963\n",
      "[127]\tcv-test-auc:0.7109462+0.000651667215686\tcv-train-auc:0.7395058+0.000704224793656\n",
      "[128]\tcv-test-auc:0.7109802+0.000692852769353\tcv-train-auc:0.739649+0.000721697166407\n",
      "[129]\tcv-test-auc:0.7110488+0.000680183916305\tcv-train-auc:0.739869+0.000685263452987\n",
      "[130]\tcv-test-auc:0.7110566+0.000651786652211\tcv-train-auc:0.7400468+0.000669538766615\n",
      "[131]\tcv-test-auc:0.7110716+0.000702074810829\tcv-train-auc:0.7401986+0.000668977607996\n",
      "[132]\tcv-test-auc:0.7111084+0.000697464723122\tcv-train-auc:0.7403344+0.000660612322016\n",
      "[133]\tcv-test-auc:0.7110914+0.000730221500642\tcv-train-auc:0.7405078+0.000691300629249\n",
      "[134]\tcv-test-auc:0.7110396+0.000680029587592\tcv-train-auc:0.7406606+0.000663007269945\n",
      "[135]\tcv-test-auc:0.7110848+0.000733568101815\tcv-train-auc:0.7408466+0.000615678682431\n",
      "[136]\tcv-test-auc:0.7111112+0.000742308938381\tcv-train-auc:0.741017+0.000621616280353\n",
      "[137]\tcv-test-auc:0.7111848+0.000770080359443\tcv-train-auc:0.74121+0.000622206718061\n",
      "[138]\tcv-test-auc:0.711199+0.000790272864269\tcv-train-auc:0.7413838+0.000625680237821\n",
      "[139]\tcv-test-auc:0.711193+0.000750919436424\tcv-train-auc:0.7415702+0.000643689801069\n",
      "[140]\tcv-test-auc:0.7112518+0.000820370745456\tcv-train-auc:0.7417582+0.000643107891415\n",
      "[141]\tcv-test-auc:0.7113696+0.000749098818581\tcv-train-auc:0.7419732+0.000664179012014\n",
      "[142]\tcv-test-auc:0.711344+0.000788449871583\tcv-train-auc:0.7421436+0.0006719430333\n",
      "[143]\tcv-test-auc:0.7113482+0.000832804995182\tcv-train-auc:0.7423244+0.000666883977915\n",
      "[144]\tcv-test-auc:0.7113142+0.000813038104888\tcv-train-auc:0.742499+0.000633589141321\n",
      "[145]\tcv-test-auc:0.711304+0.000813533527275\tcv-train-auc:0.742657+0.000645161995161\n",
      "[146]\tcv-test-auc:0.711267+0.000759169282835\tcv-train-auc:0.742817+0.000642872304583\n",
      "[147]\tcv-test-auc:0.711329+0.000689262794586\tcv-train-auc:0.7430016+0.000601117159961\n",
      "[148]\tcv-test-auc:0.711345+0.000725135573531\tcv-train-auc:0.7431892+0.000566959751658\n",
      "[149]\tcv-test-auc:0.7113492+0.000701847105857\tcv-train-auc:0.7433696+0.000560612736209\n",
      "[150]\tcv-test-auc:0.7113636+0.0006926253244\tcv-train-auc:0.7435358+0.000579485772043\n",
      "[151]\tcv-test-auc:0.7113842+0.000774951198464\tcv-train-auc:0.7436794+0.000592739268144\n",
      "[152]\tcv-test-auc:0.7113654+0.000782729736244\tcv-train-auc:0.7438328+0.000600173108361\n",
      "[153]\tcv-test-auc:0.7113918+0.000776557377146\tcv-train-auc:0.7439878+0.000597066294477\n",
      "[154]\tcv-test-auc:0.7114266+0.000810556993678\tcv-train-auc:0.7441654+0.000607947234552\n",
      "[155]\tcv-test-auc:0.7113788+0.000749850758485\tcv-train-auc:0.7443122+0.000609785667263\n",
      "[156]\tcv-test-auc:0.7114036+0.000678913720586\tcv-train-auc:0.7444694+0.000627146745188\n",
      "[157]\tcv-test-auc:0.7113798+0.000715537951474\tcv-train-auc:0.7446436+0.000617764874366\n",
      "[158]\tcv-test-auc:0.7114408+0.000753743298478\tcv-train-auc:0.7448494+0.000565468513712\n",
      "[159]\tcv-test-auc:0.7114084+0.000716525952077\tcv-train-auc:0.7450258+0.000537883779268\n",
      "[160]\tcv-test-auc:0.7114494+0.000763230659762\tcv-train-auc:0.7451866+0.000542197971225\n",
      "[161]\tcv-test-auc:0.7114064+0.000740432738336\tcv-train-auc:0.7453436+0.000509079797281\n",
      "[162]\tcv-test-auc:0.7113918+0.000729645777073\tcv-train-auc:0.7454856+0.000495162437994\n",
      "[163]\tcv-test-auc:0.711407+0.000738529620259\tcv-train-auc:0.7456512+0.000460070168561\n",
      "[164]\tcv-test-auc:0.7114524+0.000782129810198\tcv-train-auc:0.7458096+0.00046694051013\n",
      "[165]\tcv-test-auc:0.7114684+0.00077810297519\tcv-train-auc:0.7459516+0.000461333978805\n",
      "[166]\tcv-test-auc:0.7114732+0.000773670058875\tcv-train-auc:0.7460822+0.000456830559398\n",
      "[167]\tcv-test-auc:0.7114744+0.000776867195858\tcv-train-auc:0.746243+0.000427033956495\n",
      "[168]\tcv-test-auc:0.7114456+0.000727907301791\tcv-train-auc:0.7463482+0.000408860073864\n",
      "[169]\tcv-test-auc:0.711457+0.00074423598408\tcv-train-auc:0.7464928+0.000379363361436\n",
      "[170]\tcv-test-auc:0.7115042+0.000744784908547\tcv-train-auc:0.7466344+0.000374175146155\n",
      "[171]\tcv-test-auc:0.7114766+0.000746514460677\tcv-train-auc:0.7467694+0.00031092288433\n",
      "[172]\tcv-test-auc:0.7114542+0.000724201187516\tcv-train-auc:0.7469048+0.000299254005821\n",
      "[173]\tcv-test-auc:0.7114124+0.000736765797252\tcv-train-auc:0.7470818+0.000295144981323\n",
      "[174]\tcv-test-auc:0.7114544+0.00074231788339\tcv-train-auc:0.7472414+0.000279180658356\n",
      "[175]\tcv-test-auc:0.711448+0.00070047612379\tcv-train-auc:0.7473826+0.000278789239391\n",
      "[176]\tcv-test-auc:0.711468+0.000678156913996\tcv-train-auc:0.7475336+0.00028009184208\n",
      "[177]\tcv-test-auc:0.711548+0.000748524682292\tcv-train-auc:0.7476894+0.000283674884331\n",
      "[178]\tcv-test-auc:0.7115428+0.00072702198041\tcv-train-auc:0.747806+0.000264785195961\n",
      "[179]\tcv-test-auc:0.7114482+0.000692435238849\tcv-train-auc:0.7479326+0.00026487476286\n",
      "[180]\tcv-test-auc:0.7114678+0.000752165779599\tcv-train-auc:0.7480722+0.000286543818639\n",
      "[181]\tcv-test-auc:0.7114872+0.000765957544515\tcv-train-auc:0.7482056+0.000309460562916\n",
      "[182]\tcv-test-auc:0.7115104+0.000808957254742\tcv-train-auc:0.7483992+0.000317231398194\n",
      "[183]\tcv-test-auc:0.7115592+0.000808904790442\tcv-train-auc:0.748539+0.000291461832836\n",
      "[184]\tcv-test-auc:0.7116196+0.000722498332178\tcv-train-auc:0.7487466+0.000358705784732\n",
      "[185]\tcv-test-auc:0.711655+0.000782197673226\tcv-train-auc:0.7489158+0.000403110605169\n",
      "[186]\tcv-test-auc:0.7117328+0.000792492624571\tcv-train-auc:0.7491086+0.000441083484161\n",
      "[187]\tcv-test-auc:0.7117404+0.000795031219513\tcv-train-auc:0.7492578+0.00038725826008\n",
      "[188]\tcv-test-auc:0.7117486+0.000872606348819\tcv-train-auc:0.7493938+0.000381353589206\n",
      "[189]\tcv-test-auc:0.7117596+0.000872926709409\tcv-train-auc:0.7495528+0.000361322791974\n",
      "[190]\tcv-test-auc:0.7118+0.000938151800084\tcv-train-auc:0.7497268+0.000361048140834\n",
      "[191]\tcv-test-auc:0.7118316+0.00103978605492\tcv-train-auc:0.7498756+0.000351468120887\n",
      "[192]\tcv-test-auc:0.7118992+0.00104359961671\tcv-train-auc:0.7500142+0.000333006546482\n",
      "[193]\tcv-test-auc:0.7118784+0.000961442374768\tcv-train-auc:0.7501742+0.000379775407313\n",
      "[194]\tcv-test-auc:0.7118514+0.000929873238673\tcv-train-auc:0.7503216+0.000404661142192\n",
      "[195]\tcv-test-auc:0.7118408+0.000869150942012\tcv-train-auc:0.7504666+0.000395397319161\n",
      "[196]\tcv-test-auc:0.7118962+0.00090628392902\tcv-train-auc:0.7506612+0.000390091989151\n",
      "[197]\tcv-test-auc:0.711946+0.00085911861812\tcv-train-auc:0.7508292+0.000417926979268\n",
      "[198]\tcv-test-auc:0.7119158+0.000864999745665\tcv-train-auc:0.7509896+0.000447082363777\n",
      "[199]\tcv-test-auc:0.7119262+0.000887642811045\tcv-train-auc:0.7511056+0.000458659176295\n",
      "[200]\tcv-test-auc:0.7119398+0.000910444155344\tcv-train-auc:0.7512274+0.00044277606078\n",
      "[201]\tcv-test-auc:0.711903+0.000913353600748\tcv-train-auc:0.7513546+0.000451880780738\n",
      "[202]\tcv-test-auc:0.7119172+0.000933983597286\tcv-train-auc:0.7514968+0.000445502143654\n",
      "[203]\tcv-test-auc:0.7119284+0.000983424547182\tcv-train-auc:0.7516376+0.000428734230031\n",
      "[204]\tcv-test-auc:0.712014+0.000937704431044\tcv-train-auc:0.7518004+0.000462962892681\n",
      "[205]\tcv-test-auc:0.7120496+0.000961957920078\tcv-train-auc:0.7519312+0.000468510576188\n",
      "[206]\tcv-test-auc:0.7120842+0.000896574904846\tcv-train-auc:0.7520738+0.000492308602403\n",
      "[207]\tcv-test-auc:0.7120988+0.000918105963383\tcv-train-auc:0.7522602+0.000498606618488\n"
     ]
    },
    {
     "ename": "KeyboardInterrupt",
     "evalue": "",
     "output_type": "error",
     "traceback": [
      "\u001b[0;31m---------------------------------------------------------------------------\u001b[0m",
      "\u001b[0;31mKeyboardInterrupt\u001b[0m                         Traceback (most recent call last)",
      "\u001b[0;32m<ipython-input-17-245572847c24>\u001b[0m in \u001b[0;36m<module>\u001b[0;34m()\u001b[0m\n\u001b[0;32m----> 1\u001b[0;31m \u001b[0mget_ipython\u001b[0m\u001b[0;34m(\u001b[0m\u001b[0;34m)\u001b[0m\u001b[0;34m.\u001b[0m\u001b[0mrun_cell_magic\u001b[0m\u001b[0;34m(\u001b[0m\u001b[0;34mu'time'\u001b[0m\u001b[0;34m,\u001b[0m \u001b[0;34mu''\u001b[0m\u001b[0;34m,\u001b[0m \u001b[0;34mu\"xgb1 = xgb.XGBClassifier(\\n learning_rate = 1,\\n n_estimators=1000,\\n max_depth=5,\\n min_child_weight=1,\\n gamma=0,\\n subsample=0.8,\\n colsample_bytree=0.8,\\n objective= 'binary:logistic',\\n nthread=4,\\n scale_pos_weight=1,\\n seed=27)\\nmodelfit(xgb1, features_train, labels_train)\"\u001b[0m\u001b[0;34m)\u001b[0m\u001b[0;34m\u001b[0m\u001b[0m\n\u001b[0m",
      "\u001b[0;32m/Users/arkham/anaconda/lib/python2.7/site-packages/IPython/core/interactiveshell.pyc\u001b[0m in \u001b[0;36mrun_cell_magic\u001b[0;34m(self, magic_name, line, cell)\u001b[0m\n\u001b[1;32m   2118\u001b[0m             \u001b[0mmagic_arg_s\u001b[0m \u001b[0;34m=\u001b[0m \u001b[0mself\u001b[0m\u001b[0;34m.\u001b[0m\u001b[0mvar_expand\u001b[0m\u001b[0;34m(\u001b[0m\u001b[0mline\u001b[0m\u001b[0;34m,\u001b[0m \u001b[0mstack_depth\u001b[0m\u001b[0;34m)\u001b[0m\u001b[0;34m\u001b[0m\u001b[0m\n\u001b[1;32m   2119\u001b[0m             \u001b[0;32mwith\u001b[0m \u001b[0mself\u001b[0m\u001b[0;34m.\u001b[0m\u001b[0mbuiltin_trap\u001b[0m\u001b[0;34m:\u001b[0m\u001b[0;34m\u001b[0m\u001b[0m\n\u001b[0;32m-> 2120\u001b[0;31m                 \u001b[0mresult\u001b[0m \u001b[0;34m=\u001b[0m \u001b[0mfn\u001b[0m\u001b[0;34m(\u001b[0m\u001b[0mmagic_arg_s\u001b[0m\u001b[0;34m,\u001b[0m \u001b[0mcell\u001b[0m\u001b[0;34m)\u001b[0m\u001b[0;34m\u001b[0m\u001b[0m\n\u001b[0m\u001b[1;32m   2121\u001b[0m             \u001b[0;32mreturn\u001b[0m \u001b[0mresult\u001b[0m\u001b[0;34m\u001b[0m\u001b[0m\n\u001b[1;32m   2122\u001b[0m \u001b[0;34m\u001b[0m\u001b[0m\n",
      "\u001b[0;32m<decorator-gen-60>\u001b[0m in \u001b[0;36mtime\u001b[0;34m(self, line, cell, local_ns)\u001b[0m\n",
      "\u001b[0;32m/Users/arkham/anaconda/lib/python2.7/site-packages/IPython/core/magic.pyc\u001b[0m in \u001b[0;36m<lambda>\u001b[0;34m(f, *a, **k)\u001b[0m\n\u001b[1;32m    191\u001b[0m     \u001b[0;31m# but it's overkill for just that one bit of state.\u001b[0m\u001b[0;34m\u001b[0m\u001b[0;34m\u001b[0m\u001b[0m\n\u001b[1;32m    192\u001b[0m     \u001b[0;32mdef\u001b[0m \u001b[0mmagic_deco\u001b[0m\u001b[0;34m(\u001b[0m\u001b[0marg\u001b[0m\u001b[0;34m)\u001b[0m\u001b[0;34m:\u001b[0m\u001b[0;34m\u001b[0m\u001b[0m\n\u001b[0;32m--> 193\u001b[0;31m         \u001b[0mcall\u001b[0m \u001b[0;34m=\u001b[0m \u001b[0;32mlambda\u001b[0m \u001b[0mf\u001b[0m\u001b[0;34m,\u001b[0m \u001b[0;34m*\u001b[0m\u001b[0ma\u001b[0m\u001b[0;34m,\u001b[0m \u001b[0;34m**\u001b[0m\u001b[0mk\u001b[0m\u001b[0;34m:\u001b[0m \u001b[0mf\u001b[0m\u001b[0;34m(\u001b[0m\u001b[0;34m*\u001b[0m\u001b[0ma\u001b[0m\u001b[0;34m,\u001b[0m \u001b[0;34m**\u001b[0m\u001b[0mk\u001b[0m\u001b[0;34m)\u001b[0m\u001b[0;34m\u001b[0m\u001b[0m\n\u001b[0m\u001b[1;32m    194\u001b[0m \u001b[0;34m\u001b[0m\u001b[0m\n\u001b[1;32m    195\u001b[0m         \u001b[0;32mif\u001b[0m \u001b[0mcallable\u001b[0m\u001b[0;34m(\u001b[0m\u001b[0marg\u001b[0m\u001b[0;34m)\u001b[0m\u001b[0;34m:\u001b[0m\u001b[0;34m\u001b[0m\u001b[0m\n",
      "\u001b[0;32m/Users/arkham/anaconda/lib/python2.7/site-packages/IPython/core/magics/execution.pyc\u001b[0m in \u001b[0;36mtime\u001b[0;34m(self, line, cell, local_ns)\u001b[0m\n\u001b[1;32m   1175\u001b[0m         \u001b[0;32melse\u001b[0m\u001b[0;34m:\u001b[0m\u001b[0;34m\u001b[0m\u001b[0m\n\u001b[1;32m   1176\u001b[0m             \u001b[0mst\u001b[0m \u001b[0;34m=\u001b[0m \u001b[0mclock2\u001b[0m\u001b[0;34m(\u001b[0m\u001b[0;34m)\u001b[0m\u001b[0;34m\u001b[0m\u001b[0m\n\u001b[0;32m-> 1177\u001b[0;31m             \u001b[0;32mexec\u001b[0m\u001b[0;34m(\u001b[0m\u001b[0mcode\u001b[0m\u001b[0;34m,\u001b[0m \u001b[0mglob\u001b[0m\u001b[0;34m,\u001b[0m \u001b[0mlocal_ns\u001b[0m\u001b[0;34m)\u001b[0m\u001b[0;34m\u001b[0m\u001b[0m\n\u001b[0m\u001b[1;32m   1178\u001b[0m             \u001b[0mend\u001b[0m \u001b[0;34m=\u001b[0m \u001b[0mclock2\u001b[0m\u001b[0;34m(\u001b[0m\u001b[0;34m)\u001b[0m\u001b[0;34m\u001b[0m\u001b[0m\n\u001b[1;32m   1179\u001b[0m             \u001b[0mout\u001b[0m \u001b[0;34m=\u001b[0m \u001b[0mNone\u001b[0m\u001b[0;34m\u001b[0m\u001b[0m\n",
      "\u001b[0;32m<timed exec>\u001b[0m in \u001b[0;36m<module>\u001b[0;34m()\u001b[0m\n",
      "\u001b[0;32m<timed exec>\u001b[0m in \u001b[0;36mmodelfit\u001b[0;34m(alg, features, labels, useTrainCV, cv_folds, early_stopping_rounds)\u001b[0m\n",
      "\u001b[0;32m/Users/arkham/anaconda/lib/python2.7/site-packages/xgboost/training.pyc\u001b[0m in \u001b[0;36mcv\u001b[0;34m(params, dtrain, num_boost_round, nfold, metrics, obj, feval, maximize, early_stopping_rounds, fpreproc, as_pandas, show_progress, show_stdv, seed)\u001b[0m\n\u001b[1;32m    416\u001b[0m     \u001b[0;32mfor\u001b[0m \u001b[0mi\u001b[0m \u001b[0;32min\u001b[0m \u001b[0mrange\u001b[0m\u001b[0;34m(\u001b[0m\u001b[0mnum_boost_round\u001b[0m\u001b[0;34m)\u001b[0m\u001b[0;34m:\u001b[0m\u001b[0;34m\u001b[0m\u001b[0m\n\u001b[1;32m    417\u001b[0m         \u001b[0;32mfor\u001b[0m \u001b[0mfold\u001b[0m \u001b[0;32min\u001b[0m \u001b[0mcvfolds\u001b[0m\u001b[0;34m:\u001b[0m\u001b[0;34m\u001b[0m\u001b[0m\n\u001b[0;32m--> 418\u001b[0;31m             \u001b[0mfold\u001b[0m\u001b[0;34m.\u001b[0m\u001b[0mupdate\u001b[0m\u001b[0;34m(\u001b[0m\u001b[0mi\u001b[0m\u001b[0;34m,\u001b[0m \u001b[0mobj\u001b[0m\u001b[0;34m)\u001b[0m\u001b[0;34m\u001b[0m\u001b[0m\n\u001b[0m\u001b[1;32m    419\u001b[0m         res = aggcv([f.eval(i, feval) for f in cvfolds],\n\u001b[1;32m    420\u001b[0m                     \u001b[0mshow_stdv\u001b[0m\u001b[0;34m=\u001b[0m\u001b[0mshow_stdv\u001b[0m\u001b[0;34m,\u001b[0m \u001b[0mshow_progress\u001b[0m\u001b[0;34m=\u001b[0m\u001b[0mshow_progress\u001b[0m\u001b[0;34m,\u001b[0m\u001b[0;34m\u001b[0m\u001b[0m\n",
      "\u001b[0;32m/Users/arkham/anaconda/lib/python2.7/site-packages/xgboost/training.pyc\u001b[0m in \u001b[0;36mupdate\u001b[0;34m(self, iteration, fobj)\u001b[0m\n\u001b[1;32m    255\u001b[0m     \u001b[0;32mdef\u001b[0m \u001b[0mupdate\u001b[0m\u001b[0;34m(\u001b[0m\u001b[0mself\u001b[0m\u001b[0;34m,\u001b[0m \u001b[0miteration\u001b[0m\u001b[0;34m,\u001b[0m \u001b[0mfobj\u001b[0m\u001b[0;34m)\u001b[0m\u001b[0;34m:\u001b[0m\u001b[0;34m\u001b[0m\u001b[0m\n\u001b[1;32m    256\u001b[0m         \u001b[0;34m\"\"\"\"Update the boosters for one iteration\"\"\"\u001b[0m\u001b[0;34m\u001b[0m\u001b[0m\n\u001b[0;32m--> 257\u001b[0;31m         \u001b[0mself\u001b[0m\u001b[0;34m.\u001b[0m\u001b[0mbst\u001b[0m\u001b[0;34m.\u001b[0m\u001b[0mupdate\u001b[0m\u001b[0;34m(\u001b[0m\u001b[0mself\u001b[0m\u001b[0;34m.\u001b[0m\u001b[0mdtrain\u001b[0m\u001b[0;34m,\u001b[0m \u001b[0miteration\u001b[0m\u001b[0;34m,\u001b[0m \u001b[0mfobj\u001b[0m\u001b[0;34m)\u001b[0m\u001b[0;34m\u001b[0m\u001b[0m\n\u001b[0m\u001b[1;32m    258\u001b[0m \u001b[0;34m\u001b[0m\u001b[0m\n\u001b[1;32m    259\u001b[0m     \u001b[0;32mdef\u001b[0m \u001b[0meval\u001b[0m\u001b[0;34m(\u001b[0m\u001b[0mself\u001b[0m\u001b[0;34m,\u001b[0m \u001b[0miteration\u001b[0m\u001b[0;34m,\u001b[0m \u001b[0mfeval\u001b[0m\u001b[0;34m)\u001b[0m\u001b[0;34m:\u001b[0m\u001b[0;34m\u001b[0m\u001b[0m\n",
      "\u001b[0;32m/Users/arkham/anaconda/lib/python2.7/site-packages/xgboost/core.pyc\u001b[0m in \u001b[0;36mupdate\u001b[0;34m(self, dtrain, iteration, fobj)\u001b[0m\n\u001b[1;32m    692\u001b[0m \u001b[0;34m\u001b[0m\u001b[0m\n\u001b[1;32m    693\u001b[0m         \u001b[0;32mif\u001b[0m \u001b[0mfobj\u001b[0m \u001b[0;32mis\u001b[0m \u001b[0mNone\u001b[0m\u001b[0;34m:\u001b[0m\u001b[0;34m\u001b[0m\u001b[0m\n\u001b[0;32m--> 694\u001b[0;31m             \u001b[0m_check_call\u001b[0m\u001b[0;34m(\u001b[0m\u001b[0m_LIB\u001b[0m\u001b[0;34m.\u001b[0m\u001b[0mXGBoosterUpdateOneIter\u001b[0m\u001b[0;34m(\u001b[0m\u001b[0mself\u001b[0m\u001b[0;34m.\u001b[0m\u001b[0mhandle\u001b[0m\u001b[0;34m,\u001b[0m \u001b[0miteration\u001b[0m\u001b[0;34m,\u001b[0m \u001b[0mdtrain\u001b[0m\u001b[0;34m.\u001b[0m\u001b[0mhandle\u001b[0m\u001b[0;34m)\u001b[0m\u001b[0;34m)\u001b[0m\u001b[0;34m\u001b[0m\u001b[0m\n\u001b[0m\u001b[1;32m    695\u001b[0m         \u001b[0;32melse\u001b[0m\u001b[0;34m:\u001b[0m\u001b[0;34m\u001b[0m\u001b[0m\n\u001b[1;32m    696\u001b[0m             \u001b[0mpred\u001b[0m \u001b[0;34m=\u001b[0m \u001b[0mself\u001b[0m\u001b[0;34m.\u001b[0m\u001b[0mpredict\u001b[0m\u001b[0;34m(\u001b[0m\u001b[0mdtrain\u001b[0m\u001b[0;34m)\u001b[0m\u001b[0;34m\u001b[0m\u001b[0m\n",
      "\u001b[0;31mKeyboardInterrupt\u001b[0m: "
     ]
    }
   ],
   "source": [
    "%%time\n",
    "xgb1 = xgb.XGBClassifier(\n",
    " learning_rate = 1,\n",
    " n_estimators=1000,\n",
    " max_depth=5,\n",
    " min_child_weight=1,\n",
    " gamma=0,\n",
    " subsample=0.8,\n",
    " colsample_bytree=0.8,\n",
    " objective= 'binary:logistic',\n",
    " nthread=4,\n",
    " scale_pos_weight=1,\n",
    " seed=27)\n",
    "modelfit(xgb1, features_train, labels_train)"
   ]
  },
  {
   "cell_type": "code",
   "execution_count": 19,
   "metadata": {
    "collapsed": false
   },
   "outputs": [
    {
     "name": "stdout",
     "output_type": "stream",
     "text": [
      "CPU times: user 12min 36s, sys: 6.14 s, total: 12min 42s\n",
      "Wall time: 12min 56s\n"
     ]
    }
   ],
   "source": [
    "%%time\n",
    "xgb_final =  xgb.XGBClassifier(\n",
    " learning_rate = 1,\n",
    " n_estimators=205,\n",
    " max_depth=5,\n",
    " min_child_weight=1,\n",
    " gamma=0,\n",
    " subsample=0.8,\n",
    " colsample_bytree=0.8,\n",
    " objective= 'binary:logistic',\n",
    " nthread=4,\n",
    " scale_pos_weight=1,\n",
    " seed=27).fit(features_train.values, labels_train.values)"
   ]
  },
  {
   "cell_type": "code",
   "execution_count": 64,
   "metadata": {
    "collapsed": false,
    "scrolled": true
   },
   "outputs": [
    {
     "name": "stdout",
     "output_type": "stream",
     "text": [
      "[mean: 0.70143, std: 0.00078, params: {'min_samples_split': 70}, mean: 0.70118, std: 0.00108, params: {'min_samples_split': 80}, mean: 0.70216, std: 0.00067, params: {'min_samples_split': 90}] {'min_samples_split': 90} 0.702161722827\n",
      "CPU times: user 1min 30s, sys: 3.09 s, total: 1min 33s\n",
      "Wall time: 8min 29s\n"
     ]
    }
   ],
   "source": [
    "%%time\n",
    "param_test1 = {\n",
    "# 'min_samples_split':range(10,50,10),\n",
    " 'min_samples_split':[70,80,90],\n",
    "}\n",
    "gsearch1 = GridSearchCV(estimator = ensemble.RandomForestClassifier(n_estimators=10), \n",
    " param_grid = param_test1, scoring='roc_auc',n_jobs=4,iid=False,cv=5)\n",
    "gsearch1.fit(features_train, labels_train)\n",
    "print gsearch1.grid_scores_, gsearch1.best_params_, gsearch1.best_score_"
   ]
  },
  {
   "cell_type": "code",
   "execution_count": 65,
   "metadata": {
    "collapsed": false
   },
   "outputs": [
    {
     "name": "stdout",
     "output_type": "stream",
     "text": [
      "CPU times: user 9min 45s, sys: 5.04 s, total: 9min 50s\n",
      "Wall time: 2min 52s\n"
     ]
    }
   ],
   "source": [
    "%%time\n",
    "#d_tree = tree.DecisionTreeClassifier(min_samples_split=1000).fit(features_train, labels_train)\n",
    "# Best so far: clf_rf = ensemble.RandomForestClassifier(n_estimators=50, n_jobs=-1, min_samples_split=50).fit(features_train, labels_train)\n",
    "clf_rf = ensemble.RandomForestClassifier(n_estimators=50, n_jobs=-1, min_samples_split=90).fit(features_train, labels_train)"
   ]
  },
  {
   "cell_type": "code",
   "execution_count": 66,
   "metadata": {
    "collapsed": false
   },
   "outputs": [
    {
     "name": "stdout",
     "output_type": "stream",
     "text": [
      "Confusion matrix\n",
      "        0       1\n",
      "0  221081  116055\n",
      "1  113502  224297\n"
     ]
    },
    {
     "name": "stderr",
     "output_type": "stream",
     "text": [
      "/Users/arkham/anaconda/lib/python2.7/site-packages/sklearn/metrics/classification.py:976: DeprecationWarning: From version 0.18, binary input will not be handled specially when using averaged precision/recall/F-score. Please use average='binary' to report only the positive class performance.\n",
      "  'positive class performance.', DeprecationWarning)\n"
     ]
    },
    {
     "name": "stdout",
     "output_type": "stream",
     "text": [
      "precision = 0.66, recall = 0.66, F1 = 0.66, accuracy = 0.66\n",
      "\n",
      "CPU times: user 16.9 s, sys: 885 ms, total: 17.8 s\n",
      "Wall time: 6.41 s\n"
     ]
    }
   ],
   "source": [
    "%%time\n",
    "# Evaluate on test set\n",
    "#pred = xgb_final.predict(features_test)\n",
    "#pred = d_tree.predict(features_test)\n",
    "pred = clf_rf.predict(features_test)\n",
    "\n",
    "# print results\n",
    "cm = confusion_matrix(labels_test, pred)\n",
    "print(\"Confusion matrix\")\n",
    "print(pd.DataFrame(cm))\n",
    "\n",
    "report_rf = precision_recall_fscore_support(list(labels_test), list(pred), average='micro')\n",
    "print \"precision = %0.2f, recall = %0.2f, F1 = %0.2f, accuracy = %0.2f\\n\" % \\\n",
    "        (report_rf[0], report_rf[1], report_rf[2], metrics.roc_auc_score(list(labels_test.values), list(pred)))"
   ]
  },
  {
   "cell_type": "code",
   "execution_count": 22,
   "metadata": {
    "collapsed": false
   },
   "outputs": [
    {
     "name": "stdout",
     "output_type": "stream",
     "text": [
      "CPU times: user 3.49 s, sys: 780 ms, total: 4.27 s\n",
      "Wall time: 5.03 s\n"
     ]
    }
   ],
   "source": [
    "%%time\n",
    "testing.UNIQUE_CARRIER = le.fit_transform(testing.UNIQUE_CARRIER)\n",
    "testing.ORIGIN = le.fit_transform(testing.ORIGIN)\n",
    "testing.DEST = le.fit_transform(testing.DEST)"
   ]
  },
  {
   "cell_type": "code",
   "execution_count": 67,
   "metadata": {
    "collapsed": false
   },
   "outputs": [
    {
     "name": "stdout",
     "output_type": "stream",
     "text": [
      "CPU times: user 16.6 s, sys: 1.64 s, total: 18.3 s\n",
      "Wall time: 6.2 s\n"
     ]
    }
   ],
   "source": [
    "%%time\n",
    "#test_pred = xgb_final.predict(testing[features])\n",
    "test_pred = clf_rf.predict(testing[features])"
   ]
  },
  {
   "cell_type": "code",
   "execution_count": 68,
   "metadata": {
    "collapsed": false
   },
   "outputs": [
    {
     "name": "stdout",
     "output_type": "stream",
     "text": [
      "CPU times: user 91 ms, sys: 63.5 ms, total: 155 ms\n",
      "Wall time: 167 ms\n"
     ]
    }
   ],
   "source": [
    "%%time\n",
    "submission = pd.DataFrame()\n",
    "submission['id'] = testing['id']\n",
    "submission['ARR_DEL15'] = test_pred"
   ]
  },
  {
   "cell_type": "code",
   "execution_count": 69,
   "metadata": {
    "collapsed": false
   },
   "outputs": [
    {
     "name": "stdout",
     "output_type": "stream",
     "text": [
      "CPU times: user 1.33 s, sys: 37.2 ms, total: 1.37 s\n",
      "Wall time: 1.47 s\n"
     ]
    }
   ],
   "source": [
    "%%time\n",
    "submission.to_csv('submission.csv', index=False)"
   ]
  },
  {
   "cell_type": "code",
   "execution_count": null,
   "metadata": {
    "collapsed": false
   },
   "outputs": [],
   "source": [
    "%%time\n",
    "# Create Random Forest classifier with 100 trees\n",
    "clf_rf = ensemble.RandomForestClassifier(n_estimators=50, n_jobs=-1)\n",
    "clf_rf.fit(features_train.toarray(), labels_train)"
   ]
  },
  {
   "cell_type": "code",
   "execution_count": null,
   "metadata": {
    "collapsed": false
   },
   "outputs": [],
   "source": [
    "%%time\n",
    "# Evaluate on test set\n",
    "pred = clf_rf.predict(features_test.toarray())\n",
    "\n",
    "# print results\n",
    "cm = confusion_matrix(labels_test, pr)\n",
    "print(\"Confusion matrix\")\n",
    "print(pd.DataFrame(cm))\n",
    "\n",
    "report_rf = precision_recall_fscore_support(list(labels_test), list(pr), average='micro')\n",
    "print \"precision = %0.2f, recall = %0.2f, F1 = %0.2f, accuracy = %0.2f\\n\" % \\\n",
    "        (report_rf[0], report_rf[1], report_rf[2], metrics.roc_auc_score(list(labels_test.values), list(pred)))"
   ]
  },
  {
   "cell_type": "code",
   "execution_count": null,
   "metadata": {
    "collapsed": false,
    "scrolled": true
   },
   "outputs": [],
   "source": [
    "%%time\n",
    "param_test1 = {\n",
    " 'max_depth':range(3,10,2),\n",
    " 'min_child_weight':range(1,6,2)\n",
    "}\n",
    "gsearch1 = GridSearchCV(estimator = xgb.XGBClassifier(learning_rate=1, n_estimators=242, max_depth=5,\n",
    " min_child_weight=1, gamma=0, subsample=0.8, colsample_bytree=0.8,\n",
    " objective= 'binary:logistic', nthread=4, scale_pos_weight=1, seed=27), \n",
    " param_grid = param_test1, scoring='roc_auc',n_jobs=4,iid=False, cv=5)\n",
    "gsearch1.fit(features_train, labels_train.values)\n",
    "print gsearch1.grid_scores_, gsearch1.best_params_, gsearch1.best_score_"
   ]
  },
  {
   "cell_type": "code",
   "execution_count": null,
   "metadata": {
    "collapsed": false,
    "scrolled": true
   },
   "outputs": [],
   "source": [
    "%%time\n",
    "param_test2 = {\n",
    " 'max_depth':[4,5,6],\n",
    " 'min_child_weight':[4,5,6]\n",
    "}\n",
    "gsearch2 = GridSearchCV(estimator = xgb.XGBClassifier(learning_rate=1, n_estimators=81, max_depth=5,\n",
    " min_child_weight=1, gamma=0, subsample=0.8, colsample_bytree=0.8,\n",
    " objective= 'binary:logistic', nthread=4, scale_pos_weight=1, seed=27), \n",
    " param_grid = param_test2, scoring='roc_auc',n_jobs=4,iid=False, cv=5)\n",
    "gsearch2.fit(features_train.values, labels_train.values)\n",
    "print gsearch2.grid_scores_, gsearch2.best_params_, gsearch2.best_score_"
   ]
  },
  {
   "cell_type": "code",
   "execution_count": null,
   "metadata": {
    "collapsed": false,
    "scrolled": true
   },
   "outputs": [],
   "source": [
    "%%time\n",
    "param_test2b = {\n",
    " 'min_child_weight':[6,7,8]\n",
    "}\n",
    "gsearch2b = GridSearchCV(estimator = xgb.XGBClassifier(learning_rate=1, n_estimators=110, max_depth=4,\n",
    " min_child_weight=1, gamma=0, subsample=0.8, colsample_bytree=0.8,\n",
    " objective= 'binary:logistic', nthread=4, scale_pos_weight=1, seed=27), \n",
    " param_grid = param_test2b, scoring='roc_auc',n_jobs=4,iid=False, cv=5)\n",
    "gsearch2b.fit(features_train.values, labels_train.values)\n",
    "print gsearch2b.grid_scores_, gsearch2b.best_params_, gsearch2b.best_score_"
   ]
  },
  {
   "cell_type": "code",
   "execution_count": null,
   "metadata": {
    "collapsed": false,
    "scrolled": true
   },
   "outputs": [],
   "source": [
    "param_test3 = {\n",
    " 'gamma':[i/10.0 for i in range(0,5)]\n",
    "}\n",
    "\n",
    "gsearch3 = GridSearchCV(estimator = xgb.XGBClassifier(learning_rate=1, n_estimators=110, max_depth=4,\n",
    " min_child_weight=6, gamma=0, subsample=0.8, colsample_bytree=0.8,\n",
    " objective= 'binary:logistic', nthread=4, scale_pos_weight=1, seed=27), \n",
    " param_grid = param_test3, scoring='roc_auc',n_jobs=4,iid=False, cv=5)\n",
    "gsearch3.fit(features_train.values, labels_train.values)\n",
    "print gsearch3.grid_scores_, gsearch3.best_params_, gsearch3.best_score_"
   ]
  },
  {
   "cell_type": "code",
   "execution_count": null,
   "metadata": {
    "collapsed": false
   },
   "outputs": [],
   "source": [
    "%%time\n",
    "xgb2 = xgb.XGBClassifier(\n",
    " learning_rate =1,\n",
    " n_estimators=1000,\n",
    " max_depth=4,\n",
    " min_child_weight=6,\n",
    " gamma=0.2,\n",
    " subsample=0.8,\n",
    " colsample_bytree=0.8,\n",
    " objective= 'binary:logistic',\n",
    " nthread=4,\n",
    " scale_pos_weight=1,\n",
    " seed=27)\n",
    "modelfit(xgb2, features_train, labels_train)"
   ]
  },
  {
   "cell_type": "code",
   "execution_count": null,
   "metadata": {
    "collapsed": false,
    "scrolled": true
   },
   "outputs": [],
   "source": [
    "param_test4 = {\n",
    " 'subsample':[i/10.0 for i in range(6,10)],\n",
    " 'colsample_bytree':[i/10.0 for i in range(6,10)]\n",
    "}\n",
    "\n",
    "gsearch4 = GridSearchCV(estimator = xgb.XGBClassifier( learning_rate=1, n_estimators=255, max_depth=4,\n",
    " min_child_weight=7, gamma=0, subsample=0.8, colsample_bytree=0.8,\n",
    " objective= 'binary:logistic', nthread=4, scale_pos_weight=1,seed=27), \n",
    " param_grid = param_test4, scoring='roc_auc',n_jobs=4,iid=False, cv=5)\n",
    "gsearch4.fit(features_train.values, labels_train.values)\n",
    "print gsearch4.grid_scores_, gsearch4.best_params_, gsearch4.best_score_"
   ]
  },
  {
   "cell_type": "code",
   "execution_count": null,
   "metadata": {
    "collapsed": false,
    "scrolled": true
   },
   "outputs": [],
   "source": [
    "param_test5 = {\n",
    " 'subsample':[i/100.0 for i in range(85,95,5)],\n",
    " 'colsample_bytree':[i/100.0 for i in range(75,85,5)]\n",
    "}\n",
    "gsearch5 = GridSearchCV(estimator = xgb.XGBClassifier( learning_rate=1, n_estimators=158, max_depth=5,\n",
    " min_child_weight=2, gamma=0.1, subsample=0.8, colsample_bytree=0.8,\n",
    " objective= 'binary:logistic', nthread=4, scale_pos_weight=1,seed=27), \n",
    " param_grid = param_test5, scoring='roc_auc',n_jobs=4,iid=False, cv=5)\n",
    "gsearch5.fit(features_train.values, labels_train.values)\n",
    "print gsearch5.grid_scores_, gsearch5.best_params_, gsearch5.best_score_"
   ]
  },
  {
   "cell_type": "code",
   "execution_count": null,
   "metadata": {
    "collapsed": false,
    "scrolled": true
   },
   "outputs": [],
   "source": [
    "%%time\n",
    "param_test6 = {\n",
    " 'reg_alpha':[1e-5, 1e-2, 0.1, 1, 100]\n",
    "}\n",
    "\n",
    "gsearch6 = GridSearchCV(estimator = xgb.XGBClassifier( learning_rate=1, n_estimators=158, max_depth=5,\n",
    " min_child_weight=2, gamma=0.1, subsample=0.9, colsample_bytree=0.8,\n",
    " objective= 'binary:logistic', nthread=4, scale_pos_weight=1,seed=27), \n",
    " param_grid = param_test6, scoring='roc_auc',n_jobs=4,iid=False, cv=5)\n",
    "gsearch6.fit(features_train.values, labels_train.values)\n",
    "print gsearch6.grid_scores_, gsearch6.best_params_, gsearch6.best_score_"
   ]
  },
  {
   "cell_type": "code",
   "execution_count": null,
   "metadata": {
    "collapsed": false,
    "scrolled": true
   },
   "outputs": [],
   "source": [
    "%%time\n",
    "param_test7 = {\n",
    " 'reg_alpha':[0.9, 0.95, 1, 1.05, 1.1]\n",
    "}\n",
    "\n",
    "gsearch7 = GridSearchCV(estimator = xgb.XGBClassifier( learning_rate=1, n_estimators=158, max_depth=5,\n",
    " min_child_weight=2, gamma=0.1, subsample=0.9, colsample_bytree=0.8,\n",
    " objective= 'binary:logistic', nthread=4, scale_pos_weight=1,seed=27), \n",
    " param_grid = param_test6, scoring='roc_auc',n_jobs=4,iid=False, cv=5)\n",
    "gsearch7.fit(features_train.values, labels_train.values)\n",
    "print gsearch7.grid_scores_, gsearch7.best_params_, gsearch7.best_score_"
   ]
  },
  {
   "cell_type": "code",
   "execution_count": null,
   "metadata": {
    "collapsed": false
   },
   "outputs": [],
   "source": [
    "%%time\n",
    "xgb3 = xgb.XGBClassifier(\n",
    " learning_rate=1,\n",
    " n_estimators=1000,\n",
    " max_depth=5,\n",
    " reg_alpha=100,\n",
    " min_child_weight=2,\n",
    " gamma=0.1,\n",
    " subsample=0.9,\n",
    " colsample_bytree=0.8,\n",
    " objective= 'binary:logistic',\n",
    " nthread=4,\n",
    " scale_pos_weight=1,\n",
    " seed=27)\n",
    "modelfit(xgb3, features_train, labels_train)"
   ]
  },
  {
   "cell_type": "code",
   "execution_count": null,
   "metadata": {
    "collapsed": false
   },
   "outputs": [],
   "source": [
    "%%time\n",
    "xgb4 = xgb.XGBClassifier(\n",
    " learning_rate=.5,\n",
    " n_estimators=5000,\n",
    " max_depth=5,\n",
    " reg_alpha=100,\n",
    " min_child_weight=2,\n",
    " gamma=0.1,\n",
    " subsample=0.9,\n",
    " colsample_bytree=0.8,\n",
    " objective= 'binary:logistic',\n",
    " nthread=4,\n",
    " scale_pos_weight=1,\n",
    " seed=27)\n",
    "modelfit(xgb4, features_train, labels_train)"
   ]
  },
  {
   "cell_type": "code",
   "execution_count": null,
   "metadata": {
    "collapsed": true
   },
   "outputs": [],
   "source": [
    "test_hour = [str((i/100) * 100) if (i % 100) < 50 else str((i/100) * 100 + 100) for i in training['CRS_DEP_TIME'].values]"
   ]
  },
  {
   "cell_type": "code",
   "execution_count": null,
   "metadata": {
    "collapsed": false
   },
   "outputs": [],
   "source": [
    "%%time\n",
    "training['DEP_HOUR'] = [str((i/100) * 100) if (i % 100) < 30 else str((i/100) * 100 + 100) for i in training['CRS_DEP_TIME'].values]\n",
    "training['ARR_HOUR'] = [str((i/100) * 100) if (i % 100) < 30 else str((i/100) * 100 + 100) for i in training['CRS_ARR_TIME'].values]"
   ]
  }
 ],
 "metadata": {
  "kernelspec": {
   "display_name": "Python 2",
   "language": "python",
   "name": "python2"
  },
  "language_info": {
   "codemirror_mode": {
    "name": "ipython",
    "version": 2
   },
   "file_extension": ".py",
   "mimetype": "text/x-python",
   "name": "python",
   "nbconvert_exporter": "python",
   "pygments_lexer": "ipython2",
   "version": "2.7.11"
  }
 },
 "nbformat": 4,
 "nbformat_minor": 0
}
