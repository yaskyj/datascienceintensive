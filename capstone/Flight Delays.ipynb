{
 "cells": [
  {
   "cell_type": "code",
   "execution_count": 1,
   "metadata": {
    "collapsed": false
   },
   "outputs": [
    {
     "name": "stdout",
     "output_type": "stream",
     "text": [
      "CPU times: user 1.23 s, sys: 468 ms, total: 1.69 s\n",
      "Wall time: 3.93 s\n"
     ]
    }
   ],
   "source": [
    "%%time\n",
    "import warnings\n",
    "warnings.filterwarnings('ignore')\n",
    "import pandas as pd\n",
    "import numpy as np\n",
    "from sklearn import cross_validation, ensemble, tree, metrics, preprocessing\n",
    "from sklearn.grid_search import GridSearchCV\n",
    "from sklearn.naive_bayes import GaussianNB\n",
    "from sklearn.metrics import confusion_matrix, precision_recall_fscore_support, accuracy_score\n",
    "le = preprocessing.LabelEncoder()\n",
    "import xgboost as xgb\n",
    "from datetime import datetime, date\n",
    "import matplotlib.pylab as plt\n",
    "%matplotlib inline\n",
    "from matplotlib.pylab import rcParams\n",
    "rcParams['figure.figsize'] = 12, 4"
   ]
  },
  {
   "cell_type": "code",
   "execution_count": null,
   "metadata": {
    "collapsed": false
   },
   "outputs": [],
   "source": [
    "%%time\n",
    "# Training files are divided into three separate files in six month increments\n",
    "temp_train_2014_1 = pd.read_csv('CAX_Train_2014_Jan_to_Jun.csv')\n",
    "temp_train_2014_2 = pd.read_csv('CAX_Train_2014_Jul_to_Dec.csv')\n",
    "temp_train_2015 = pd.read_csv('CAX_Train_2015.csv')\n",
    "\n",
    "# Read in the weather file\n",
    "weather = pd.read_csv('weather.csv')\n",
    "\n",
    "# The codes file is a manual matching I created between the IATA codes in the training files and\n",
    "# the ICAO codes in the weather file. Multiple IATA codes can join to the same ICAO codes based on proximity to \n",
    "# cities. City names in the training files can be truncated and often did not match the weather file. If the\n",
    "# matching wasn't obvious based on the IATA and ICAO codes then IATA code were looked up in Google to determine the\n",
    "# nearest ICAO city.\n",
    "codes = pd.read_csv('training_weather_cities_joined.csv')"
   ]
  },
  {
   "cell_type": "code",
   "execution_count": 3,
   "metadata": {
    "collapsed": false
   },
   "outputs": [
    {
     "name": "stdout",
     "output_type": "stream",
     "text": [
      "CPU times: user 1min 4s, sys: 4.58 s, total: 1min 9s\n",
      "Wall time: 1min 11s\n"
     ]
    }
   ],
   "source": [
    "%%time\n",
    "# Creating week of year field in order to group weather events by week\n",
    "weather['week_of_year'] = pd.to_datetime(weather['date'], errors='coerce').dt.weekofyear.astype(int)\n",
    "\n",
    "# Some basic munging of weather fields\n",
    "weather.events.fillna(-1, inplace=True)\n",
    "weather.conditions.fillna(-1, inplace=True)\n",
    "weather.gust_speed_mph.replace('-', -1, inplace=True)\n",
    "weather.gust_speed_mph.fillna(-1, inplace=True)\n",
    "weather.gust_speed_mph = pd.to_numeric(weather.gust_speed_mph, errors='coerce')\n",
    "weather.wind_speed_mph.replace('Calm', 0, inplace=True)\n",
    "weather.wind_speed_mph.fillna(-1, inplace=True)\n",
    "weather.wind_speed_mph = pd.to_numeric(weather.wind_speed_mph, errors='coerce')\n",
    "\n",
    "# Changing to weather types in the events field to numeric values based on the likelihood of causing delays\n",
    "# e.g. Events involving ice have a higher value\n",
    "weather.events.replace(['Fog',\n",
    "'Fog-Hail-Thunderstorm',\n",
    "'Fog-Rain',\n",
    "'Fog-Rain-Hail-Thunderstorm',\n",
    "'Fog-Rain-Snow',\n",
    "'Fog-Rain-Thunderstorm',\n",
    "'Fog-Rain-Thunderstorm-Tornado',\n",
    "'Fog-Snow',\n",
    "'Fog-Snow-Thunderstorm',\n",
    "'Fog-Thunderstorm',\n",
    "'Hail',\n",
    "'Hail-Thunderstorm',\n",
    "'Rain',\n",
    "'Rain-Hail',\n",
    "'Rain-Hail-Thunderstorm',\n",
    "'Rain-Snow',\n",
    "'Rain-Snow-Thunderstorm',\n",
    "'Rain-Thunderstorm',\n",
    "'Rain-Thunderstorm-Tornado',\n",
    "'Rain-Tornado',\n",
    "'Snow',\n",
    "'Snow-Hail',\n",
    "'Snow-Thunderstorm',\n",
    "'Snow-Tornado',\n",
    "'Thunderstorm',\n",
    "'Thunderstorm-Tornado',\n",
    "'Tornado'], [10,\n",
    "80,\n",
    "20,\n",
    "80,\n",
    "60,\n",
    "50,\n",
    "100,\n",
    "60,\n",
    "60,\n",
    "50,\n",
    "80,\n",
    "80,\n",
    "20,\n",
    "80,\n",
    "80,\n",
    "60,\n",
    "60,\n",
    "50,\n",
    "100,\n",
    "100,\n",
    "60,\n",
    "80,\n",
    "60,\n",
    "100,\n",
    "50,\n",
    "100,\n",
    "100], inplace=True)\n",
    "\n",
    "# As with the events field, changing the conditions field to numeric values based on the likelihood of causing delays\n",
    "weather.conditions.replace(['Unknown',\n",
    "'Clear',\n",
    "'Overcast',\n",
    "'Partly Cloudy',\n",
    "'Drizzle',\n",
    "'Scattered Clouds',\n",
    "'Mostly Cloudy',\n",
    "'Haze',\n",
    "'Mist',\n",
    "'Patches of Fog',\n",
    "'Rain',\n",
    "'Shallow Fog',\n",
    "'Low Drifting Snow',\n",
    "'Rain Showers',\n",
    "'Light Blowing Snow',\n",
    "'Light Drizzle',\n",
    "'Light Fog',\n",
    "'Light Hail',\n",
    "'Light Ice Pellets',\n",
    "'Light Low Drifting Snow',\n",
    "'Light Mist',\n",
    "'Light Rain',\n",
    "'Light Rain Showers',\n",
    "'Light Sand',\n",
    "'Light Small Hail Showers',\n",
    "'Light Smoke',\n",
    "'Light Snow',\n",
    "'Light Snow Grains',\n",
    "'Light Snow Showers',\n",
    "'Light Thunderstorm',\n",
    "'Light Thunderstorms and Rain',\n",
    "'Light Thunderstorms and Snow',\n",
    "'Light Thunderstorms with Hail',\n",
    "'Light Thunderstorms with Small Hail',\n",
    "'Heavy Blowing Snow',\n",
    "'Heavy Drizzle',\n",
    "'Heavy Freezing Drizzle',\n",
    "'Heavy Freezing Fog',\n",
    "'Heavy Freezing Rain',\n",
    "'Heavy Ice Pellets',\n",
    "'Heavy Rain',\n",
    "'Heavy Rain Showers',\n",
    "'Heavy Small Hail',\n",
    "'Heavy Snow',\n",
    "'Heavy Snow Showers',\n",
    "'Heavy Thunderstorm',\n",
    "'Heavy Thunderstorms and Rain',\n",
    "'Heavy Thunderstorms and Snow',\n",
    "'Heavy Thunderstorms with Hail',\n",
    "'Heavy Thunderstorms with Small Hail',\n",
    "'Ice Crystals',\n",
    "'Ice Pellets',\n",
    "'Funnel Cloud',\n",
    "'Blowing Sand',\n",
    "'Blowing Snow',\n",
    "'Thunderstorm',\n",
    "'Thunderstorms and Rain',\n",
    "'Thunderstorms and Snow',\n",
    "'Thunderstorms with Hail',\n",
    "'Thunderstorms with Small Hail',\n",
    "'Volcanic Ash',\n",
    "'Widespread Dust',\n",
    "'Sand',\n",
    "'Sandstorm',\n",
    "'Small Hail',\n",
    "'Small Hail Showers',\n",
    "'Smoke',\n",
    "'Snow',\n",
    "'Snow Grains',\n",
    "'Snow Showers',\n",
    "'Squalls',\n",
    "'Fog',\n",
    "'Freezing Rain',\n",
    "'Hail',\n",
    "'Light Freezing Drizzle',\n",
    "'Light Freezing Fog',\n",
    "'Light Freezing Rain'], [-1,\n",
    "0,\n",
    "0,\n",
    "0,\n",
    "10,\n",
    "0,\n",
    "0,\n",
    "0,\n",
    "0,\n",
    "10,\n",
    "10,\n",
    "10,\n",
    "30,\n",
    "10,\n",
    "30,\n",
    "10,\n",
    "10,\n",
    "50,\n",
    "70,\n",
    "30,\n",
    "0,\n",
    "10,\n",
    "10,\n",
    "30,\n",
    "50,\n",
    "20,\n",
    "30,\n",
    "70,\n",
    "30,\n",
    "20,\n",
    "20,\n",
    "40,\n",
    "60,\n",
    "60,\n",
    "80,\n",
    "20,\n",
    "70,\n",
    "70,\n",
    "90,\n",
    "80,\n",
    "20,\n",
    "20,\n",
    "70,\n",
    "80,\n",
    "80,\n",
    "50,\n",
    "30,\n",
    "80,\n",
    "80,\n",
    "80,\n",
    "70,\n",
    "70,\n",
    "90,\n",
    "70,\n",
    "70,\n",
    "40,\n",
    "30,\n",
    "70,\n",
    "80,\n",
    "80,\n",
    "100,\n",
    "20,\n",
    "60,\n",
    "80,\n",
    "60,\n",
    "70,\n",
    "20,\n",
    "60,\n",
    "60,\n",
    "60,\n",
    "70,\n",
    "10,\n",
    "80,\n",
    "50,\n",
    "60,\n",
    "50,\n",
    "80], inplace=True)"
   ]
  },
  {
   "cell_type": "code",
   "execution_count": 4,
   "metadata": {
    "collapsed": false
   },
   "outputs": [
    {
     "name": "stdout",
     "output_type": "stream",
     "text": [
      "CPU times: user 2.15 s, sys: 1.53 s, total: 3.68 s\n",
      "Wall time: 4.06 s\n"
     ]
    }
   ],
   "source": [
    "%%time\n",
    "# Grouping the weather features by week of year\n",
    "weather_group = weather.groupby( [ 'airport_code', 'week_of_year'] ).mean()\n",
    "weather_group = weather_group.reset_index()\n",
    "weather_group = weather_group.drop('zip', 1)\n",
    "weather_group.fillna(-1, inplace=True)"
   ]
  },
  {
   "cell_type": "code",
   "execution_count": 5,
   "metadata": {
    "collapsed": false
   },
   "outputs": [
    {
     "name": "stdout",
     "output_type": "stream",
     "text": [
      "CPU times: user 12 µs, sys: 5 µs, total: 17 µs\n",
      "Wall time: 16 µs\n"
     ]
    }
   ],
   "source": [
    "%%time\n",
    "# This array defines the dates of holidays in 2014 and 2015\n",
    "holidays = [\n",
    "        date(2014, 1, 1), date(2014, 1, 20), date(2014, 5, 26), date(2014, 7, 4), \\\n",
    "        date(2014, 9, 1), date(2014, 11, 27), date(2014, 12, 25), \\\n",
    "        date(2015, 1, 1), date(2015, 1, 19), date(2015, 5, 25), date(2015, 7, 4), \\\n",
    "        date(2015, 9, 7), date(2015, 11, 26), date(2015, 12, 25) \\\n",
    "     ]\n",
    "\n",
    "#Function that gives the number of days from a date to the nearest holiday\n",
    "def days_from_nearest_holiday(year, month, day):\n",
    "  d = date(year, month, day)\n",
    "  x = [(abs(d-h)).days for h in holidays]\n",
    "  return min(x)"
   ]
  },
  {
   "cell_type": "code",
   "execution_count": 6,
   "metadata": {
    "collapsed": false
   },
   "outputs": [
    {
     "name": "stdout",
     "output_type": "stream",
     "text": [
      "CPU times: user 2.3 s, sys: 1.64 s, total: 3.93 s\n",
      "Wall time: 4.59 s\n"
     ]
    }
   ],
   "source": [
    "%%time\n",
    "# Combine all of the training files into one dataframe\n",
    "training = pd.concat([temp_train_2014_1, temp_train_2014_2, temp_train_2015], ignore_index=True)"
   ]
  },
  {
   "cell_type": "code",
   "execution_count": 7,
   "metadata": {
    "collapsed": false
   },
   "outputs": [
    {
     "name": "stdout",
     "output_type": "stream",
     "text": [
      "CPU times: user 17min 1s, sys: 1min 17s, total: 18min 18s\n",
      "Wall time: 18min 49s\n"
     ]
    }
   ],
   "source": [
    "%%time\n",
    "# Merge the codes file to get the IACO codes for the origin IATA code\n",
    "training = pd.merge(training, codes[['ORIGIN', 'city', 'airport_code']], left_on='ORIGIN', right_on='ORIGIN')\n",
    "training.rename(columns={'city': 'origin_city', 'airport_code': 'origin_icao_code'}, inplace=True)\n",
    "\n",
    "# Merge the codes file to get the IACO codes for the destination IATA code\n",
    "training = pd.merge(training, codes[['ORIGIN', 'city', 'airport_code']], left_on='DEST', right_on='ORIGIN')\n",
    "training.rename(columns={'city': 'dest_city', 'airport_code': 'dest_icao_code', 'ORIGIN_x': 'ORIGIN'}, inplace=True)\n",
    "training = training.drop('ORIGIN_y', 1)\n",
    "\n",
    "# Create day, week, and hour features from the flight date\n",
    "training['DAY_OF_YEAR'] = pd.to_datetime(training['FL_DATE'], errors='coerce').dt.dayofyear.astype(int)\n",
    "training['WEEK_OF_YEAR'] = pd.to_datetime(training['FL_DATE'], errors='coerce').dt.weekofyear.astype(int)\n",
    "training['hour'] = training['CRS_DEP_TIME'].map(lambda x: int(str(int(x)).zfill(4)[:2]))\n",
    "training['day'] = pd.to_datetime(training['FL_DATE'], errors='coerce').dt.day.astype(int)\n",
    "\n",
    "# Create the days from holiday feature using the function defined earlier\n",
    "training['days_from_holidays'] = [days_from_nearest_holiday(r.YEAR, r.MONTH, r.day) for i,r in training.iterrows()]\n",
    "\n",
    "# Merge the weather data with the training data on the origin and week of year\n",
    "training = pd.merge(training, weather_group, left_on=['origin_icao_code', 'WEEK_OF_YEAR'], right_on=['airport_code', 'week_of_year'], how='left')\n",
    "training.rename(columns={'conditions': 'orig_conditions', 'airport_code': 'orig_airport_code', 'week_of_year': 'orig_week_of_year', 'temperature_f': 'orig_temperature_f', 'dew_point_f': 'orig_dew_point_f', 'humidity': 'orig_humidity', 'sea_level_pressure_in': 'orig_sea_level_pressure_in', 'visibility_mph': 'orig_visibility_mph', 'wind_speed_mph': 'orig_wind_speed_mph', 'gust_speed_mph': 'orig_gust_speed_mph', 'precipitation_in': 'orig_precipitation_in', 'events': 'orig_events', 'wind_dir_degrees': 'orig_wind_dir_degrees', 'event_names': 'orig_event_names', 'condition_names': 'orig_condition_names'}, inplace=True)\n",
    "\n",
    "# Merge the weather data with the training data on the destination and week of year\n",
    "training = pd.merge(training, weather_group, left_on=['dest_icao_code', 'WEEK_OF_YEAR'], right_on=['airport_code', 'week_of_year'], how='left')\n",
    "training.rename(columns={'conditions': 'dest_conditions', 'airport_code': 'dest_airport_code', 'week_of_year': 'dest_week_of_year', 'temperature_f': 'dest_temperature_f', 'dew_point_f': 'dest_dew_point_f', 'humidity': 'dest_humidity', 'sea_level_pressure_in': 'dest_sea_level_pressure_in', 'visibility_mph': 'dest_visibility_mph', 'wind_speed_mph': 'dest_wind_speed_mph', 'gust_speed_mph': 'dest_gust_speed_mph', 'precipitation_in': 'dest_precipitation_in', 'events': 'dest_events', 'wind_dir_degrees': 'dest_wind_dir_degrees', 'event_names': 'dest_event_names', 'condition_names': 'dest_condition_names'}, inplace=True)\n",
    "\n",
    "training.fillna(-1, inplace=True)"
   ]
  },
  {
   "cell_type": "code",
   "execution_count": 8,
   "metadata": {
    "collapsed": false
   },
   "outputs": [
    {
     "name": "stdout",
     "output_type": "stream",
     "text": [
      "CPU times: user 170 µs, sys: 86 µs, total: 256 µs\n",
      "Wall time: 167 µs\n"
     ]
    }
   ],
   "source": [
    "%%time\n",
    "#Define the features to use\n",
    "features = [c for c in training.columns if c in ['days_from_holidays', 'DAY_OF_MONTH', 'DAY_OF_WEEK', 'UNIQUE_CARRIER', 'ORIGIN', 'DEST', 'DISTANCE', 'hour', 'orig_temperature_f', 'orig_dew_point_f', 'orig_humidity', 'orig_sea_level_pressure_in', 'orig_visibility_mph', 'orig_wind_speed_mph', 'orig_gust_speed_mph', 'orig_precipitation_in', 'orig_events', 'orig_conditions', 'orig_wind_dir_degrees', 'dest_temperature_f', 'dest_dew_point_f', 'dest_humidity', 'dest_sea_level_pressure_in', 'dest_visibility_mph', 'dest_wind_speed_mph', 'dest_gust_speed_mph', 'dest_precipitation_in', 'dest_events', 'dest_conditions', 'dest_wind_dir_degrees']]"
   ]
  },
  {
   "cell_type": "code",
   "execution_count": 13,
   "metadata": {
    "collapsed": false
   },
   "outputs": [
    {
     "data": {
      "text/plain": [
       "<matplotlib.axes._subplots.AxesSubplot at 0x139971e10>"
      ]
     },
     "execution_count": 13,
     "metadata": {},
     "output_type": "execute_result"
    },
    {
     "data": {
      "image/png": "[encoded data removed]",
      "text/plain": [
       "<matplotlib.figure.Figure at 0x1399718d0>"
      ]
     },
     "metadata": {},
     "output_type": "display_data"
    }
   ],
   "source": [
    "# Compute average number of delayed flights per month\n",
    "grouped = training[['ARR_DEL15', 'MONTH']].groupby('MONTH').mean()\n",
    "\n",
    "# plot average delays by month\n",
    "grouped.plot(kind='bar')"
   ]
  },
  {
   "cell_type": "code",
   "execution_count": 14,
   "metadata": {
    "collapsed": false
   },
   "outputs": [
    {
     "data": {
      "text/plain": [
       "<matplotlib.axes._subplots.AxesSubplot at 0x1033daf90>"
      ]
     },
     "execution_count": 14,
     "metadata": {},
     "output_type": "execute_result"
    },
    {
     "data": {
      "image/png": "[encoded data removed]",
      "text/plain": [
       "<matplotlib.figure.Figure at 0x103418110>"
      ]
     },
     "metadata": {},
     "output_type": "display_data"
    }
   ],
   "source": [
    "# Compute average number of delayed flights per month\n",
    "grouped = training[['ARR_DEL15', 'DAY_OF_MONTH']].groupby('DAY_OF_MONTH').mean()\n",
    "\n",
    "# plot average delays by month\n",
    "grouped.plot(kind='bar')"
   ]
  },
  {
   "cell_type": "code",
   "execution_count": 15,
   "metadata": {
    "collapsed": false
   },
   "outputs": [
    {
     "data": {
      "text/plain": [
       "<matplotlib.axes._subplots.AxesSubplot at 0x119af18d0>"
      ]
     },
     "execution_count": 15,
     "metadata": {},
     "output_type": "execute_result"
    },
    {
     "data": {
      "image/png": "[encoded data removed]",
      "text/plain": [
       "<matplotlib.figure.Figure at 0x119b04310>"
      ]
     },
     "metadata": {},
     "output_type": "display_data"
    }
   ],
   "source": [
    "# Compute average number of delayed flights by hour\n",
    "grouped = training[['ARR_DEL15', 'hour']].groupby('hour').mean()\n",
    "\n",
    "# plot average delays by hour of day\n",
    "grouped.plot(kind='bar')"
   ]
  },
  {
   "cell_type": "code",
   "execution_count": 16,
   "metadata": {
    "collapsed": false
   },
   "outputs": [
    {
     "data": {
      "text/plain": [
       "<matplotlib.axes._subplots.AxesSubplot at 0x119d77290>"
      ]
     },
     "execution_count": 16,
     "metadata": {},
     "output_type": "execute_result"
    },
    {
     "data": {
      "image/png": "[encoded data removed]",
      "text/plain": [
       "<matplotlib.figure.Figure at 0x11a14c210>"
      ]
     },
     "metadata": {},
     "output_type": "display_data"
    }
   ],
   "source": [
    "# Compute average number of delayed flights per carrier\n",
    "grouped1 = training[['ARR_DEL15', 'UNIQUE_CARRIER']].groupby('UNIQUE_CARRIER').filter(lambda x: len(x)>15)\n",
    "grouped2 = grouped1.groupby('UNIQUE_CARRIER').mean()\n",
    "carrier = grouped2.sort(['ARR_DEL15'], ascending=False)\n",
    "\n",
    "# display top 15 destination carriers by delay\n",
    "carrier.plot(kind='bar')"
   ]
  },
  {
   "cell_type": "code",
   "execution_count": 17,
   "metadata": {
    "collapsed": false
   },
   "outputs": [
    {
     "data": {
      "text/plain": [
       "<matplotlib.axes._subplots.AxesSubplot at 0x11a16e390>"
      ]
     },
     "execution_count": 17,
     "metadata": {},
     "output_type": "execute_result"
    },
    {
     "data": {
      "image/png": "[encoded data removed]",
      "text/plain": [
       "<matplotlib.figure.Figure at 0x119b6fe90>"
      ]
     },
     "metadata": {},
     "output_type": "display_data"
    }
   ],
   "source": [
    "# Compute average number of delayed flights per origin airport\n",
    "grouped1 = training[['ARR_DEL15', 'ORIGIN']].groupby('ORIGIN').filter(lambda x: len(x)>15)\n",
    "grouped2 = grouped1.groupby('ORIGIN').mean()\n",
    "carrier = grouped2.sort(['ARR_DEL15'], ascending=False)\n",
    "\n",
    "# display top 15 origin airports by delay\n",
    "carrier[:15].plot(kind='bar')"
   ]
  },
  {
   "cell_type": "code",
   "execution_count": 18,
   "metadata": {
    "collapsed": false
   },
   "outputs": [
    {
     "name": "stdout",
     "output_type": "stream",
     "text": [
      "1814744 6682187\n"
     ]
    }
   ],
   "source": [
    "# There's a large difference in the amount of data for delayed vs. on time flights\n",
    "print len(training[training['ARR_DEL15'] == 1]), len(training[training['ARR_DEL15'] == 0])"
   ]
  },
  {
   "cell_type": "code",
   "execution_count": 12,
   "metadata": {
    "collapsed": false
   },
   "outputs": [
    {
     "name": "stdout",
     "output_type": "stream",
     "text": [
      "CPU times: user 93 µs, sys: 16 µs, total: 109 µs\n",
      "Wall time: 99.9 µs\n"
     ]
    }
   ],
   "source": [
    "%%time\n",
    "#Define the features in order to export the training set to a csv for quicker reinput\n",
    "features_for_export = [c for c in training.columns if c in ['ARR_DEL15', 'days_from_holidays', 'DAY_OF_MONTH', 'DAY_OF_WEEK', 'UNIQUE_CARRIER', 'ORIGIN', 'DEST', 'DISTANCE', 'hour', 'orig_temperature_f', 'orig_dew_point_f', 'orig_humidity', 'orig_sea_level_pressure_in', 'orig_visibility_mph', 'orig_wind_speed_mph', 'orig_gust_speed_mph', 'orig_precipitation_in', 'orig_events', 'orig_conditions', 'orig_wind_dir_degrees', 'dest_temperature_f', 'dest_dew_point_f', 'dest_humidity', 'dest_sea_level_pressure_in', 'dest_visibility_mph', 'dest_wind_speed_mph', 'dest_gust_speed_mph', 'dest_precipitation_in', 'dest_events', 'dest_conditions', 'dest_wind_dir_degrees']]"
   ]
  },
  {
   "cell_type": "code",
   "execution_count": 19,
   "metadata": {
    "collapsed": false
   },
   "outputs": [
    {
     "name": "stdout",
     "output_type": "stream",
     "text": [
      "CPU times: user 5min 3s, sys: 12.8 s, total: 5min 16s\n",
      "Wall time: 5min 24s\n"
     ]
    }
   ],
   "source": [
    "%%time\n",
    "training[features_for_export].to_csv('combined_data.csv', index=False)"
   ]
  },
  {
   "cell_type": "code",
   "execution_count": 2,
   "metadata": {
    "collapsed": false
   },
   "outputs": [
    {
     "name": "stdout",
     "output_type": "stream",
     "text": [
      "CPU times: user 53 s, sys: 7.49 s, total: 1min\n",
      "Wall time: 1min 1s\n"
     ]
    }
   ],
   "source": [
    "%%time\n",
    "#Create training set from combined data already saved to csv\n",
    "training = pd.read_csv('combined_data.csv', iterator=True, chunksize=100000)\n",
    "training = pd.concat([chunk for chunk in training], ignore_index=True)"
   ]
  },
  {
   "cell_type": "code",
   "execution_count": 3,
   "metadata": {
    "collapsed": false
   },
   "outputs": [
    {
     "name": "stdout",
     "output_type": "stream",
     "text": [
      "CPU times: user 10.6 s, sys: 7.57 s, total: 18.2 s\n",
      "Wall time: 19.4 s\n"
     ]
    }
   ],
   "source": [
    "%%time\n",
    "# Reduce the number of on time training instances so that the model will fit more easily into memory\n",
    "# Keep all delayed instances and take random instances of on time flights equal to the number of\n",
    "# delayed instances\n",
    "delayed = training[training['ARR_DEL15'] == 1]\n",
    "on_time = training[training['ARR_DEL15'] == 0]\n",
    "sample_rows = np.random.choice(on_time.index.values, len(delayed))\n",
    "on_time = on_time.ix[sample_rows]\n",
    "training = pd.concat([on_time, delayed], ignore_index=True)"
   ]
  },
  {
   "cell_type": "code",
   "execution_count": 4,
   "metadata": {
    "collapsed": false
   },
   "outputs": [
    {
     "name": "stdout",
     "output_type": "stream",
     "text": [
      "CPU times: user 414 ms, sys: 411 ms, total: 825 ms\n",
      "Wall time: 825 ms\n"
     ]
    }
   ],
   "source": [
    "%%time\n",
    "labels = training['ARR_DEL15']\n",
    "training = training.drop('ARR_DEL15', 1)"
   ]
  },
  {
   "cell_type": "code",
   "execution_count": 5,
   "metadata": {
    "collapsed": false
   },
   "outputs": [
    {
     "name": "stdout",
     "output_type": "stream",
     "text": [
      "CPU times: user 9.14 s, sys: 173 ms, total: 9.32 s\n",
      "Wall time: 9.33 s\n"
     ]
    }
   ],
   "source": [
    "%%time\n",
    "# Transform the string labels to numerical using label encoder \n",
    "training.UNIQUE_CARRIER = le.fit_transform(training.UNIQUE_CARRIER)\n",
    "training.ORIGIN = le.fit_transform(training.ORIGIN)\n",
    "training.DEST = le.fit_transform(training.DEST)"
   ]
  },
  {
   "cell_type": "code",
   "execution_count": 6,
   "metadata": {
    "collapsed": false
   },
   "outputs": [
    {
     "name": "stdout",
     "output_type": "stream",
     "text": [
      "(3629488, 758)\n",
      "CPU times: user 7.24 s, sys: 5.79 s, total: 13 s\n",
      "Wall time: 16.8 s\n"
     ]
    }
   ],
   "source": [
    "%%time\n",
    "categ = [list(training.columns).index(x) for x in 'DAY_OF_MONTH', 'DAY_OF_WEEK', 'UNIQUE_CARRIER', 'ORIGIN', 'DEST', 'hour']\n",
    "enc = preprocessing.OneHotEncoder(categorical_features = categ)\n",
    "training['UNIQUE_CARRIER'] = pd.factorize(training['UNIQUE_CARRIER'])[0]\n",
    "training['ORIGIN'] = pd.factorize(training['ORIGIN'])[0]\n",
    "training['DEST'] = pd.factorize(training['DEST'])[0]\n",
    "sparse_train = enc.fit_transform(training)\n",
    "print sparse_train.shape"
   ]
  },
  {
   "cell_type": "code",
   "execution_count": 7,
   "metadata": {
    "collapsed": false
   },
   "outputs": [
    {
     "name": "stdout",
     "output_type": "stream",
     "text": [
      "CPU times: user 7.93 s, sys: 2.35 s, total: 10.3 s\n",
      "Wall time: 10.8 s\n"
     ]
    }
   ],
   "source": [
    "%%time\n",
    "# Create training and testing sets using cross validation\n",
    "features_train_1, features_test_1, labels_train_1, labels_test_1 = cross_validation.train_test_split(sparse_train, labels, test_size=0.70)\n",
    "features_train_2, features_test_2, labels_train_2, labels_test_2 = cross_validation.train_test_split(features_train_1, labels_train_1, test_size=0.70)\n",
    "features_train, features_test, labels_train, labels_test = cross_validation.train_test_split(features_train_2, labels_train_2, test_size=0.70)"
   ]
  },
  {
   "cell_type": "code",
   "execution_count": 8,
   "metadata": {
    "collapsed": false
   },
   "outputs": [
    {
     "name": "stdout",
     "output_type": "stream",
     "text": [
      "CPU times: user 9min 54s, sys: 1.92 s, total: 9min 56s\n",
      "Wall time: 2min 38s\n"
     ]
    }
   ],
   "source": [
    "%%time\n",
    "#d_tree = tree.DecisionTreeClassifier(min_samples_split=1000).fit(features_train, labels_train)\n",
    "# Best so far: clf_rf = ensemble.RandomForestClassifier(n_estimators=50, n_jobs=-1, min_samples_split=50).fit(features_train, labels_train)\n",
    "# forest = ensemble.RandomForestClassifier(n_estimators=50, n_jobs=-1).fit(features_train, labels_train)\n",
    "# naive = GaussianNB().fit(features_train, labels_train)\n",
    "forest = ensemble.RandomForestClassifier(n_estimators=100, n_jobs=-1).fit(features_train, labels_train)"
   ]
  },
  {
   "cell_type": "code",
   "execution_count": 9,
   "metadata": {
    "collapsed": false
   },
   "outputs": [
    {
     "name": "stdout",
     "output_type": "stream",
     "text": [
      "Confusion matrix\n",
      "       0      1\n",
      "0  71922  43001\n",
      "1  44020  69715\n"
     ]
    },
    {
     "name": "stderr",
     "output_type": "stream",
     "text": [
      "/Users/arkham/anaconda/lib/python2.7/site-packages/sklearn/metrics/classification.py:976: DeprecationWarning: From version 0.18, binary input will not be handled specially when using averaged precision/recall/F-score. Please use average='binary' to report only the positive class performance.\n",
      "  'positive class performance.', DeprecationWarning)\n"
     ]
    },
    {
     "name": "stdout",
     "output_type": "stream",
     "text": [
      "precision = 0.62, recall = 0.61, F1 = 0.62, accuracy = 0.62\n",
      "\n",
      "CPU times: user 15.3 s, sys: 731 ms, total: 16 s\n",
      "Wall time: 5.47 s\n"
     ]
    }
   ],
   "source": [
    "%%time\n",
    "# Evaluate on test set\n",
    "pred = forest.predict(features_test)\n",
    "\n",
    "\n",
    "# print results\n",
    "cm = confusion_matrix(labels_test, pred)\n",
    "print(\"Confusion matrix\")\n",
    "print(pd.DataFrame(cm))\n",
    "\n",
    "report_rf = precision_recall_fscore_support(list(labels_test), list(pred), average='micro')\n",
    "print \"precision = %0.2f, recall = %0.2f, F1 = %0.2f, accuracy = %0.2f\\n\" % \\\n",
    "        (report_rf[0], report_rf[1], report_rf[2], metrics.roc_auc_score(list(labels_test.values), list(pred)))"
   ]
  },
  {
   "cell_type": "code",
   "execution_count": 10,
   "metadata": {
    "collapsed": false
   },
   "outputs": [
    {
     "name": "stdout",
     "output_type": "stream",
     "text": [
      "CPU times: user 7 µs, sys: 1e+03 ns, total: 8 µs\n",
      "Wall time: 12.9 µs\n"
     ]
    }
   ],
   "source": [
    "%%time\n",
    "def modelfit(alg, features, labels, useTrainCV=True, cv_folds=5, early_stopping_rounds=20):\n",
    "    \n",
    "    if useTrainCV:\n",
    "        xgb_param = alg.get_xgb_params()\n",
    "        xgtrain = xgb.DMatrix(features, label=labels)\n",
    "        cvresult = xgb.cv(xgb_param, xgtrain, num_boost_round=alg.get_params()['n_estimators'], nfold=cv_folds,\n",
    "            metrics=['auc'], early_stopping_rounds=early_stopping_rounds, show_progress=True)\n",
    "        alg.set_params(n_estimators=cvresult.shape[0])\n",
    "    \n",
    "    #Fit the algorithm on the data\n",
    "    alg.fit(features, labels, eval_metric='auc')\n",
    "        \n",
    "    #Predict training set:\n",
    "    dtrain_predictions = alg.predict(features)\n",
    "    dtrain_predprob = alg.predict_proba(features)[:,1]\n",
    "        \n",
    "    #Print model report:\n",
    "    print \"\\nModel Report\"\n",
    "    print \"Accuracy : %.4g\" % metrics.accuracy_score(labels.values, dtrain_predictions)\n",
    "    print \"AUC Score (Train): %f\" % metrics.roc_auc_score(labels, dtrain_predprob)\n",
    "                    \n",
    "#     feat_imp = pd.Series(alg.booster().get_fscore()).sort_values(ascending=False)\n",
    "#     feat_imp.plot(kind='bar', title='Feature Importances')\n",
    "#     plt.ylabel('Feature Importance Score')"
   ]
  },
  {
   "cell_type": "code",
   "execution_count": 11,
   "metadata": {
    "collapsed": false,
    "scrolled": true
   },
   "outputs": [
    {
     "name": "stderr",
     "output_type": "stream",
     "text": [
      "Will train until cv error hasn't decreased in 20 rounds.\n",
      "[0]\tcv-test-auc:0.5971034+0.00393730824803\tcv-train-auc:0.5972822+0.00315987926352\n",
      "[1]\tcv-test-auc:0.6304+0.00220948509839\tcv-train-auc:0.6311262+0.00264534772005\n",
      "[2]\tcv-test-auc:0.6450146+0.00227191378358\tcv-train-auc:0.6462168+0.00216161295333\n",
      "[3]\tcv-test-auc:0.6535628+0.00352969536363\tcv-train-auc:0.6553766+0.00184536019248\n",
      "[4]\tcv-test-auc:0.6595458+0.00243315822749\tcv-train-auc:0.6615238+0.000734351795804\n",
      "[5]\tcv-test-auc:0.6637502+0.00299301248912\tcv-train-auc:0.665964+0.00162332954141\n",
      "[6]\tcv-test-auc:0.666931+0.00271475774241\tcv-train-auc:0.6695058+0.00124030841326\n",
      "[7]\tcv-test-auc:0.670237+0.00184305355321\tcv-train-auc:0.6729646+0.00136936358941\n",
      "[8]\tcv-test-auc:0.6728234+0.00140291148687\tcv-train-auc:0.6757788+0.0010769080555\n",
      "[9]\tcv-test-auc:0.6744756+0.00134232732223\tcv-train-auc:0.677651+0.000999066564349\n",
      "[10]\tcv-test-auc:0.6766078+0.00168946588009\tcv-train-auc:0.680044+0.00106782320634\n",
      "[11]\tcv-test-auc:0.6781976+0.00225047129286\tcv-train-auc:0.6818324+0.00109726106283\n",
      "[12]\tcv-test-auc:0.679805+0.00257126280259\tcv-train-auc:0.68382+0.00132447227227\n",
      "[13]\tcv-test-auc:0.6812116+0.00251164476788\tcv-train-auc:0.6854992+0.00123847057292\n",
      "[14]\tcv-test-auc:0.6827842+0.00204628613835\tcv-train-auc:0.6873412+0.00153657103969\n",
      "[15]\tcv-test-auc:0.6840106+0.00200547646209\tcv-train-auc:0.6888704+0.00142471366948\n",
      "[16]\tcv-test-auc:0.684971+0.00210367735169\tcv-train-auc:0.6901882+0.00142955369259\n",
      "[17]\tcv-test-auc:0.6858834+0.00180675649715\tcv-train-auc:0.6913964+0.00144520262939\n",
      "[18]\tcv-test-auc:0.6869994+0.00182632051951\tcv-train-auc:0.6927598+0.0012989015975\n",
      "[19]\tcv-test-auc:0.6879482+0.00176785162273\tcv-train-auc:0.693998+0.00141550061816\n",
      "[20]\tcv-test-auc:0.688956+0.00200358528643\tcv-train-auc:0.695292+0.00164930591462\n",
      "[21]\tcv-test-auc:0.689995+0.00253941859488\tcv-train-auc:0.6965276+0.00189800006322\n",
      "[22]\tcv-test-auc:0.6907258+0.00258788341314\tcv-train-auc:0.69758+0.00184251317499\n",
      "[23]\tcv-test-auc:0.691642+0.00292375429884\tcv-train-auc:0.6986716+0.00209814800241\n",
      "[24]\tcv-test-auc:0.6922038+0.00277925539668\tcv-train-auc:0.6994622+0.00196292673322\n",
      "[25]\tcv-test-auc:0.6929962+0.00264093721243\tcv-train-auc:0.7005688+0.00175926307299\n",
      "[26]\tcv-test-auc:0.6937824+0.00283228081941\tcv-train-auc:0.701596+0.00180570961121\n",
      "[27]\tcv-test-auc:0.694046+0.00281205810751\tcv-train-auc:0.7021384+0.00189605301614\n",
      "[28]\tcv-test-auc:0.6945096+0.00284904486451\tcv-train-auc:0.7027886+0.00197107540191\n",
      "[29]\tcv-test-auc:0.695108+0.00261246879407\tcv-train-auc:0.703558+0.0017662107462\n",
      "[30]\tcv-test-auc:0.6956024+0.00256760959649\tcv-train-auc:0.7043534+0.00180442363097\n",
      "[31]\tcv-test-auc:0.6961748+0.00254055461661\tcv-train-auc:0.7051076+0.00193752951978\n",
      "[32]\tcv-test-auc:0.6967606+0.00209698656171\tcv-train-auc:0.7058912+0.00152385857612\n",
      "[33]\tcv-test-auc:0.6972758+0.00189466835093\tcv-train-auc:0.7067184+0.00151089478125\n",
      "[34]\tcv-test-auc:0.6975312+0.00191012150399\tcv-train-auc:0.7072628+0.00159173658625\n",
      "[35]\tcv-test-auc:0.6980744+0.0018077319049\tcv-train-auc:0.7079672+0.00151562309299\n",
      "[36]\tcv-test-auc:0.6983524+0.00175788777799\tcv-train-auc:0.7085224+0.00166075676726\n",
      "[37]\tcv-test-auc:0.698797+0.00147584416522\tcv-train-auc:0.7091048+0.00167668379845\n",
      "[38]\tcv-test-auc:0.6992916+0.00143451421743\tcv-train-auc:0.7097008+0.00170751203802\n",
      "[39]\tcv-test-auc:0.6995476+0.00147959407947\tcv-train-auc:0.7101568+0.00171541241688\n",
      "[40]\tcv-test-auc:0.6997234+0.00133250209756\tcv-train-auc:0.7105342+0.00166127221129\n",
      "[41]\tcv-test-auc:0.7001714+0.00116261353854\tcv-train-auc:0.7111288+0.00169942100728\n",
      "[42]\tcv-test-auc:0.700468+0.00130399800613\tcv-train-auc:0.711623+0.00188760546725\n",
      "[43]\tcv-test-auc:0.7006488+0.00146491984764\tcv-train-auc:0.7121042+0.00179332098633\n",
      "[44]\tcv-test-auc:0.7007678+0.001479615815\tcv-train-auc:0.7124348+0.0017966146387\n",
      "[45]\tcv-test-auc:0.700951+0.00143047754264\tcv-train-auc:0.71288+0.00176950591974\n",
      "[46]\tcv-test-auc:0.7011734+0.00141869046659\tcv-train-auc:0.7132914+0.00173181437804\n",
      "[47]\tcv-test-auc:0.7013398+0.00137659556879\tcv-train-auc:0.7136634+0.00178314549042\n",
      "[48]\tcv-test-auc:0.7014244+0.00137631182513\tcv-train-auc:0.7139724+0.00172628139074\n",
      "[49]\tcv-test-auc:0.7015638+0.00134831708437\tcv-train-auc:0.7142866+0.00178212408098\n",
      "[50]\tcv-test-auc:0.7020288+0.00103729289981\tcv-train-auc:0.7149576+0.00156750765229\n",
      "[51]\tcv-test-auc:0.7024624+0.00102986302002\tcv-train-auc:0.7155178+0.0014373458039\n",
      "[52]\tcv-test-auc:0.7026734+0.00109348207118\tcv-train-auc:0.7159186+0.0012975308243\n",
      "[53]\tcv-test-auc:0.7028516+0.00111028727814\tcv-train-auc:0.7162652+0.00118498243025\n",
      "[54]\tcv-test-auc:0.703261+0.00114072275335\tcv-train-auc:0.7168482+0.00116305896669\n",
      "[55]\tcv-test-auc:0.7037146+0.00124444037222\tcv-train-auc:0.7174052+0.00103803957535\n",
      "[56]\tcv-test-auc:0.7041194+0.00141347042417\tcv-train-auc:0.7179276+0.000966981406233\n",
      "[57]\tcv-test-auc:0.7043258+0.00156106507231\tcv-train-auc:0.7182782+0.000926674786535\n",
      "[58]\tcv-test-auc:0.7044986+0.00157230500858\tcv-train-auc:0.7186812+0.00104168294601\n",
      "[59]\tcv-test-auc:0.7046556+0.00160483327483\tcv-train-auc:0.7190378+0.00110585376972\n",
      "[60]\tcv-test-auc:0.7049436+0.00179933016426\tcv-train-auc:0.7195016+0.0012390781412\n",
      "[61]\tcv-test-auc:0.7052506+0.00186807126202\tcv-train-auc:0.7199798+0.0013535948286\n",
      "[62]\tcv-test-auc:0.7056172+0.00174369118826\tcv-train-auc:0.7205752+0.00138759207262\n",
      "[63]\tcv-test-auc:0.7058268+0.00173586029392\tcv-train-auc:0.7210196+0.00145902811488\n",
      "[64]\tcv-test-auc:0.7059302+0.00168776389344\tcv-train-auc:0.7213388+0.0013675738225\n",
      "[65]\tcv-test-auc:0.7061174+0.00177121659884\tcv-train-auc:0.721718+0.00138741587132\n",
      "[66]\tcv-test-auc:0.706271+0.00167369423731\tcv-train-auc:0.7220272+0.00145431033827\n",
      "[67]\tcv-test-auc:0.706551+0.00158410542578\tcv-train-auc:0.722399+0.0013131324381\n",
      "[68]\tcv-test-auc:0.706658+0.0016487227784\tcv-train-auc:0.7226812+0.00135536613504\n",
      "[69]\tcv-test-auc:0.7070624+0.00166510463335\tcv-train-auc:0.7231748+0.00143317192269\n",
      "[70]\tcv-test-auc:0.707143+0.00171203154177\tcv-train-auc:0.7234204+0.00145877463647\n",
      "[71]\tcv-test-auc:0.7073486+0.00178562029558\tcv-train-auc:0.7237494+0.00134736403396\n",
      "[72]\tcv-test-auc:0.7076466+0.00179226411\tcv-train-auc:0.7241578+0.0012725386281\n",
      "[73]\tcv-test-auc:0.7078448+0.00179097475136\tcv-train-auc:0.7245894+0.00131372456778\n",
      "[74]\tcv-test-auc:0.7080886+0.0018004863343\tcv-train-auc:0.7249282+0.00143041076618\n",
      "[75]\tcv-test-auc:0.7081986+0.0018413821548\tcv-train-auc:0.7251624+0.00147695600476\n",
      "[76]\tcv-test-auc:0.7084434+0.00180847964877\tcv-train-auc:0.7256236+0.00148176632436\n",
      "[77]\tcv-test-auc:0.708663+0.00186453758342\tcv-train-auc:0.7260128+0.00153209313033\n",
      "[78]\tcv-test-auc:0.7087714+0.0018926823928\tcv-train-auc:0.7262824+0.00147291379245\n",
      "[79]\tcv-test-auc:0.708908+0.00182216102472\tcv-train-auc:0.7265886+0.00142283415759\n",
      "[80]\tcv-test-auc:0.7090676+0.00183366492032\tcv-train-auc:0.7269032+0.00141966945449\n",
      "[81]\tcv-test-auc:0.709191+0.00184161190265\tcv-train-auc:0.7272116+0.00140871950366\n",
      "[82]\tcv-test-auc:0.709446+0.00185116017675\tcv-train-auc:0.7275986+0.00148019250099\n",
      "[83]\tcv-test-auc:0.7096602+0.00181372339677\tcv-train-auc:0.72794+0.00140325550061\n",
      "[84]\tcv-test-auc:0.7097246+0.00171180169412\tcv-train-auc:0.7281982+0.00135818414068\n",
      "[85]\tcv-test-auc:0.7097572+0.00173187787098\tcv-train-auc:0.7283764+0.00131925988342\n",
      "[86]\tcv-test-auc:0.7098142+0.00170779172032\tcv-train-auc:0.7286018+0.00127449164768\n",
      "[87]\tcv-test-auc:0.709826+0.00171289567692\tcv-train-auc:0.7287766+0.00125425174507\n",
      "[88]\tcv-test-auc:0.7098712+0.0016773836055\tcv-train-auc:0.7289776+0.00122506825932\n",
      "[89]\tcv-test-auc:0.7100466+0.00169873395209\tcv-train-auc:0.7293062+0.00138423284169\n",
      "[90]\tcv-test-auc:0.7102894+0.0016964491858\tcv-train-auc:0.7296916+0.00127334843621\n",
      "[91]\tcv-test-auc:0.7103558+0.00168145762956\tcv-train-auc:0.7298964+0.00130092607015\n",
      "[92]\tcv-test-auc:0.7105122+0.00164583977349\tcv-train-auc:0.7302302+0.00133729748373\n",
      "[93]\tcv-test-auc:0.7106354+0.0016155178241\tcv-train-auc:0.7305708+0.00127292818336\n",
      "[94]\tcv-test-auc:0.7106976+0.00156881950523\tcv-train-auc:0.730816+0.00121726266681\n",
      "[95]\tcv-test-auc:0.710843+0.00154811549957\tcv-train-auc:0.7310832+0.00118992140917\n",
      "[96]\tcv-test-auc:0.7109248+0.00142578531343\tcv-train-auc:0.7313546+0.00115340220218\n",
      "[97]\tcv-test-auc:0.7111126+0.00167458814041\tcv-train-auc:0.7317278+0.00121929838842\n",
      "[98]\tcv-test-auc:0.7112322+0.00176479193108\tcv-train-auc:0.7320118+0.00127476576672\n",
      "[99]\tcv-test-auc:0.711351+0.00187196175175\tcv-train-auc:0.7323164+0.0012623601071\n",
      "[100]\tcv-test-auc:0.7114026+0.00186439658871\tcv-train-auc:0.73248+0.00127146576832\n",
      "[101]\tcv-test-auc:0.711523+0.00182756001269\tcv-train-auc:0.732798+0.00124446598989\n",
      "[102]\tcv-test-auc:0.711648+0.00184370464012\tcv-train-auc:0.7330834+0.00132941168943\n",
      "[103]\tcv-test-auc:0.7117478+0.00169211741909\tcv-train-auc:0.7333096+0.00118192531067\n",
      "[104]\tcv-test-auc:0.7118338+0.00160603118276\tcv-train-auc:0.7335366+0.0011621751331\n",
      "[105]\tcv-test-auc:0.711951+0.00149108108431\tcv-train-auc:0.7338394+0.00102285768316\n",
      "[106]\tcv-test-auc:0.7119928+0.00148845576353\tcv-train-auc:0.7340432+0.000993833466935\n",
      "[107]\tcv-test-auc:0.7121484+0.00139892838988\tcv-train-auc:0.7343776+0.0010067227225\n",
      "[108]\tcv-test-auc:0.7123502+0.00152942098848\tcv-train-auc:0.7347436+0.000968153830752\n",
      "[109]\tcv-test-auc:0.7125042+0.00157403829687\tcv-train-auc:0.73503+0.000943760139018\n",
      "[110]\tcv-test-auc:0.7126184+0.00169199215128\tcv-train-auc:0.7353426+0.000903108985671\n",
      "[111]\tcv-test-auc:0.7127402+0.00173883942904\tcv-train-auc:0.7356024+0.000963054432522\n",
      "[112]\tcv-test-auc:0.7128202+0.00164927467694\tcv-train-auc:0.7358846+0.000873702832776\n",
      "[113]\tcv-test-auc:0.7129124+0.00167383817617\tcv-train-auc:0.7361586+0.000924979048411\n",
      "[114]\tcv-test-auc:0.713012+0.00160015649235\tcv-train-auc:0.7364052+0.000951298775359\n",
      "[115]\tcv-test-auc:0.7131052+0.0015854656603\tcv-train-auc:0.7366316+0.000980665610695\n",
      "[116]\tcv-test-auc:0.7132316+0.00157363179937\tcv-train-auc:0.7368442+0.000997878429469\n",
      "[117]\tcv-test-auc:0.7134014+0.0015670574463\tcv-train-auc:0.7371408+0.0010056491237\n",
      "[118]\tcv-test-auc:0.7133778+0.00154930286258\tcv-train-auc:0.7372998+0.00104658270576\n",
      "[119]\tcv-test-auc:0.7134778+0.00157945375368\tcv-train-auc:0.73756+0.0010326379811\n",
      "[120]\tcv-test-auc:0.7134886+0.00159322422778\tcv-train-auc:0.7377294+0.00102278318328\n",
      "[121]\tcv-test-auc:0.7134768+0.00156904294396\tcv-train-auc:0.7379502+0.000985840027591\n",
      "[122]\tcv-test-auc:0.713558+0.00158693364701\tcv-train-auc:0.738149+0.000989048431574\n",
      "[123]\tcv-test-auc:0.7135792+0.00165864588143\tcv-train-auc:0.7383638+0.00104586641594\n",
      "[124]\tcv-test-auc:0.713667+0.00170477693555\tcv-train-auc:0.73859+0.0010431991181\n",
      "[125]\tcv-test-auc:0.7137658+0.00163672739331\tcv-train-auc:0.7388406+0.00097252549581\n",
      "[126]\tcv-test-auc:0.7139018+0.00149983511094\tcv-train-auc:0.7390934+0.000887129663578\n",
      "[127]\tcv-test-auc:0.7139728+0.00150267540074\tcv-train-auc:0.7393194+0.000907092630331\n",
      "[128]\tcv-test-auc:0.7141702+0.00149044294087\tcv-train-auc:0.739637+0.000760421462085\n",
      "[129]\tcv-test-auc:0.7143106+0.00148981631082\tcv-train-auc:0.739902+0.000785910427466\n",
      "[130]\tcv-test-auc:0.7143632+0.00146864718704\tcv-train-auc:0.7401818+0.000812138264091\n",
      "[131]\tcv-test-auc:0.7144286+0.00151291263462\tcv-train-auc:0.7403996+0.000782258934113\n",
      "[132]\tcv-test-auc:0.7144958+0.00143952761696\tcv-train-auc:0.7406066+0.000793278412665\n",
      "[133]\tcv-test-auc:0.714524+0.00146897324686\tcv-train-auc:0.7408146+0.000808252089388\n",
      "[134]\tcv-test-auc:0.7145416+0.00146772784943\tcv-train-auc:0.7409942+0.000903064648849\n",
      "[135]\tcv-test-auc:0.7145968+0.00145023148497\tcv-train-auc:0.741196+0.000931887332246\n",
      "[136]\tcv-test-auc:0.71459+0.0014837222112\tcv-train-auc:0.7413766+0.000931809765993\n",
      "[137]\tcv-test-auc:0.714658+0.00142209127696\tcv-train-auc:0.7416064+0.000891306367081\n",
      "[138]\tcv-test-auc:0.7146796+0.00151886215306\tcv-train-auc:0.7418074+0.000929707394829\n",
      "[139]\tcv-test-auc:0.714751+0.00152606736418\tcv-train-auc:0.7419826+0.000980232747872\n",
      "[140]\tcv-test-auc:0.714752+0.00153072832338\tcv-train-auc:0.7421302+0.00097347940913\n",
      "[141]\tcv-test-auc:0.7147236+0.00155666600143\tcv-train-auc:0.7422922+0.000966292792067\n",
      "[142]\tcv-test-auc:0.7147674+0.00153485199286\tcv-train-auc:0.7424616+0.000916544292438\n",
      "[143]\tcv-test-auc:0.7148384+0.00146184029223\tcv-train-auc:0.7426816+0.000918263055992\n",
      "[144]\tcv-test-auc:0.7148458+0.00142871150342\tcv-train-auc:0.7428698+0.000909192476872\n",
      "[145]\tcv-test-auc:0.7148414+0.00150332399701\tcv-train-auc:0.7430376+0.000903939511251\n",
      "[146]\tcv-test-auc:0.7148936+0.00146396661164\tcv-train-auc:0.7432586+0.000889775836939\n",
      "[147]\tcv-test-auc:0.7150258+0.00144965256527\tcv-train-auc:0.7434842+0.0008574253087\n",
      "[148]\tcv-test-auc:0.7150384+0.00141109072706\tcv-train-auc:0.743664+0.000859395601571\n",
      "[149]\tcv-test-auc:0.7150676+0.0013670870638\tcv-train-auc:0.7438508+0.000799049535386\n",
      "[150]\tcv-test-auc:0.7150264+0.00136576815016\tcv-train-auc:0.7439912+0.000817178903301\n",
      "[151]\tcv-test-auc:0.7150254+0.00136853784749\tcv-train-auc:0.7441496+0.000829657905404\n",
      "[152]\tcv-test-auc:0.7150428+0.00132025639934\tcv-train-auc:0.7443312+0.000818856128999\n",
      "[153]\tcv-test-auc:0.7150624+0.00128090789677\tcv-train-auc:0.7444814+0.00078998040482\n",
      "[154]\tcv-test-auc:0.7150838+0.00132928121931\tcv-train-auc:0.7446632+0.000799706296086\n",
      "[155]\tcv-test-auc:0.7150882+0.0013360542504\tcv-train-auc:0.7448372+0.000867795690241\n",
      "[156]\tcv-test-auc:0.7151134+0.00133880224081\tcv-train-auc:0.7449706+0.000879861716408\n",
      "[157]\tcv-test-auc:0.7151284+0.00135023280956\tcv-train-auc:0.7451344+0.000887302789357\n",
      "[158]\tcv-test-auc:0.7150984+0.00129999039996\tcv-train-auc:0.7452408+0.000885694620058\n",
      "[159]\tcv-test-auc:0.715083+0.00132129073258\tcv-train-auc:0.745405+0.000848276605831\n",
      "[160]\tcv-test-auc:0.7151506+0.00137074966351\tcv-train-auc:0.7455928+0.00090665746564\n",
      "[161]\tcv-test-auc:0.7151556+0.00137338495696\tcv-train-auc:0.7457346+0.000869284901514\n",
      "[162]\tcv-test-auc:0.7151926+0.00133419123067\tcv-train-auc:0.7459224+0.000904016504274\n",
      "[163]\tcv-test-auc:0.715272+0.00131542783915\tcv-train-auc:0.7461074+0.000876239373687\n",
      "[164]\tcv-test-auc:0.715291+0.00129744656923\tcv-train-auc:0.746267+0.000860272747447\n",
      "[165]\tcv-test-auc:0.7152862+0.00128882697054\tcv-train-auc:0.7464156+0.000834160320322\n",
      "[166]\tcv-test-auc:0.7153104+0.00131039041511\tcv-train-auc:0.746594+0.000825512689182\n",
      "[167]\tcv-test-auc:0.715343+0.00135046925178\tcv-train-auc:0.746768+0.000886214195328\n",
      "[168]\tcv-test-auc:0.7153698+0.00128470890088\tcv-train-auc:0.7469618+0.000866999054209\n",
      "[169]\tcv-test-auc:0.7154146+0.00131286413615\tcv-train-auc:0.74713+0.000815477528814\n",
      "[170]\tcv-test-auc:0.7154156+0.00131587516125\tcv-train-auc:0.747275+0.000813239202203\n",
      "[171]\tcv-test-auc:0.7154406+0.00124092265674\tcv-train-auc:0.7474176+0.000843893974383\n",
      "[172]\tcv-test-auc:0.715503+0.00120137204895\tcv-train-auc:0.7475976+0.000819806464966\n",
      "[173]\tcv-test-auc:0.715509+0.00119818128845\tcv-train-auc:0.747724+0.00081776695947\n",
      "[174]\tcv-test-auc:0.7155054+0.00117933635575\tcv-train-auc:0.7478752+0.000801568312747\n",
      "[175]\tcv-test-auc:0.7155194+0.00119006530913\tcv-train-auc:0.7480088+0.000780347204775\n",
      "[176]\tcv-test-auc:0.7155756+0.00121320840749\tcv-train-auc:0.748223+0.000875642164357\n",
      "[177]\tcv-test-auc:0.7156452+0.00116805845744\tcv-train-auc:0.7483904+0.000967331297953\n",
      "[178]\tcv-test-auc:0.715637+0.00117008597975\tcv-train-auc:0.7485472+0.000978158555654\n",
      "[179]\tcv-test-auc:0.7156598+0.00115024821669\tcv-train-auc:0.74867+0.000960064164522\n",
      "[180]\tcv-test-auc:0.7157148+0.0011671682655\tcv-train-auc:0.7488502+0.000970833126752\n",
      "[181]\tcv-test-auc:0.7157586+0.00114220849235\tcv-train-auc:0.7490242+0.00106732776597\n",
      "[182]\tcv-test-auc:0.7157894+0.00112203825247\tcv-train-auc:0.7491836+0.00108003918447\n",
      "[183]\tcv-test-auc:0.7157698+0.00111388067584\tcv-train-auc:0.7493478+0.00109627120732\n",
      "[184]\tcv-test-auc:0.7158102+0.00108068985375\tcv-train-auc:0.7495308+0.00107961055941\n",
      "[185]\tcv-test-auc:0.7158+0.00107491785733\tcv-train-auc:0.7496764+0.00105617756083\n",
      "[186]\tcv-test-auc:0.7158562+0.00109055020976\tcv-train-auc:0.7498926+0.00111125255455\n",
      "[187]\tcv-test-auc:0.7158688+0.00102567507526\tcv-train-auc:0.7500502+0.00110162814053\n",
      "[188]\tcv-test-auc:0.7158622+0.00106942833327\tcv-train-auc:0.7502602+0.00110956268863\n",
      "[189]\tcv-test-auc:0.7158964+0.0010739924767\tcv-train-auc:0.7504182+0.00111289665288\n",
      "[190]\tcv-test-auc:0.7159274+0.00109844155056\tcv-train-auc:0.7505558+0.00109623745603\n",
      "[191]\tcv-test-auc:0.7159368+0.0011299480342\tcv-train-auc:0.7506822+0.00108837390634\n",
      "[192]\tcv-test-auc:0.715955+0.00114942437768\tcv-train-auc:0.7507868+0.00109498810952\n",
      "[193]\tcv-test-auc:0.7159512+0.00116742047267\tcv-train-auc:0.7509038+0.00107162164965\n",
      "[194]\tcv-test-auc:0.7159618+0.00116089231197\tcv-train-auc:0.7510194+0.00104302379647\n",
      "[195]\tcv-test-auc:0.7159992+0.00116790811282\tcv-train-auc:0.7511376+0.00104092047727\n",
      "[196]\tcv-test-auc:0.7159908+0.00114074508984\tcv-train-auc:0.7512842+0.00105300871791\n",
      "[197]\tcv-test-auc:0.7160218+0.00116984467345\tcv-train-auc:0.7514682+0.00113400553791\n",
      "[198]\tcv-test-auc:0.7160368+0.00116396415752\tcv-train-auc:0.7515946+0.001132597828\n",
      "[199]\tcv-test-auc:0.716039+0.0011581205464\tcv-train-auc:0.7517446+0.00110682023834\n",
      "[200]\tcv-test-auc:0.7159888+0.00112267028107\tcv-train-auc:0.7519064+0.00110389104535\n",
      "[201]\tcv-test-auc:0.7160222+0.00108095964772\tcv-train-auc:0.7520828+0.00110138029763\n",
      "[202]\tcv-test-auc:0.7160498+0.00106257317866\tcv-train-auc:0.7522218+0.00110800530685\n",
      "[203]\tcv-test-auc:0.7160526+0.00106450412869\tcv-train-auc:0.7523822+0.00109061787992\n",
      "[204]\tcv-test-auc:0.716002+0.0010274235738\tcv-train-auc:0.752492+0.00108690735576\n",
      "[205]\tcv-test-auc:0.7160228+0.000983006286857\tcv-train-auc:0.7526226+0.00105066695008\n",
      "[206]\tcv-test-auc:0.7161244+0.000941073982214\tcv-train-auc:0.7528478+0.00104044132944\n",
      "[207]\tcv-test-auc:0.7161694+0.000993415039145\tcv-train-auc:0.7530088+0.00103860336992\n",
      "[208]\tcv-test-auc:0.7162242+0.00106403898425\tcv-train-auc:0.7531606+0.00102010050485\n",
      "[209]\tcv-test-auc:0.7162186+0.00105578759227\tcv-train-auc:0.7533136+0.000986841750232\n",
      "[210]\tcv-test-auc:0.7162568+0.00105513400097\tcv-train-auc:0.7534602+0.00102420689316\n",
      "[211]\tcv-test-auc:0.7162436+0.0010510704258\tcv-train-auc:0.7535876+0.00104249423979\n",
      "[212]\tcv-test-auc:0.716238+0.00102129897679\tcv-train-auc:0.7537282+0.00100217311878\n",
      "[213]\tcv-test-auc:0.7162534+0.000998309691428\tcv-train-auc:0.7538588+0.00104164185784\n",
      "[214]\tcv-test-auc:0.7162564+0.000970790935269\tcv-train-auc:0.7540432+0.00103557817667\n",
      "[215]\tcv-test-auc:0.7162782+0.0010089026514\tcv-train-auc:0.7542188+0.00101759076254\n",
      "[216]\tcv-test-auc:0.7162802+0.000982070343713\tcv-train-auc:0.7543484+0.00105441521233\n",
      "[217]\tcv-test-auc:0.716295+0.00096221598407\tcv-train-auc:0.7544876+0.00104609112414\n",
      "[218]\tcv-test-auc:0.7163382+0.000955928323673\tcv-train-auc:0.7546628+0.00102894264174\n",
      "[219]\tcv-test-auc:0.716362+0.000871897241652\tcv-train-auc:0.7547988+0.00102485382372\n",
      "[220]\tcv-test-auc:0.7163678+0.000833044872741\tcv-train-auc:0.7549374+0.00102177543521\n",
      "[221]\tcv-test-auc:0.7163914+0.000779664697162\tcv-train-auc:0.7550674+0.00101754461327\n",
      "[222]\tcv-test-auc:0.7163862+0.000804491740169\tcv-train-auc:0.7551754+0.00100673424497\n",
      "[223]\tcv-test-auc:0.7163654+0.000818413000874\tcv-train-auc:0.7553174+0.000966792966462\n",
      "[224]\tcv-test-auc:0.7163678+0.000815641195625\tcv-train-auc:0.7554694+0.000940324327028\n",
      "[225]\tcv-test-auc:0.716371+0.000798685920747\tcv-train-auc:0.7555754+0.000926708929492\n",
      "[226]\tcv-test-auc:0.716408+0.000802897004603\tcv-train-auc:0.7557832+0.000882880150417\n",
      "[227]\tcv-test-auc:0.7164346+0.000815040268944\tcv-train-auc:0.7559122+0.000876675858\n",
      "[228]\tcv-test-auc:0.7164634+0.00082877779893\tcv-train-auc:0.7560618+0.000839176119775\n",
      "[229]\tcv-test-auc:0.7164982+0.00084846718263\tcv-train-auc:0.756212+0.000895941069491\n",
      "[230]\tcv-test-auc:0.7165244+0.00089908856071\tcv-train-auc:0.7563602+0.000890672420141\n",
      "[231]\tcv-test-auc:0.7165586+0.000912191778082\tcv-train-auc:0.756471+0.000864433456086\n",
      "[232]\tcv-test-auc:0.7165376+0.000876850409135\tcv-train-auc:0.7565802+0.000842022660028\n",
      "[233]\tcv-test-auc:0.7165696+0.000843234392088\tcv-train-auc:0.7567206+0.000833020191832\n",
      "[234]\tcv-test-auc:0.7166102+0.000811551945349\tcv-train-auc:0.7568616+0.000806644060289\n",
      "[235]\tcv-test-auc:0.7166354+0.000749565100575\tcv-train-auc:0.75703+0.000779003979451\n",
      "[236]\tcv-test-auc:0.7166268+0.000795620864483\tcv-train-auc:0.7571514+0.000759589784028\n",
      "[237]\tcv-test-auc:0.7167146+0.00075376829331\tcv-train-auc:0.7573224+0.000760691948163\n",
      "[238]\tcv-test-auc:0.7167588+0.000720963078111\tcv-train-auc:0.757456+0.000804028357709\n",
      "[239]\tcv-test-auc:0.7167938+0.000711327885015\tcv-train-auc:0.7575734+0.000785135300442\n",
      "[240]\tcv-test-auc:0.7168768+0.000699855813722\tcv-train-auc:0.757762+0.000861934336246\n",
      "[241]\tcv-test-auc:0.7169036+0.000736608607063\tcv-train-auc:0.7579008+0.000861539877197\n",
      "[242]\tcv-test-auc:0.7169138+0.000787159297728\tcv-train-auc:0.7580534+0.000858690072145\n",
      "[243]\tcv-test-auc:0.7169328+0.000802570968825\tcv-train-auc:0.7581878+0.000860063579045\n",
      "[244]\tcv-test-auc:0.7169458+0.000829988771008\tcv-train-auc:0.7583334+0.000876590349023\n",
      "[245]\tcv-test-auc:0.7168978+0.000877330587635\tcv-train-auc:0.7584628+0.000854353884523\n",
      "[246]\tcv-test-auc:0.716863+0.000885509119095\tcv-train-auc:0.7585796+0.000871009666996\n",
      "[247]\tcv-test-auc:0.7168814+0.00086830377173\tcv-train-auc:0.7587236+0.000869884268164\n",
      "[248]\tcv-test-auc:0.7168952+0.000883514663149\tcv-train-auc:0.7588802+0.000863250461917\n",
      "[249]\tcv-test-auc:0.7169434+0.000872145538313\tcv-train-auc:0.7590204+0.000857294021908\n",
      "[250]\tcv-test-auc:0.7169784+0.00082998038531\tcv-train-auc:0.7591752+0.000801077124876\n",
      "[251]\tcv-test-auc:0.7170134+0.000820234746887\tcv-train-auc:0.7593028+0.000787300806554\n",
      "[252]\tcv-test-auc:0.7169782+0.000829236853981\tcv-train-auc:0.7594168+0.000801011959961\n",
      "[253]\tcv-test-auc:0.7170118+0.000846822389879\tcv-train-auc:0.7595372+0.000774550553547\n",
      "[254]\tcv-test-auc:0.7169684+0.000860689862843\tcv-train-auc:0.7596494+0.000776339513357\n",
      "[255]\tcv-test-auc:0.7169718+0.000841519672973\tcv-train-auc:0.7597592+0.000760335294459\n",
      "[256]\tcv-test-auc:0.7169632+0.000855017988115\tcv-train-auc:0.7598364+0.00077659013643\n",
      "[257]\tcv-test-auc:0.7169328+0.000847064908965\tcv-train-auc:0.759958+0.000786635112362\n",
      "[258]\tcv-test-auc:0.716923+0.00085901874252\tcv-train-auc:0.76007+0.000806082874151\n",
      "[259]\tcv-test-auc:0.7169522+0.000850241236356\tcv-train-auc:0.7602046+0.000779461763013\n",
      "[260]\tcv-test-auc:0.7169506+0.000846449195168\tcv-train-auc:0.760306+0.00075283597151\n",
      "[261]\tcv-test-auc:0.7169682+0.000845176762577\tcv-train-auc:0.7604164+0.000746494099106\n",
      "[262]\tcv-test-auc:0.7169902+0.000845245384489\tcv-train-auc:0.7605346+0.000726909788076\n",
      "[263]\tcv-test-auc:0.7170124+0.000814324407101\tcv-train-auc:0.7606336+0.000741519143381\n",
      "[264]\tcv-test-auc:0.7170308+0.00081350141979\tcv-train-auc:0.7607882+0.000714084980937\n",
      "[265]\tcv-test-auc:0.7170136+0.000782176859796\tcv-train-auc:0.7608898+0.00068684828019\n",
      "[266]\tcv-test-auc:0.7169914+0.00078962107368\tcv-train-auc:0.7609984+0.000692055951495\n",
      "[267]\tcv-test-auc:0.7169894+0.000786665519773\tcv-train-auc:0.7611506+0.000659974120705\n",
      "[268]\tcv-test-auc:0.717085+0.000805469304195\tcv-train-auc:0.76131+0.000643738145522\n",
      "[269]\tcv-test-auc:0.7170954+0.000787652867703\tcv-train-auc:0.76145+0.000666668433331\n",
      "[270]\tcv-test-auc:0.7171534+0.000806069128549\tcv-train-auc:0.7616304+0.000627755557522\n",
      "[271]\tcv-test-auc:0.7171434+0.00070936551932\tcv-train-auc:0.7617612+0.00064494756376\n",
      "[272]\tcv-test-auc:0.717214+0.000701497540979\tcv-train-auc:0.7618974+0.000631003835171\n",
      "[273]\tcv-test-auc:0.7172174+0.000686533495177\tcv-train-auc:0.7620194+0.000645727682541\n",
      "[274]\tcv-test-auc:0.7172632+0.00065208293951\tcv-train-auc:0.7621164+0.000671714105852\n",
      "[275]\tcv-test-auc:0.7172488+0.000614335543494\tcv-train-auc:0.7622208+0.000660331250207\n",
      "[276]\tcv-test-auc:0.717309+0.000670544554821\tcv-train-auc:0.7623584+0.000660127745213\n",
      "[277]\tcv-test-auc:0.7173276+0.000691929649603\tcv-train-auc:0.7624568+0.000651012872377\n",
      "[278]\tcv-test-auc:0.71733+0.000704209059868\tcv-train-auc:0.7625748+0.000670405966561\n",
      "[279]\tcv-test-auc:0.7173176+0.000664803610099\tcv-train-auc:0.7626996+0.000649839857196\n",
      "[280]\tcv-test-auc:0.7173224+0.000673205644658\tcv-train-auc:0.7627926+0.000639016306521\n",
      "[281]\tcv-test-auc:0.7173262+0.000630152172098\tcv-train-auc:0.7629268+0.000636426712199\n",
      "[282]\tcv-test-auc:0.7173508+0.000639559348302\tcv-train-auc:0.7630398+0.000664513777133\n",
      "[283]\tcv-test-auc:0.7173368+0.000652627734624\tcv-train-auc:0.7631436+0.000656014816906\n",
      "[284]\tcv-test-auc:0.7173406+0.000653173973762\tcv-train-auc:0.7632574+0.000680174271786\n",
      "[285]\tcv-test-auc:0.7173544+0.000656750363532\tcv-train-auc:0.7633578+0.000685905357903\n",
      "[286]\tcv-test-auc:0.7173558+0.000672682213233\tcv-train-auc:0.7634706+0.00067703606994\n",
      "[287]\tcv-test-auc:0.717351+0.000664900894871\tcv-train-auc:0.7635756+0.000695008086284\n",
      "[288]\tcv-test-auc:0.7173778+0.000684055962623\tcv-train-auc:0.7636748+0.000683479158424\n",
      "[289]\tcv-test-auc:0.7173852+0.000672355679682\tcv-train-auc:0.7638128+0.000686625778718\n",
      "[290]\tcv-test-auc:0.7173854+0.000682061463506\tcv-train-auc:0.763891+0.000668650581395\n",
      "[291]\tcv-test-auc:0.7173478+0.000692237647055\tcv-train-auc:0.7640588+0.000664909437442\n",
      "[292]\tcv-test-auc:0.7173752+0.000641756776357\tcv-train-auc:0.76419+0.000669549400717\n",
      "[293]\tcv-test-auc:0.7173542+0.000619853982806\tcv-train-auc:0.7643036+0.000672450920142\n",
      "[294]\tcv-test-auc:0.7173724+0.000686118823528\tcv-train-auc:0.7644004+0.000673887705779\n",
      "[295]\tcv-test-auc:0.7173264+0.00069064798559\tcv-train-auc:0.764504+0.000649459775506\n",
      "[296]\tcv-test-auc:0.717317+0.000695715459078\tcv-train-auc:0.7646018+0.000670721223758\n",
      "[297]\tcv-test-auc:0.7173298+0.000737154909093\tcv-train-auc:0.7647316+0.000684872134051\n",
      "[298]\tcv-test-auc:0.717321+0.000785767650136\tcv-train-auc:0.7648432+0.000682421394741\n",
      "[299]\tcv-test-auc:0.717298+0.000772850050139\tcv-train-auc:0.7649602+0.000701142610315\n",
      "[300]\tcv-test-auc:0.7172632+0.000745214170558\tcv-train-auc:0.7650454+0.000696528132957\n",
      "[301]\tcv-test-auc:0.7172884+0.000707504515887\tcv-train-auc:0.765167+0.000676686337974\n",
      "[302]\tcv-test-auc:0.717306+0.000751719362528\tcv-train-auc:0.7652718+0.000671478785964\n",
      "[303]\tcv-test-auc:0.7173578+0.000722122261116\tcv-train-auc:0.765401+0.000638913765699\n",
      "[304]\tcv-test-auc:0.7174276+0.000734922472102\tcv-train-auc:0.7655686+0.000645163731157\n",
      "[305]\tcv-test-auc:0.7174182+0.000719808696808\tcv-train-auc:0.7656796+0.000624889622253\n",
      "[306]\tcv-test-auc:0.7174264+0.000708886337857\tcv-train-auc:0.7657984+0.000603075650313\n",
      "[307]\tcv-test-auc:0.7174246+0.00070371602227\tcv-train-auc:0.7658942+0.000596037045829\n",
      "[308]\tcv-test-auc:0.7174038+0.000719095654277\tcv-train-auc:0.7659876+0.000599114212818\n",
      "[309]\tcv-test-auc:0.7173924+0.000709409500923\tcv-train-auc:0.7660938+0.000574892476903\n",
      "[310]\tcv-test-auc:0.7174004+0.000680280118775\tcv-train-auc:0.7661986+0.000575940483036\n",
      "[311]\tcv-test-auc:0.7174222+0.00068430209703\tcv-train-auc:0.7662974+0.000584113893004\n",
      "[312]\tcv-test-auc:0.7173882+0.000682428135411\tcv-train-auc:0.766397+0.000605107263219\n",
      "[313]\tcv-test-auc:0.717409+0.000705093468981\tcv-train-auc:0.766517+0.000584158882497\n",
      "[314]\tcv-test-auc:0.717366+0.000691392507914\tcv-train-auc:0.7666272+0.000590180108103\n",
      "[315]\tcv-test-auc:0.7173698+0.00069425309506\tcv-train-auc:0.7667282+0.000615235369594\n",
      "[316]\tcv-test-auc:0.7174068+0.000730528411494\tcv-train-auc:0.7668494+0.000652341812243\n",
      "[317]\tcv-test-auc:0.7173808+0.000701593443527\tcv-train-auc:0.7669712+0.000673494587952\n",
      "[318]\tcv-test-auc:0.7174076+0.0006912627865\tcv-train-auc:0.7670952+0.000667777028656\n",
      "[319]\tcv-test-auc:0.7174596+0.000714268744941\tcv-train-auc:0.7672292+0.000665490616012\n",
      "[320]\tcv-test-auc:0.7174672+0.000756948981108\tcv-train-auc:0.7672966+0.000654682090789\n",
      "[321]\tcv-test-auc:0.7174966+0.000757234336253\tcv-train-auc:0.7674084+0.000638621828628\n",
      "[322]\tcv-test-auc:0.7174962+0.000759688462463\tcv-train-auc:0.7675214+0.000638291657473\n",
      "[323]\tcv-test-auc:0.7174896+0.000766170894775\tcv-train-auc:0.7676452+0.000659660640026\n",
      "[324]\tcv-test-auc:0.7175158+0.000768977606956\tcv-train-auc:0.7677448+0.000665299451375\n",
      "[325]\tcv-test-auc:0.7174648+0.000769446398393\tcv-train-auc:0.7678616+0.000678740185933\n",
      "[326]\tcv-test-auc:0.7174478+0.000764984548864\tcv-train-auc:0.7679988+0.000672216453235\n",
      "[327]\tcv-test-auc:0.717506+0.000825095146029\tcv-train-auc:0.7681084+0.000681640550437\n",
      "[328]\tcv-test-auc:0.7175302+0.000843212523626\tcv-train-auc:0.7682168+0.000679234686982\n",
      "[329]\tcv-test-auc:0.7175734+0.00088177403001\tcv-train-auc:0.7683476+0.000685180443387\n",
      "[330]\tcv-test-auc:0.7175326+0.000925579947925\tcv-train-auc:0.768452+0.000683997368416\n",
      "[331]\tcv-test-auc:0.717485+0.000913728187154\tcv-train-auc:0.7685646+0.000703532401528\n",
      "[332]\tcv-test-auc:0.7174908+0.000905431698142\tcv-train-auc:0.7686708+0.000719114844792\n",
      "[333]\tcv-test-auc:0.7175236+0.000943139989609\tcv-train-auc:0.7687584+0.000705391692608\n",
      "[334]\tcv-test-auc:0.7174694+0.000942544343784\tcv-train-auc:0.7688512+0.000694537947127\n",
      "[335]\tcv-test-auc:0.7174852+0.000947274912578\tcv-train-auc:0.7689644+0.000711968145355\n",
      "[336]\tcv-test-auc:0.7174664+0.000910613771036\tcv-train-auc:0.7690636+0.000692991659401\n",
      "[337]\tcv-test-auc:0.7174826+0.000969651813797\tcv-train-auc:0.7691792+0.000705466483966\n",
      "[338]\tcv-test-auc:0.7175092+0.00100956671894\tcv-train-auc:0.7692888+0.000685900109345\n",
      "[339]\tcv-test-auc:0.7174874+0.00100149380427\tcv-train-auc:0.7693886+0.000683139400123\n",
      "[340]\tcv-test-auc:0.7174604+0.000982014582376\tcv-train-auc:0.7694892+0.000676749702623\n",
      "[341]\tcv-test-auc:0.717526+0.0010770947962\tcv-train-auc:0.769604+0.000671134263765\n",
      "[342]\tcv-test-auc:0.7175438+0.00110173561257\tcv-train-auc:0.76971+0.000671696955479\n",
      "[343]\tcv-test-auc:0.7175314+0.00107242223028\tcv-train-auc:0.769809+0.0006488451279\n",
      "[344]\tcv-test-auc:0.717504+0.00106721038226\tcv-train-auc:0.7698998+0.000655840346426\n",
      "[345]\tcv-test-auc:0.7174658+0.00105978929981\tcv-train-auc:0.7699814+0.000647684367574\n",
      "[346]\tcv-test-auc:0.7174478+0.00107769335156\tcv-train-auc:0.7700844+0.000649538482309\n",
      "[347]\tcv-test-auc:0.7174324+0.00106216789633\tcv-train-auc:0.770191+0.000620929303544\n",
      "[348]\tcv-test-auc:0.71743+0.00102636523714\tcv-train-auc:0.7702872+0.000626749200239\n",
      "[349]\tcv-test-auc:0.7174348+0.00100495002861\tcv-train-auc:0.7703746+0.000657259948574\n",
      "Stopping. Best iteration: 329\n"
     ]
    },
    {
     "name": "stdout",
     "output_type": "stream",
     "text": [
      "\n",
      "Model Report\n",
      "Accuracy : 0.6944\n",
      "AUC Score (Train): 0.764063\n",
      "CPU times: user 2h 14min 20s, sys: 36.4 s, total: 2h 14min 57s\n",
      "Wall time: 2h 15min 28s\n"
     ]
    }
   ],
   "source": [
    "%%time\n",
    "xgb_final =  xgb.XGBClassifier(\n",
    " learning_rate = 1,\n",
    " n_estimators=1000,\n",
    " max_depth=5,\n",
    " min_child_weight=1,\n",
    " gamma=0,\n",
    " subsample=0.8,\n",
    " colsample_bytree=0.8,\n",
    " objective= 'binary:logistic',\n",
    " nthread=4,\n",
    " scale_pos_weight=1,\n",
    " seed=27)\n",
    "modelfit(xgb_final, features_train_1, labels_train_1)"
   ]
  },
  {
   "cell_type": "code",
   "execution_count": 12,
   "metadata": {
    "collapsed": false
   },
   "outputs": [
    {
     "name": "stdout",
     "output_type": "stream",
     "text": [
      "CPU times: user 25min 39s, sys: 4.53 s, total: 25min 44s\n",
      "Wall time: 25min 48s\n"
     ]
    }
   ],
   "source": [
    "%%time\n",
    "boost =  xgb.XGBClassifier(\n",
    " learning_rate = 1,\n",
    " n_estimators=329,\n",
    " max_depth=5,\n",
    " min_child_weight=1,\n",
    " gamma=0,\n",
    " subsample=0.8,\n",
    " colsample_bytree=0.8,\n",
    " objective= 'binary:logistic',\n",
    " nthread=4,\n",
    " scale_pos_weight=1,\n",
    " seed=27).fit(features_train_1, labels_train_1)"
   ]
  },
  {
   "cell_type": "code",
   "execution_count": 13,
   "metadata": {
    "collapsed": false
   },
   "outputs": [
    {
     "name": "stdout",
     "output_type": "stream",
     "text": [
      "Confusion matrix\n",
      "        0       1\n",
      "0  837740  433060\n",
      "1  422714  847128\n"
     ]
    },
    {
     "name": "stderr",
     "output_type": "stream",
     "text": [
      "/Users/arkham/anaconda/lib/python2.7/site-packages/sklearn/metrics/classification.py:976: DeprecationWarning: From version 0.18, binary input will not be handled specially when using averaged precision/recall/F-score. Please use average='binary' to report only the positive class performance.\n",
      "  'positive class performance.', DeprecationWarning)\n"
     ]
    },
    {
     "name": "stdout",
     "output_type": "stream",
     "text": [
      "precision = 0.66, recall = 0.67, F1 = 0.66, accuracy = 0.66\n",
      "\n",
      "CPU times: user 1min 44s, sys: 8.74 s, total: 1min 53s\n",
      "Wall time: 1min 55s\n"
     ]
    }
   ],
   "source": [
    "%%time\n",
    "# Evaluate on test set\n",
    "pred = boost.predict(features_test_1)\n",
    "\n",
    "\n",
    "# print results\n",
    "cm = confusion_matrix(labels_test_1, pred)\n",
    "print(\"Confusion matrix\")\n",
    "print(pd.DataFrame(cm))\n",
    "\n",
    "report_rf = precision_recall_fscore_support(list(labels_test_1), list(pred), average='micro')\n",
    "print \"precision = %0.2f, recall = %0.2f, F1 = %0.2f, accuracy = %0.2f\\n\" % \\\n",
    "        (report_rf[0], report_rf[1], report_rf[2], metrics.roc_auc_score(list(labels_test_1.values), list(pred)))"
   ]
  },
  {
   "cell_type": "code",
   "execution_count": null,
   "metadata": {
    "collapsed": true
   },
   "outputs": [],
   "source": []
  }
 ],
 "metadata": {
  "kernelspec": {
   "display_name": "Python 2",
   "language": "python",
   "name": "python2"
  },
  "language_info": {
   "codemirror_mode": {
    "name": "ipython",
    "version": 2
   },
   "file_extension": ".py",
   "mimetype": "text/x-python",
   "name": "python",
   "nbconvert_exporter": "python",
   "pygments_lexer": "ipython2",
   "version": "2.7.11"
  }
 },
 "nbformat": 4,
 "nbformat_minor": 0
}
