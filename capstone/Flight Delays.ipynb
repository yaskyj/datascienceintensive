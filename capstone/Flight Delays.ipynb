{
 "cells": [
  {
   "cell_type": "markdown",
   "metadata": {},
   "source": [
    "# Exploration of Flight Delay Data"
   ]
  },
  {
   "cell_type": "markdown",
   "metadata": {},
   "source": [
    "### This initial section explores the data and cleans it for later modeling. This section also to completes the requirements for the Capstone Milestone report"
   ]
  },
  {
   "cell_type": "code",
   "execution_count": 1,
   "metadata": {
    "collapsed": false
   },
   "outputs": [],
   "source": [
    "import warnings\n",
    "warnings.filterwarnings('ignore')\n",
    "import pandas as pd\n",
    "import numpy as np\n",
    "from datetime import datetime, date\n",
    "import matplotlib.pylab as plt\n",
    "%matplotlib inline\n",
    "from matplotlib.pylab import rcParams\n",
    "le = preprocessing.LabelEncoder()\n",
    "rcParams['figure.figsize'] = 12, 4"
   ]
  },
  {
   "cell_type": "code",
   "execution_count": 2,
   "metadata": {
    "collapsed": false
   },
   "outputs": [],
   "source": [
    "# Training files are divided into three separate files in six month increments\n",
    "temp_train_2014_1 = pd.read_csv('CAX_Train_2014_Jan_to_Jun.csv')\n",
    "temp_train_2014_2 = pd.read_csv('CAX_Train_2014_Jul_to_Dec.csv')\n",
    "temp_train_2015 = pd.read_csv('CAX_Train_2015.csv')\n",
    "\n",
    "# Read in the weather file\n",
    "weather = pd.read_csv('weather.csv')\n",
    "\n",
    "# The codes file is a manual matching I created between the IATA codes in the \n",
    "# training files and the ICAO codes in the weather file. Multiple IATA codes can \n",
    "# join to the same ICAO codes based on proximity to cities. City names in the \n",
    "# training files can be truncated and often did not match the weather file. \n",
    "# If the matching wasn't obvious based on the IATA and ICAO codes then IATA \n",
    "# code were looked up in Google to determine thenearest ICAO city.\n",
    "codes = pd.read_csv('training_weather_cities_joined.csv')"
   ]
  },
  {
   "cell_type": "code",
   "execution_count": 3,
   "metadata": {
    "collapsed": false
   },
   "outputs": [],
   "source": [
    "# Creating week of year field in order to group weather events by week\n",
    "weather['week_of_year'] = pd.to_datetime(weather['date'], errors='coerce').dt.weekofyear.astype(\n",
    "    int)\n",
    "\n",
    "# Some basic munging of weather fields\n",
    "weather.events.fillna(-1, inplace=True)\n",
    "weather.conditions.fillna(-1, inplace=True)\n",
    "weather.gust_speed_mph.replace('-', -1, inplace=True)\n",
    "weather.gust_speed_mph.fillna(-1, inplace=True)\n",
    "weather.gust_speed_mph = pd.to_numeric(weather.gust_speed_mph, errors='coerce')\n",
    "weather.wind_speed_mph.replace('Calm', 0, inplace=True)\n",
    "weather.wind_speed_mph.fillna(-1, inplace=True)\n",
    "weather.wind_speed_mph = pd.to_numeric(weather.wind_speed_mph, errors='coerce')\n",
    "\n",
    "# Changing to weather types in the events field to numeric values based on the likelihood \n",
    "# of causing delays (e.g. Events involving ice have a higher values)\n",
    "weather.events.replace(['Fog', 'Fog-Hail-Thunderstorm', 'Fog-Rain', 'Fog-Rain-Hail-Thunderstorm', \n",
    "                        'Fog-Rain-Snow', 'Fog-Rain-Thunderstorm', \n",
    "                        'Fog-Rain-Thunderstorm-Tornado', 'Fog-Snow', 'Fog-Snow-Thunderstorm', \n",
    "                        'Fog-Thunderstorm', 'Hail', 'Hail-Thunderstorm', 'Rain', 'Rain-Hail', \n",
    "                        'Rain-Hail-Thunderstorm', 'Rain-Snow', 'Rain-Snow-Thunderstorm', \n",
    "                        'Rain-Thunderstorm', 'Rain-Thunderstorm-Tornado', 'Rain-Tornado', \n",
    "                        'Snow', 'Snow-Hail', 'Snow-Thunderstorm', 'Snow-Tornado', 'Thunderstorm', \n",
    "                        'Thunderstorm-Tornado', 'Tornado'], [10, 80, 20, 80, 60, 50, 100, 60, \n",
    "                         60, 50, 80, 80, 20, 80, 80, 60, 60, 50, 100, 100, 60, 80, 60, 100, \n",
    "                         50, 100, 100], inplace=True)\n",
    "\n",
    "# As with the events field, changing the conditions field to numeric values based on the \n",
    "# likelihood of causing delays\n",
    "weather.conditions.replace(['Unknown', 'Clear', 'Overcast', 'Partly Cloudy', 'Drizzle', \n",
    "                            'Scattered Clouds', 'Mostly Cloudy', 'Haze', 'Mist', \n",
    "                            'Patches of Fog', 'Rain', 'Shallow Fog', 'Low Drifting Snow', \n",
    "                            'Rain Showers', 'Light Blowing Snow', 'Light Drizzle', 'Light Fog', \n",
    "                            'Light Hail', 'Light Ice Pellets', 'Light Low Drifting Snow', \n",
    "                            'Light Mist', 'Light Rain', 'Light Rain Showers', 'Light Sand', \n",
    "                            'Light Small Hail Showers', 'Light Smoke', 'Light Snow', \n",
    "                            'Light Snow Grains', 'Light Snow Showers', 'Light Thunderstorm', \n",
    "                            'Light Thunderstorms and Rain', 'Light Thunderstorms and Snow', \n",
    "                            'Light Thunderstorms with Hail', \n",
    "                            'Light Thunderstorms with Small Hail', 'Heavy Blowing Snow', \n",
    "                            'Heavy Drizzle', 'Heavy Freezing Drizzle', 'Heavy Freezing Fog', \n",
    "                            'Heavy Freezing Rain', 'Heavy Ice Pellets', 'Heavy Rain', \n",
    "                            'Heavy Rain Showers', 'Heavy Small Hail', 'Heavy Snow', \n",
    "                            'Heavy Snow Showers', 'Heavy Thunderstorm', \n",
    "                            'Heavy Thunderstorms and Rain', 'Heavy Thunderstorms and Snow', \n",
    "                            'Heavy Thunderstorms with Hail', \n",
    "                            'Heavy Thunderstorms with Small Hail', 'Ice Crystals', \n",
    "                            'Ice Pellets', 'Funnel Cloud', 'Blowing Sand', 'Blowing Snow', \n",
    "                            'Thunderstorm', 'Thunderstorms and Rain', 'Thunderstorms and Snow', \n",
    "                            'Thunderstorms with Hail', 'Thunderstorms with Small Hail', \n",
    "                            'Volcanic Ash', 'Widespread Dust', 'Sand', 'Sandstorm', \n",
    "                            'Small Hail', 'Small Hail Showers', 'Smoke', 'Snow', 'Snow Grains', \n",
    "                            'Snow Showers', 'Squalls', 'Fog', 'Freezing Rain', 'Hail', \n",
    "                            'Light Freezing Drizzle', 'Light Freezing Fog', \n",
    "                            'Light Freezing Rain'], [-1, 0, 0, 0, 10, 0, 0, 0, 0, 10, 10, \n",
    "                             10, 30, 10, 30, 10, 10, 50, 70, 30, 0, 10, 10, 30, 50, 20, 30, \n",
    "                             70, 30, 20, 20, 40, 60, 60, 80, 20, 70, 70, 90, 80, 20, 20, 70, \n",
    "                             80, 80, 50, 30, 80, 80, 80, 70, 70, 90, 70, 70, 40, 30, 70, 80, \n",
    "                             80, 100, 20, 60, 80, 60, 70, 20, 60, 60, 60, 70, 10, 80, 50, 60, \n",
    "                             50, 80], inplace=True)"
   ]
  },
  {
   "cell_type": "code",
   "execution_count": 4,
   "metadata": {
    "collapsed": false
   },
   "outputs": [],
   "source": [
    "# Grouping the weather features by week of year\n",
    "weather_group = weather.groupby( [ 'airport_code', 'week_of_year'] ).mean()\n",
    "weather_group = weather_group.reset_index()\n",
    "weather_group = weather_group.drop('zip', 1)\n",
    "weather_group.fillna(-1, inplace=True)"
   ]
  },
  {
   "cell_type": "code",
   "execution_count": 5,
   "metadata": {
    "collapsed": false
   },
   "outputs": [],
   "source": [
    "# This array defines the dates of holidays in 2014 and 2015\n",
    "holidays = [\n",
    "        date(2014, 1, 1), date(2014, 1, 20), date(2014, 5, 26), date(2014, 7, 4),\n",
    "        date(2014, 9, 1), date(2014, 11, 27), date(2014, 12, 25),\n",
    "        date(2015, 1, 1), date(2015, 1, 19), date(2015, 5, 25), date(2015, 7, 4),\n",
    "        date(2015, 9, 7), date(2015, 11, 26), date(2015, 12, 25)\n",
    "     ]\n",
    "\n",
    "#Function that gives the number of days from a date to the nearest holiday\n",
    "def days_from_nearest_holiday(year, month, day):\n",
    "  d = date(year, month, day)\n",
    "  x = [(abs(d-h)).days for h in holidays]\n",
    "  return min(x)"
   ]
  },
  {
   "cell_type": "code",
   "execution_count": 6,
   "metadata": {
    "collapsed": false
   },
   "outputs": [],
   "source": [
    "# Combine all of the training files into one dataframe\n",
    "training = pd.concat([temp_train_2014_1, temp_train_2014_2, temp_train_2015], ignore_index=True)"
   ]
  },
  {
   "cell_type": "code",
   "execution_count": 7,
   "metadata": {
    "collapsed": false
   },
   "outputs": [],
   "source": [
    "# Merge the codes file to get the IACO codes for the origin IATA code\n",
    "training = pd.merge(training, codes[['ORIGIN', 'city', 'airport_code']], \n",
    "                    left_on='ORIGIN', right_on='ORIGIN')\n",
    "training.rename(columns={'city': 'origin_city', 'airport_code': 'origin_icao_code'}, inplace=True)\n",
    "\n",
    "# Merge the codes file to get the IACO codes for the destination IATA code\n",
    "training = pd.merge(training, codes[['ORIGIN', 'city', 'airport_code']], \n",
    "                    left_on='DEST', right_on='ORIGIN')\n",
    "training.rename(columns={'city': 'dest_city', 'airport_code': 'dest_icao_code', \n",
    "                         'ORIGIN_x': 'ORIGIN'}, inplace=True)\n",
    "training = training.drop('ORIGIN_y', 1)\n",
    "\n",
    "# Create day, week, and hour features from the flight date\n",
    "training['DAY_OF_YEAR'] = pd.to_datetime(training['FL_DATE'], \n",
    "                                         errors='coerce').dt.dayofyear.astype(int)\n",
    "training['WEEK_OF_YEAR'] = pd.to_datetime(training['FL_DATE'], \n",
    "                                          errors='coerce').dt.weekofyear.astype(int)\n",
    "training['hour'] = training['CRS_DEP_TIME'].map(lambda x: int(str(int(x)).zfill(4)[:2]))\n",
    "training['day'] = pd.to_datetime(training['FL_DATE'], errors='coerce').dt.day.astype(int)\n",
    "\n",
    "# Create the days from holiday feature using the function defined earlier\n",
    "training['days_from_holidays'] = [days_from_nearest_holiday(r.YEAR, r.MONTH, r.day) \\\n",
    "                                  for i,r in training.iterrows()]\n",
    "\n",
    "# Merge the weather data with the training data on the origin and week of year\n",
    "training = pd.merge(training, weather_group, left_on=['origin_icao_code', 'WEEK_OF_YEAR'], \n",
    "                    right_on=['airport_code', 'week_of_year'], how='left')\n",
    "training.rename(columns={'conditions': 'orig_conditions', 'airport_code': 'orig_airport_code', \n",
    "                         'week_of_year': 'orig_week_of_year', \n",
    "                         'temperature_f': 'orig_temperature_f', \n",
    "                         'dew_point_f': 'orig_dew_point_f', 'humidity': 'orig_humidity', \n",
    "                         'sea_level_pressure_in': 'orig_sea_level_pressure_in', \n",
    "                         'visibility_mph': 'orig_visibility_mph', \n",
    "                         'wind_speed_mph': 'orig_wind_speed_mph', \n",
    "                         'gust_speed_mph': 'orig_gust_speed_mph', \n",
    "                         'precipitation_in': 'orig_precipitation_in', \n",
    "                         'events': 'orig_events', 'wind_dir_degrees': 'orig_wind_dir_degrees', \n",
    "                         'event_names': 'orig_event_names', \n",
    "                         'condition_names': 'orig_condition_names'}, inplace=True)\n",
    "\n",
    "# Merge the weather data with the training data on the destination and week of year\n",
    "training = pd.merge(training, weather_group, left_on=['dest_icao_code', 'WEEK_OF_YEAR'], \n",
    "                    right_on=['airport_code', 'week_of_year'], how='left')\n",
    "training.rename(columns={'conditions': 'dest_conditions', 'airport_code': 'dest_airport_code', \n",
    "                         'week_of_year': 'dest_week_of_year', \n",
    "                         'temperature_f': 'dest_temperature_f', \n",
    "                         'dew_point_f': 'dest_dew_point_f', 'humidity': 'dest_humidity', \n",
    "                         'sea_level_pressure_in': 'dest_sea_level_pressure_in', \n",
    "                         'visibility_mph': 'dest_visibility_mph', \n",
    "                         'wind_speed_mph': 'dest_wind_speed_mph', \n",
    "                         'gust_speed_mph': 'dest_gust_speed_mph', \n",
    "                         'precipitation_in': 'dest_precipitation_in', \n",
    "                         'events': 'dest_events', 'wind_dir_degrees': 'dest_wind_dir_degrees', \n",
    "                         'event_names': 'dest_event_names', \n",
    "                         'condition_names': 'dest_condition_names'}, inplace=True)\n",
    "\n",
    "training.fillna(-1, inplace=True)"
   ]
  },
  {
   "cell_type": "code",
   "execution_count": 8,
   "metadata": {
    "collapsed": false
   },
   "outputs": [
    {
     "data": {
      "text/plain": [
       "<matplotlib.axes._subplots.AxesSubplot at 0x13af4dd90>"
      ]
     },
     "execution_count": 8,
     "metadata": {},
     "output_type": "execute_result"
    },
    {
     "data": {
      "image/png": "[encoded data removed]",
      "text/plain": [
       "<matplotlib.figure.Figure at 0x13af4d050>"
      ]
     },
     "metadata": {},
     "output_type": "display_data"
    }
   ],
   "source": [
    "# Compute average number of delayed flights per month\n",
    "grouped = training[['ARR_DEL15', 'MONTH']].groupby('MONTH').mean()\n",
    "\n",
    "# plot average delays by month\n",
    "grouped.plot(kind='bar')"
   ]
  },
  {
   "cell_type": "code",
   "execution_count": 9,
   "metadata": {
    "collapsed": false
   },
   "outputs": [
    {
     "data": {
      "text/plain": [
       "<matplotlib.axes._subplots.AxesSubplot at 0x115a25b90>"
      ]
     },
     "execution_count": 9,
     "metadata": {},
     "output_type": "execute_result"
    },
    {
     "data": {
      "image/png": "[encoded data removed]",
      "text/plain": [
       "<matplotlib.figure.Figure at 0x103cf8dd0>"
      ]
     },
     "metadata": {},
     "output_type": "display_data"
    }
   ],
   "source": [
    "# Compute average number of delayed flights per month\n",
    "grouped = training[['ARR_DEL15', 'DAY_OF_MONTH']].groupby('DAY_OF_MONTH').mean()\n",
    "\n",
    "# plot average delays by month\n",
    "grouped.plot(kind='bar')"
   ]
  },
  {
   "cell_type": "code",
   "execution_count": 10,
   "metadata": {
    "collapsed": false
   },
   "outputs": [
    {
     "data": {
      "text/plain": [
       "<matplotlib.axes._subplots.AxesSubplot at 0x119b5a8d0>"
      ]
     },
     "execution_count": 10,
     "metadata": {},
     "output_type": "execute_result"
    },
    {
     "data": {
      "image/png": "[encoded data removed]",
      "text/plain": [
       "<matplotlib.figure.Figure at 0x119b6c650>"
      ]
     },
     "metadata": {},
     "output_type": "display_data"
    }
   ],
   "source": [
    "# Compute average number of delayed flights by hour\n",
    "grouped = training[['ARR_DEL15', 'hour']].groupby('hour').mean()\n",
    "\n",
    "# plot average delays by hour of day\n",
    "grouped.plot(kind='bar')"
   ]
  },
  {
   "cell_type": "code",
   "execution_count": 11,
   "metadata": {
    "collapsed": false
   },
   "outputs": [
    {
     "data": {
      "text/plain": [
       "<matplotlib.axes._subplots.AxesSubplot at 0x11a2a0e90>"
      ]
     },
     "execution_count": 11,
     "metadata": {},
     "output_type": "execute_result"
    },
    {
     "data": {
      "image/png": "[encoded data removed]",
      "text/plain": [
       "<matplotlib.figure.Figure at 0x11a0ac510>"
      ]
     },
     "metadata": {},
     "output_type": "display_data"
    }
   ],
   "source": [
    "# Compute average number of delayed flights per carrier\n",
    "grouped1 = training[['ARR_DEL15', 'UNIQUE_CARRIER']] \\\n",
    "    .groupby('UNIQUE_CARRIER').filter(lambda x: len(x)>15)\n",
    "grouped2 = grouped1.groupby('UNIQUE_CARRIER').mean()\n",
    "carrier = grouped2.sort(['ARR_DEL15'], ascending=False)\n",
    "\n",
    "# display top 15 destination carriers by delay\n",
    "carrier.plot(kind='bar')"
   ]
  },
  {
   "cell_type": "code",
   "execution_count": 30,
   "metadata": {
    "collapsed": false
   },
   "outputs": [
    {
     "data": {
      "text/plain": [
       "<matplotlib.axes._subplots.AxesSubplot at 0x1208a6b50>"
      ]
     },
     "execution_count": 30,
     "metadata": {},
     "output_type": "execute_result"
    },
    {
     "data": {
      "image/png": "[encoded data removed]",
      "text/plain": [
       "<matplotlib.figure.Figure at 0x12119b3d0>"
      ]
     },
     "metadata": {},
     "output_type": "display_data"
    }
   ],
   "source": [
    "# Compute average number of delayed flights per origin airport\n",
    "grouped1 = training[['ARR_DEL15', 'ORIGIN']].groupby('ORIGIN').filter(lambda x: len(x)>15)\n",
    "grouped2 = grouped1.groupby('ORIGIN').mean()\n",
    "carrier = grouped2.sort(['ARR_DEL15'], ascending=False)\n",
    "\n",
    "# display top 15 origin airports by delay\n",
    "carrier[:15].plot(kind='bar')"
   ]
  },
  {
   "cell_type": "code",
   "execution_count": 21,
   "metadata": {
    "collapsed": false
   },
   "outputs": [
    {
     "data": {
      "text/plain": [
       "<matplotlib.axes._subplots.AxesSubplot at 0x1196fb9d0>"
      ]
     },
     "execution_count": 21,
     "metadata": {},
     "output_type": "execute_result"
    },
    {
     "data": {
      "image/png": "[encoded data removed]",
      "text/plain": [
       "<matplotlib.figure.Figure at 0x11acc4ed0>"
      ]
     },
     "metadata": {},
     "output_type": "display_data"
    }
   ],
   "source": [
    "# Compute average number of delayed flights per destination airport\n",
    "grouped1 = training[['ARR_DEL15', 'DEST']].groupby('DEST').filter(lambda x: len(x)>15)\n",
    "grouped2 = grouped1.groupby('DEST').mean()\n",
    "carrier = grouped2.sort(['ARR_DEL15'], ascending=False)\n",
    "\n",
    "# display top 15 origin airports by delay\n",
    "carrier[:15].plot(kind='bar')"
   ]
  },
  {
   "cell_type": "code",
   "execution_count": 13,
   "metadata": {
    "collapsed": false
   },
   "outputs": [
    {
     "name": "stdout",
     "output_type": "stream",
     "text": [
      "1814744 6682187\n"
     ]
    }
   ],
   "source": [
    "# There's a large difference in the amount of data for delayed vs. on time flights\n",
    "print len(training[training['ARR_DEL15'] == 1]), len(training[training['ARR_DEL15'] == 0])"
   ]
  },
  {
   "cell_type": "code",
   "execution_count": 16,
   "metadata": {
    "collapsed": false
   },
   "outputs": [
    {
     "name": "stdout",
     "output_type": "stream",
     "text": [
      "CPU times: user 77 µs, sys: 69 µs, total: 146 µs\n",
      "Wall time: 137 µs\n"
     ]
    }
   ],
   "source": [
    "#Define the features in order to export the training set to a csv for quicker reinput\n",
    "features_for_export = [c for c in training.columns if c in \\\n",
    "                       ['ARR_DEL15', 'days_from_holidays', 'DAY_OF_MONTH', 'DAY_OF_WEEK', \n",
    "                        'UNIQUE_CARRIER', 'ORIGIN', 'DEST', 'DISTANCE', 'hour', \n",
    "                        'orig_temperature_f', 'orig_dew_point_f', 'orig_humidity', \n",
    "                        'orig_sea_level_pressure_in', 'orig_visibility_mph', \n",
    "                        'orig_wind_speed_mph', 'orig_gust_speed_mph', \n",
    "                        'orig_precipitation_in', 'orig_events', 'orig_conditions', \n",
    "                        'orig_wind_dir_degrees', 'dest_temperature_f', 'dest_dew_point_f', \n",
    "                        'dest_humidity', 'dest_sea_level_pressure_in', 'dest_visibility_mph', \n",
    "                        'dest_wind_speed_mph', 'dest_gust_speed_mph', 'dest_precipitation_in', \n",
    "                        'dest_events', 'dest_conditions', 'dest_wind_dir_degrees']]"
   ]
  },
  {
   "cell_type": "code",
   "execution_count": 31,
   "metadata": {
    "collapsed": false
   },
   "outputs": [
    {
     "name": "stdout",
     "output_type": "stream",
     "text": [
      "CPU times: user 24.5 s, sys: 30.6 s, total: 55.1 s\n",
      "Wall time: 1min 15s\n"
     ]
    }
   ],
   "source": [
    "# Reduce the number of on time training instances so that the model will fit more easily into \n",
    "# memory.\n",
    "# Keep all delayed instances and take random instances of on time flights equal to the number of\n",
    "# delayed instances\n",
    "delayed = training[training['ARR_DEL15'] == 1]\n",
    "on_time = training[training['ARR_DEL15'] == 0]\n",
    "sample_rows = np.random.choice(on_time.index.values, len(delayed))\n",
    "on_time = on_time.ix[sample_rows]\n",
    "training = pd.concat([on_time, delayed], ignore_index=True)"
   ]
  },
  {
   "cell_type": "code",
   "execution_count": 32,
   "metadata": {
    "collapsed": false
   },
   "outputs": [
    {
     "name": "stdout",
     "output_type": "stream",
     "text": [
      "CPU times: user 2min 11s, sys: 11.4 s, total: 2min 23s\n",
      "Wall time: 2min 32s\n"
     ]
    }
   ],
   "source": [
    "training[features_for_export].to_csv('combined_data.csv', index=False)"
   ]
  },
  {
   "cell_type": "markdown",
   "metadata": {},
   "source": [
    "### This section begins the modeling portion"
   ]
  },
  {
   "cell_type": "code",
   "execution_count": 1,
   "metadata": {
    "collapsed": false
   },
   "outputs": [],
   "source": [
    "import warnings\n",
    "warnings.filterwarnings('ignore')\n",
    "import pandas as pd\n",
    "import numpy as np\n",
    "from sklearn import cross_validation, ensemble, tree, metrics, preprocessing\n",
    "from sklearn.grid_search import GridSearchCV\n",
    "from sklearn.naive_bayes import GaussianNB\n",
    "import xgboost as xgb\n",
    "from datetime import datetime, date\n",
    "import matplotlib.pylab as plt\n",
    "%matplotlib inline\n",
    "from matplotlib.pylab import rcParams\n",
    "le = preprocessing.LabelEncoder()\n",
    "rcParams['figure.figsize'] = 12, 4"
   ]
  },
  {
   "cell_type": "code",
   "execution_count": 2,
   "metadata": {
    "collapsed": false
   },
   "outputs": [],
   "source": [
    "#Create training set from combined data already saved to csv\n",
    "training = pd.read_csv('combined_data.csv', iterator=True, chunksize=100000)\n",
    "training = pd.concat([chunk for chunk in training], ignore_index=True)"
   ]
  },
  {
   "cell_type": "code",
   "execution_count": 3,
   "metadata": {
    "collapsed": false
   },
   "outputs": [],
   "source": [
    "#Define the features to use\n",
    "features = [c for c in training.columns if c in ['days_from_holidays', 'DAY_OF_MONTH',\n",
    "                                                 'DAY_OF_WEEK', 'UNIQUE_CARRIER', 'ORIGIN', \n",
    "                                                 'DEST', 'DISTANCE', 'hour', \n",
    "                                                 'orig_temperature_f', 'orig_dew_point_f', \n",
    "                                                 'orig_humidity', 'orig_sea_level_pressure_in', \n",
    "                                                 'orig_visibility_mph', 'orig_wind_speed_mph', \n",
    "                                                 'orig_gust_speed_mph', 'orig_precipitation_in', \n",
    "                                                 'orig_events', 'orig_conditions', \n",
    "                                                 'orig_wind_dir_degrees', 'dest_temperature_f', \n",
    "                                                 'dest_dew_point_f', 'dest_humidity', \n",
    "                                                 'dest_sea_level_pressure_in', \n",
    "                                                 'dest_visibility_mph', 'dest_wind_speed_mph', \n",
    "                                                 'dest_gust_speed_mph', 'dest_precipitation_in', \n",
    "                                                 'dest_events', 'dest_conditions', \n",
    "                                                 'dest_wind_dir_degrees']]"
   ]
  },
  {
   "cell_type": "code",
   "execution_count": 4,
   "metadata": {
    "collapsed": false
   },
   "outputs": [],
   "source": [
    "labels = training['ARR_DEL15']\n",
    "training = training.drop('ARR_DEL15', 1)"
   ]
  },
  {
   "cell_type": "code",
   "execution_count": 5,
   "metadata": {
    "collapsed": false
   },
   "outputs": [],
   "source": [
    "# Transform the string labels to numerical using label encoder \n",
    "training.UNIQUE_CARRIER = le.fit_transform(training.UNIQUE_CARRIER)\n",
    "training.ORIGIN = le.fit_transform(training.ORIGIN)\n",
    "training.DEST = le.fit_transform(training.DEST)"
   ]
  },
  {
   "cell_type": "code",
   "execution_count": 6,
   "metadata": {
    "collapsed": false
   },
   "outputs": [
    {
     "name": "stdout",
     "output_type": "stream",
     "text": [
      "(3629488, 758)\n"
     ]
    }
   ],
   "source": [
    "categ = [list(training.columns).index(x) for x in 'DAY_OF_MONTH', 'DAY_OF_WEEK', \n",
    "         'UNIQUE_CARRIER', 'ORIGIN', 'DEST', 'hour']\n",
    "enc = preprocessing.OneHotEncoder(categorical_features = categ)\n",
    "training['UNIQUE_CARRIER'] = pd.factorize(training['UNIQUE_CARRIER'])[0]\n",
    "training['ORIGIN'] = pd.factorize(training['ORIGIN'])[0]\n",
    "training['DEST'] = pd.factorize(training['DEST'])[0]\n",
    "sparse_train = enc.fit_transform(training)\n",
    "print sparse_train.shape"
   ]
  },
  {
   "cell_type": "code",
   "execution_count": 8,
   "metadata": {
    "collapsed": false
   },
   "outputs": [],
   "source": [
    "# Create training and testing sets using cross validation\n",
    "features_train_1, features_test_1, labels_train_1, labels_test_1 = \\\n",
    "    cross_validation.train_test_split(sparse_train, labels, test_size=0.70)\n",
    "features_train_2, features_test_2, labels_train_2, labels_test_2 = \\\n",
    "    cross_validation.train_test_split(features_train_1, labels_train_1, test_size=0.70)\n",
    "features_train, features_test, labels_train, labels_test = \\\n",
    "    cross_validation.train_test_split(features_train_2, labels_train_2, test_size=0.70)"
   ]
  },
  {
   "cell_type": "code",
   "execution_count": 9,
   "metadata": {
    "collapsed": false
   },
   "outputs": [],
   "source": [
    "# naive = GaussianNB().fit(features_train, labels_train)\n",
    "forest = ensemble.RandomForestClassifier(n_estimators=10, \n",
    "                                         n_jobs=-1).fit(features_train, labels_train)"
   ]
  },
  {
   "cell_type": "code",
   "execution_count": 14,
   "metadata": {
    "collapsed": false
   },
   "outputs": [
    {
     "name": "stdout",
     "output_type": "stream",
     "text": [
      "Confusion matrix\n",
      "       0      1\n",
      "0  76731  37533\n",
      "1  57415  56979\n"
     ]
    },
    {
     "name": "stderr",
     "output_type": "stream",
     "text": [
      "/Users/arkham/anaconda/lib/python2.7/site-packages/sklearn/metrics/classification.py:976: DeprecationWarning: From version 0.18, binary input will not be handled specially when using averaged precision/recall/F-score. Please use average='binary' to report only the positive class performance.\n",
      "  'positive class performance.', DeprecationWarning)\n"
     ]
    },
    {
     "name": "stdout",
     "output_type": "stream",
     "text": [
      "Precision = 0.60, Recall = 0.50, F1 = 0.55, Area Under Curve = 0.58\n",
      "\n"
     ]
    },
    {
     "data": {
      "image/png": "[encoded data removed]",
      "text/plain": [
       "<matplotlib.figure.Figure at 0x1193d0b50>"
      ]
     },
     "metadata": {},
     "output_type": "display_data"
    }
   ],
   "source": [
    "# Evaluate on test set\n",
    "pred = forest.predict(features_test)\n",
    "\n",
    "\n",
    "# print results\n",
    "cm = metrics.confusion_matrix(labels_test, pred)\n",
    "print(\"Confusion matrix\")\n",
    "print(pd.DataFrame(cm))\n",
    "\n",
    "report_rf = metrics.precision_recall_fscore_support(list(labels_test), \n",
    "                                                    list(pred), average='micro')\n",
    "print \"Precision = %0.2f, Recall = %0.2f, F1 = %0.2f, Area Under Curve = %0.2f\\n\" % \\\n",
    "        (report_rf[0], report_rf[1], report_rf[2], \n",
    "         metrics.roc_auc_score(list(labels_test.values), list(pred)))\n",
    "false_positive_rate, true_positive_rate, thresholds = metrics.roc_curve(list(labels_test), list(pred))\n",
    "roc_auc = metrics.auc(false_positive_rate, true_positive_rate)\n",
    "plt.title('Receiver Operating Characteristic')\n",
    "plt.plot(false_positive_rate, true_positive_rate, 'b',\n",
    "label='AUC = %0.2f'% roc_auc)\n",
    "plt.legend(loc='lower right')\n",
    "plt.plot([0,1],[0,1],'r--')\n",
    "plt.xlim([-0.1,1.2])\n",
    "plt.ylim([-0.1,1.2])\n",
    "plt.ylabel('True Positive Rate')\n",
    "plt.xlabel('False Positive Rate')\n",
    "plt.show()"
   ]
  },
  {
   "cell_type": "code",
   "execution_count": null,
   "metadata": {
    "collapsed": true
   },
   "outputs": [],
   "source": []
  },
  {
   "cell_type": "code",
   "execution_count": null,
   "metadata": {
    "collapsed": false
   },
   "outputs": [],
   "source": [
    "def modelfit(alg, features, labels, useTrainCV=True, cv_folds=5, \n",
    "             early_stopping_rounds=20):\n",
    "    \n",
    "    if useTrainCV:\n",
    "        xgb_param = alg.get_xgb_params()\n",
    "        xgtrain = xgb.DMatrix(features, label=labels)\n",
    "        cvresult = xgb.cv(xgb_param, xgtrain, num_boost_round=alg.get_params()['n_estimators'], \n",
    "                          nfold=cv_folds,\n",
    "            metrics=['auc'], early_stopping_rounds=early_stopping_rounds, show_progress=False)\n",
    "        alg.set_params(n_estimators=cvresult.shape[0])\n",
    "    \n",
    "    #Fit the algorithm on the data\n",
    "    alg.fit(features, labels, eval_metric='auc')\n",
    "        \n",
    "    #Predict training set:\n",
    "    dtrain_predictions = alg.predict(features)\n",
    "    dtrain_predprob = alg.predict_proba(features)[:,1]\n",
    "        \n",
    "    #Print model report:\n",
    "    print \"\\nModel Report\"\n",
    "    print \"Accuracy : %.4g\" % metrics.accuracy_score(labels.values, dtrain_predictions)\n",
    "    print \"AUC Score (Train): %f\" % metrics.roc_auc_score(labels, dtrain_predprob)\n",
    "                    \n",
    "#     feat_imp = pd.Series(alg.booster().get_fscore()).sort_values(ascending=False)\n",
    "#     feat_imp.plot(kind='bar', title='Feature Importances')\n",
    "#     plt.ylabel('Feature Importance Score')"
   ]
  },
  {
   "cell_type": "code",
   "execution_count": null,
   "metadata": {
    "collapsed": false,
    "scrolled": true
   },
   "outputs": [],
   "source": [
    "boost =  xgb.XGBClassifier(\n",
    " learning_rate = 1,\n",
    " n_estimators=1000,\n",
    " max_depth=5,\n",
    " min_child_weight=1,\n",
    " gamma=0,\n",
    " subsample=0.8,\n",
    " colsample_bytree=0.8,\n",
    " objective= 'binary:logistic',\n",
    " nthread=4,\n",
    " scale_pos_weight=1,\n",
    " seed=27)\n",
    "modelfit(boost, features_train_1, labels_train_1)"
   ]
  },
  {
   "cell_type": "code",
   "execution_count": null,
   "metadata": {
    "collapsed": false
   },
   "outputs": [],
   "source": [
    "%%time\n",
    "boost =  xgb.XGBClassifier(\n",
    " learning_rate = 1,\n",
    " n_estimators=329,\n",
    " max_depth=5,\n",
    " min_child_weight=1,\n",
    " gamma=0,\n",
    " subsample=0.8,\n",
    " colsample_bytree=0.8,\n",
    " objective= 'binary:logistic',\n",
    " nthread=4,\n",
    " scale_pos_weight=1,\n",
    " seed=27).fit(features_train_1, labels_train_1)"
   ]
  },
  {
   "cell_type": "code",
   "execution_count": null,
   "metadata": {
    "collapsed": false
   },
   "outputs": [],
   "source": [
    "%%time\n",
    "# Evaluate on test set\n",
    "pred = boost.predict(features_test_1)\n",
    "\n",
    "\n",
    "# print results\n",
    "cm = metrics.confusion_matrix(labels_test_1, pred)\n",
    "print(\"Confusion matrix\")\n",
    "print(pd.DataFrame(cm))\n",
    "\n",
    "report_rf = metrics.precision_recall_fscore_support(list(labels_test_1), list(pred), \n",
    "                                                    average='micro')\n",
    "print \"precision = %0.2f, recall = %0.2f, F1 = %0.2f, accuracy = %0.2f\\n\" % \\\n",
    "        (report_rf[0], \n",
    "         report_rf[1], \n",
    "         report_rf[2], \n",
    "         metrics.roc_auc_score(list(labels_test_1.values), list(pred)))"
   ]
  },
  {
   "cell_type": "code",
   "execution_count": null,
   "metadata": {
    "collapsed": true
   },
   "outputs": [],
   "source": [
    "#plot roc curves for different models"
   ]
  },
  {
   "cell_type": "code",
   "execution_count": null,
   "metadata": {
    "collapsed": true
   },
   "outputs": [],
   "source": []
  }
 ],
 "metadata": {
  "kernelspec": {
   "display_name": "Python 2",
   "language": "python",
   "name": "python2"
  },
  "language_info": {
   "codemirror_mode": {
    "name": "ipython",
    "version": 2
   },
   "file_extension": ".py",
   "mimetype": "text/x-python",
   "name": "python",
   "nbconvert_exporter": "python",
   "pygments_lexer": "ipython2",
   "version": "2.7.11"
  }
 },
 "nbformat": 4,
 "nbformat_minor": 0
}
