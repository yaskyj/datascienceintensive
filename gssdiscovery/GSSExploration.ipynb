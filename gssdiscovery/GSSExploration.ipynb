{
 "cells": [
  {
   "cell_type": "code",
   "execution_count": 9,
   "metadata": {
    "collapsed": true
   },
   "outputs": [],
   "source": [
    "#Basics\n",
    "%matplotlib inline\n",
    "import pandas as pd\n",
    "import numpy as np\n",
    "import scipy.stats\n",
    "import matplotlib.pyplot as pyplot\n",
    "from toolz import *"
   ]
  },
  {
   "cell_type": "code",
   "execution_count": 3,
   "metadata": {
    "collapsed": false
   },
   "outputs": [],
   "source": [
    "#gss = pd.read_stata('GSS7214_R4.DTA')\n",
    "#gss.head(1)\n",
    "gss = pd.read_stata('GSS7214_R4.DTA', convert_categoricals=False, convert_missing=True)"
   ]
  },
  {
   "cell_type": "code",
   "execution_count": 4,
   "metadata": {
    "collapsed": false
   },
   "outputs": [
    {
     "data": {
      "text/html": [
       "<div>\n",
       "<table border=\"1\" class=\"dataframe\">\n",
       "  <thead>\n",
       "    <tr style=\"text-align: right;\">\n",
       "      <th></th>\n",
       "      <th>year</th>\n",
       "      <th>id</th>\n",
       "      <th>wrkstat</th>\n",
       "      <th>hrs1</th>\n",
       "      <th>hrs2</th>\n",
       "      <th>evwork</th>\n",
       "      <th>occ</th>\n",
       "      <th>prestige</th>\n",
       "      <th>wrkslf</th>\n",
       "      <th>wrkgovt</th>\n",
       "      <th>...</th>\n",
       "      <th>res2012</th>\n",
       "      <th>cshutyp06</th>\n",
       "      <th>cshutyp08</th>\n",
       "      <th>cshutyp10</th>\n",
       "      <th>cshutyp12</th>\n",
       "      <th>wtss</th>\n",
       "      <th>wtssnr</th>\n",
       "      <th>wtssall</th>\n",
       "      <th>vstrat</th>\n",
       "      <th>vpsu</th>\n",
       "    </tr>\n",
       "  </thead>\n",
       "  <tbody>\n",
       "    <tr>\n",
       "      <th>0</th>\n",
       "      <td>1972</td>\n",
       "      <td>1</td>\n",
       "      <td>1</td>\n",
       "      <td>.i</td>\n",
       "      <td>.i</td>\n",
       "      <td>.i</td>\n",
       "      <td>205</td>\n",
       "      <td>50</td>\n",
       "      <td>2</td>\n",
       "      <td>.i</td>\n",
       "      <td>...</td>\n",
       "      <td>.</td>\n",
       "      <td>.i</td>\n",
       "      <td>.i</td>\n",
       "      <td>.i</td>\n",
       "      <td>.i</td>\n",
       "      <td>1</td>\n",
       "      <td>1</td>\n",
       "      <td>0.4446</td>\n",
       "      <td>.i</td>\n",
       "      <td>.i</td>\n",
       "    </tr>\n",
       "  </tbody>\n",
       "</table>\n",
       "<p>1 rows × 5619 columns</p>\n",
       "</div>"
      ],
      "text/plain": [
       "   year  id wrkstat hrs1 hrs2 evwork  occ prestige wrkslf wrkgovt ...   \\\n",
       "0  1972   1       1   .i   .i     .i  205       50      2      .i ...    \n",
       "\n",
       "  res2012 cshutyp06 cshutyp08 cshutyp10 cshutyp12 wtss wtssnr wtssall vstrat  \\\n",
       "0       .        .i        .i        .i        .i    1      1  0.4446     .i   \n",
       "\n",
       "  vpsu  \n",
       "0   .i  \n",
       "\n",
       "[1 rows x 5619 columns]"
      ]
     },
     "execution_count": 4,
     "metadata": {},
     "output_type": "execute_result"
    }
   ],
   "source": [
    "gss.head(1)"
   ]
  },
  {
   "cell_type": "code",
   "execution_count": 5,
   "metadata": {
    "collapsed": false
   },
   "outputs": [
    {
     "data": {
      "text/html": [
       "<div>\n",
       "<table border=\"1\" class=\"dataframe\">\n",
       "  <thead>\n",
       "    <tr style=\"text-align: right;\">\n",
       "      <th></th>\n",
       "      <th>year</th>\n",
       "      <th>id</th>\n",
       "      <th>sex</th>\n",
       "      <th>race</th>\n",
       "      <th>reg16</th>\n",
       "      <th>region</th>\n",
       "      <th>xnorcsiz</th>\n",
       "      <th>srcbelt</th>\n",
       "      <th>size</th>\n",
       "      <th>spjewaj</th>\n",
       "      <th>formwt</th>\n",
       "      <th>sample</th>\n",
       "      <th>oversamp</th>\n",
       "      <th>wtss</th>\n",
       "      <th>wtssnr</th>\n",
       "      <th>wtssall</th>\n",
       "    </tr>\n",
       "  </thead>\n",
       "  <tbody>\n",
       "    <tr>\n",
       "      <th>count</th>\n",
       "      <td>59599.000000</td>\n",
       "      <td>59599.000000</td>\n",
       "      <td>59599.000000</td>\n",
       "      <td>59599.000000</td>\n",
       "      <td>59599.000000</td>\n",
       "      <td>59599.000000</td>\n",
       "      <td>59599.000000</td>\n",
       "      <td>59599.000000</td>\n",
       "      <td>59599.000000</td>\n",
       "      <td>59599.000000</td>\n",
       "      <td>59599.000000</td>\n",
       "      <td>59599.00000</td>\n",
       "      <td>59599.000000</td>\n",
       "      <td>59599.000000</td>\n",
       "      <td>59599.000000</td>\n",
       "      <td>59599.000000</td>\n",
       "    </tr>\n",
       "    <tr>\n",
       "      <th>mean</th>\n",
       "      <td>1993.017534</td>\n",
       "      <td>1137.341616</td>\n",
       "      <td>1.558952</td>\n",
       "      <td>1.241715</td>\n",
       "      <td>4.340291</td>\n",
       "      <td>4.905149</td>\n",
       "      <td>4.399772</td>\n",
       "      <td>3.986862</td>\n",
       "      <td>380.750566</td>\n",
       "      <td>0.000067</td>\n",
       "      <td>1.000007</td>\n",
       "      <td>6.52521</td>\n",
       "      <td>0.999995</td>\n",
       "      <td>1.000092</td>\n",
       "      <td>1.000029</td>\n",
       "      <td>1.000017</td>\n",
       "    </tr>\n",
       "    <tr>\n",
       "      <th>std</th>\n",
       "      <td>12.296335</td>\n",
       "      <td>830.973829</td>\n",
       "      <td>0.496517</td>\n",
       "      <td>0.534363</td>\n",
       "      <td>2.547681</td>\n",
       "      <td>2.453449</td>\n",
       "      <td>2.903625</td>\n",
       "      <td>1.541329</td>\n",
       "      <td>1278.284081</td>\n",
       "      <td>0.016385</td>\n",
       "      <td>0.201046</td>\n",
       "      <td>2.61286</td>\n",
       "      <td>0.093398</td>\n",
       "      <td>0.297629</td>\n",
       "      <td>0.312061</td>\n",
       "      <td>0.460132</td>\n",
       "    </tr>\n",
       "    <tr>\n",
       "      <th>min</th>\n",
       "      <td>1972.000000</td>\n",
       "      <td>1.000000</td>\n",
       "      <td>1.000000</td>\n",
       "      <td>1.000000</td>\n",
       "      <td>0.000000</td>\n",
       "      <td>1.000000</td>\n",
       "      <td>1.000000</td>\n",
       "      <td>1.000000</td>\n",
       "      <td>0.000000</td>\n",
       "      <td>0.000000</td>\n",
       "      <td>0.402000</td>\n",
       "      <td>1.00000</td>\n",
       "      <td>0.377800</td>\n",
       "      <td>0.396555</td>\n",
       "      <td>0.293074</td>\n",
       "      <td>0.396555</td>\n",
       "    </tr>\n",
       "    <tr>\n",
       "      <th>25%</th>\n",
       "      <td>1983.000000</td>\n",
       "      <td>497.000000</td>\n",
       "      <td>1.000000</td>\n",
       "      <td>1.000000</td>\n",
       "      <td>2.000000</td>\n",
       "      <td>3.000000</td>\n",
       "      <td>2.000000</td>\n",
       "      <td>3.000000</td>\n",
       "      <td>6.000000</td>\n",
       "      <td>0.000000</td>\n",
       "      <td>1.000000</td>\n",
       "      <td>6.00000</td>\n",
       "      <td>1.000000</td>\n",
       "      <td>1.000000</td>\n",
       "      <td>1.000000</td>\n",
       "      <td>0.550100</td>\n",
       "    </tr>\n",
       "    <tr>\n",
       "      <th>50%</th>\n",
       "      <td>1994.000000</td>\n",
       "      <td>1011.000000</td>\n",
       "      <td>2.000000</td>\n",
       "      <td>1.000000</td>\n",
       "      <td>4.000000</td>\n",
       "      <td>5.000000</td>\n",
       "      <td>3.000000</td>\n",
       "      <td>5.000000</td>\n",
       "      <td>24.000000</td>\n",
       "      <td>0.000000</td>\n",
       "      <td>1.000000</td>\n",
       "      <td>8.00000</td>\n",
       "      <td>1.000000</td>\n",
       "      <td>1.000000</td>\n",
       "      <td>1.000000</td>\n",
       "      <td>1.007200</td>\n",
       "    </tr>\n",
       "    <tr>\n",
       "      <th>75%</th>\n",
       "      <td>2004.000000</td>\n",
       "      <td>1524.000000</td>\n",
       "      <td>2.000000</td>\n",
       "      <td>1.000000</td>\n",
       "      <td>6.000000</td>\n",
       "      <td>7.000000</td>\n",
       "      <td>7.000000</td>\n",
       "      <td>5.000000</td>\n",
       "      <td>111.000000</td>\n",
       "      <td>0.000000</td>\n",
       "      <td>1.000000</td>\n",
       "      <td>9.00000</td>\n",
       "      <td>1.000000</td>\n",
       "      <td>1.000000</td>\n",
       "      <td>1.000000</td>\n",
       "      <td>1.098500</td>\n",
       "    </tr>\n",
       "    <tr>\n",
       "      <th>max</th>\n",
       "      <td>2014.000000</td>\n",
       "      <td>4510.000000</td>\n",
       "      <td>2.000000</td>\n",
       "      <td>3.000000</td>\n",
       "      <td>9.000000</td>\n",
       "      <td>9.000000</td>\n",
       "      <td>10.000000</td>\n",
       "      <td>6.000000</td>\n",
       "      <td>8175.000000</td>\n",
       "      <td>4.000000</td>\n",
       "      <td>7.180000</td>\n",
       "      <td>10.00000</td>\n",
       "      <td>1.241000</td>\n",
       "      <td>8.739876</td>\n",
       "      <td>11.068476</td>\n",
       "      <td>8.739876</td>\n",
       "    </tr>\n",
       "  </tbody>\n",
       "</table>\n",
       "</div>"
      ],
      "text/plain": [
       "               year            id           sex          race         reg16  \\\n",
       "count  59599.000000  59599.000000  59599.000000  59599.000000  59599.000000   \n",
       "mean    1993.017534   1137.341616      1.558952      1.241715      4.340291   \n",
       "std       12.296335    830.973829      0.496517      0.534363      2.547681   \n",
       "min     1972.000000      1.000000      1.000000      1.000000      0.000000   \n",
       "25%     1983.000000    497.000000      1.000000      1.000000      2.000000   \n",
       "50%     1994.000000   1011.000000      2.000000      1.000000      4.000000   \n",
       "75%     2004.000000   1524.000000      2.000000      1.000000      6.000000   \n",
       "max     2014.000000   4510.000000      2.000000      3.000000      9.000000   \n",
       "\n",
       "             region      xnorcsiz       srcbelt          size       spjewaj  \\\n",
       "count  59599.000000  59599.000000  59599.000000  59599.000000  59599.000000   \n",
       "mean       4.905149      4.399772      3.986862    380.750566      0.000067   \n",
       "std        2.453449      2.903625      1.541329   1278.284081      0.016385   \n",
       "min        1.000000      1.000000      1.000000      0.000000      0.000000   \n",
       "25%        3.000000      2.000000      3.000000      6.000000      0.000000   \n",
       "50%        5.000000      3.000000      5.000000     24.000000      0.000000   \n",
       "75%        7.000000      7.000000      5.000000    111.000000      0.000000   \n",
       "max        9.000000     10.000000      6.000000   8175.000000      4.000000   \n",
       "\n",
       "             formwt       sample      oversamp          wtss        wtssnr  \\\n",
       "count  59599.000000  59599.00000  59599.000000  59599.000000  59599.000000   \n",
       "mean       1.000007      6.52521      0.999995      1.000092      1.000029   \n",
       "std        0.201046      2.61286      0.093398      0.297629      0.312061   \n",
       "min        0.402000      1.00000      0.377800      0.396555      0.293074   \n",
       "25%        1.000000      6.00000      1.000000      1.000000      1.000000   \n",
       "50%        1.000000      8.00000      1.000000      1.000000      1.000000   \n",
       "75%        1.000000      9.00000      1.000000      1.000000      1.000000   \n",
       "max        7.180000     10.00000      1.241000      8.739876     11.068476   \n",
       "\n",
       "            wtssall  \n",
       "count  59599.000000  \n",
       "mean       1.000017  \n",
       "std        0.460132  \n",
       "min        0.396555  \n",
       "25%        0.550100  \n",
       "50%        1.007200  \n",
       "75%        1.098500  \n",
       "max        8.739876  "
      ]
     },
     "execution_count": 5,
     "metadata": {},
     "output_type": "execute_result"
    }
   ],
   "source": [
    "gss.describe()"
   ]
  },
  {
   "cell_type": "code",
   "execution_count": 20,
   "metadata": {
    "collapsed": false
   },
   "outputs": [
    {
     "data": {
      "text/plain": [
       "5619"
      ]
     },
     "execution_count": 20,
     "metadata": {},
     "output_type": "execute_result"
    }
   ],
   "source": [
    "all_columns = list(gss.columns.values)\n",
    "#print(type(all_columns))\n",
    "len(all_columns)"
   ]
  },
  {
   "cell_type": "code",
   "execution_count": 21,
   "metadata": {
    "collapsed": false
   },
   "outputs": [
    {
     "data": {
      "text/plain": [
       "5619"
      ]
     },
     "execution_count": 21,
     "metadata": {},
     "output_type": "execute_result"
    }
   ],
   "source": [
    "dist_columns = list(unique(all_columns))\n",
    "#print(type(dist_columns)) \n",
    "len(dist_columns)"
   ]
  },
  {
   "cell_type": "code",
   "execution_count": 24,
   "metadata": {
    "collapsed": false
   },
   "outputs": [
    {
     "name": "stdout",
     "output_type": "stream",
     "text": [
      "count     59599\n",
      "unique       93\n",
      "top          .i\n",
      "freq      24903\n",
      "Name: hrs1, dtype: object\n"
     ]
    }
   ],
   "source": [
    "print(gss.hrs1.describe())"
   ]
  },
  {
   "cell_type": "code",
   "execution_count": null,
   "metadata": {
    "collapsed": true
   },
   "outputs": [],
   "source": []
  }
 ],
 "metadata": {
  "kernelspec": {
   "display_name": "Python 2",
   "language": "python",
   "name": "python2"
  },
  "language_info": {
   "codemirror_mode": {
    "name": "ipython",
    "version": 2
   },
   "file_extension": ".py",
   "mimetype": "text/x-python",
   "name": "python",
   "nbconvert_exporter": "python",
   "pygments_lexer": "ipython2",
   "version": "2.7.11"
  }
 },
 "nbformat": 4,
 "nbformat_minor": 0
}
