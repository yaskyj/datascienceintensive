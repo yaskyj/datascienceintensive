{
 "cells": [
  {
   "cell_type": "markdown",
   "metadata": {},
   "source": [
    "# XML example and exercise\n",
    "****\n",
    "+ study examples of accessing nodes in XML tree structure  \n",
    "+ work on exercise to be completed and submitted\n",
    "****\n",
    "+ reference: https://docs.python.org/2.7/library/xml.etree.elementtree.html\n",
    "+ data source: http://www.dbis.informatik.uni-goettingen.de/Mondial\n",
    "****"
   ]
  },
  {
   "cell_type": "code",
   "execution_count": 1,
   "metadata": {
    "collapsed": true
   },
   "outputs": [],
   "source": [
    "from xml.etree import ElementTree as ET\n",
    "import pandas as pd\n",
    "pd.options.display.float_format = '{:,.2f}'.format\n",
    "import numpy as np"
   ]
  },
  {
   "cell_type": "markdown",
   "metadata": {},
   "source": [
    "## XML example\n",
    "\n",
    "+ for details about tree traversal and iterators, see https://docs.python.org/2.7/library/xml.etree.elementtree.html"
   ]
  },
  {
   "cell_type": "code",
   "execution_count": 2,
   "metadata": {
    "collapsed": true
   },
   "outputs": [],
   "source": [
    "document_tree = ET.parse( './data/mondial_database_less.xml' )"
   ]
  },
  {
   "cell_type": "code",
   "execution_count": 3,
   "metadata": {
    "collapsed": false
   },
   "outputs": [
    {
     "name": "stdout",
     "output_type": "stream",
     "text": [
      "Albania\n",
      "Greece\n",
      "Macedonia\n",
      "Serbia\n",
      "Montenegro\n",
      "Kosovo\n",
      "Andorra\n"
     ]
    }
   ],
   "source": [
    "# print names of all countries\n",
    "for child in document_tree.getroot():\n",
    "    print child.find('name').text"
   ]
  },
  {
   "cell_type": "code",
   "execution_count": 4,
   "metadata": {
    "collapsed": false
   },
   "outputs": [
    {
     "name": "stdout",
     "output_type": "stream",
     "text": [
      "* Albania: Tirana, Shkodër, Durrës, Vlorë, Elbasan, Korçë\n",
      "* Greece: Komotini, Kavala, Athina, Peiraias, Peristeri, Acharnes, Patra, Kozani, Kerkyra, Ioannina, Thessaloniki, Iraklio, Chania, Ermoupoli, Rhodes, Tripoli, Lamia, Chalkida, Larissa, Volos, Mytilini, Karyes\n",
      "* Macedonia: Skopje, Kumanovo\n",
      "* Serbia: Beograd, Novi Sad, Niš\n",
      "* Montenegro: Podgorica\n",
      "* Kosovo: Prishtine\n",
      "* Andorra: Andorra la Vella\n"
     ]
    }
   ],
   "source": [
    "# print names of all countries and their cities\n",
    "for element in document_tree.iterfind('country'):\n",
    "    print '* ' + element.find('name').text + ':',\n",
    "    capitals_string = ''\n",
    "    for subelement in element.getiterator('city'):\n",
    "        capitals_string += subelement.find('name').text + ', '\n",
    "    print capitals_string[:-2]"
   ]
  },
  {
   "cell_type": "markdown",
   "metadata": {},
   "source": [
    "****\n",
    "## XML exercise\n",
    "\n",
    "Using data in 'data/mondial_database.xml', the examples above, and refering to https://docs.python.org/2.7/library/xml.etree.elementtree.html, find\n",
    "\n",
    "1. 10 countries with the lowest infant mortality rates\n",
    "2. 10 cities with the largest population\n",
    "3. 10 ethnic groups with the largest overall populations (sum of best/latest estimates over all countries)\n",
    "4. name and country of a) longest river, b) largest lake and c) airport at highest elevation"
   ]
  },
  {
   "cell_type": "code",
   "execution_count": 83,
   "metadata": {
    "collapsed": true
   },
   "outputs": [],
   "source": [
    "document = ET.parse( './data/mondial_database.xml' )"
   ]
  },
  {
   "cell_type": "code",
   "execution_count": 42,
   "metadata": {
    "collapsed": false
   },
   "outputs": [
    {
     "data": {
      "text/plain": [
       "Monaco                   1.81\n",
       "Romania                 10.16\n",
       "Fiji                     10.2\n",
       "Brunei                  10.48\n",
       "Grenada                  10.5\n",
       "Mauritius               10.59\n",
       "Panama                   10.7\n",
       "Seychelles              10.77\n",
       "United Arab Emirates    10.92\n",
       "Barbados                10.93\n",
       "dtype: object"
      ]
     },
     "execution_count": 42,
     "metadata": {},
     "output_type": "execute_result"
    }
   ],
   "source": [
    "#1. 10 countries with the lowest infant mortality rates\n",
    "names, mortalities = [], []\n",
    "for country in document.iterfind('country'):\n",
    "    name = country.find('name').text\n",
    "    try:\n",
    "        mort = country.find('infant_mortality').text\n",
    "    except:\n",
    "        mort = np.nan\n",
    "    names.append(name)\n",
    "    mortalities.append(mort)\n",
    "morts = pd.Series(mortalities, index=names)\n",
    "morts = morts[morts.notnull()].sort_values()\n",
    "morts.head(10)\n"
   ]
  },
  {
   "cell_type": "code",
   "execution_count": 43,
   "metadata": {
    "collapsed": false
   },
   "outputs": [
    {
     "data": {
      "text/plain": [
       "Mumbai       12442373\n",
       "Delhi        11034555\n",
       "Hubli         8443675\n",
       "Bangalore     8443675\n",
       "Mysore        8443675\n",
       "London        8250205\n",
       "Tehran        8154051\n",
       "Dhaka         7423137\n",
       "Thimphu       6731790\n",
       "Warangal      6731790\n",
       "dtype: int64"
      ]
     },
     "execution_count": 43,
     "metadata": {},
     "output_type": "execute_result"
    }
   ],
   "source": [
    "#2. 10 cities with the largest population\n",
    "names, populations = [], []\n",
    "for city in document.iter('city'):\n",
    "    name = city.find('name').text\n",
    "    population = city.findall('population')\n",
    "    for i in population:\n",
    "        if i.attrib['year'] == '2011':\n",
    "            pop = int(i.text)\n",
    "    populations.append(pop)\n",
    "    names.append(name)\n",
    "\n",
    "pops = pd.Series(populations, names)\n",
    "pops.sort_values(ascending=False).head(10)"
   ]
  },
  {
   "cell_type": "code",
   "execution_count": 44,
   "metadata": {
    "collapsed": false
   },
   "outputs": [
    {
     "data": {
      "text/html": [
       "<div>\n",
       "<table border=\"1\" class=\"dataframe\">\n",
       "  <thead>\n",
       "    <tr style=\"text-align: right;\">\n",
       "      <th></th>\n",
       "      <th>population</th>\n",
       "    </tr>\n",
       "    <tr>\n",
       "      <th>ethnicgroups</th>\n",
       "      <th></th>\n",
       "    </tr>\n",
       "  </thead>\n",
       "  <tbody>\n",
       "    <tr>\n",
       "      <th>Indo-Aryan</th>\n",
       "      <td>871,815,583.44</td>\n",
       "    </tr>\n",
       "    <tr>\n",
       "      <th>African</th>\n",
       "      <td>667,724,568.37</td>\n",
       "    </tr>\n",
       "    <tr>\n",
       "      <th>Bhote</th>\n",
       "      <td>605,427,488.50</td>\n",
       "    </tr>\n",
       "    <tr>\n",
       "      <th>Nepalese</th>\n",
       "      <td>423,799,241.95</td>\n",
       "    </tr>\n",
       "    <tr>\n",
       "      <th>Dravidian</th>\n",
       "      <td>302,713,744.25</td>\n",
       "    </tr>\n",
       "    <tr>\n",
       "      <th>Bengali</th>\n",
       "      <td>146,776,916.72</td>\n",
       "    </tr>\n",
       "    <tr>\n",
       "      <th>Burman</th>\n",
       "      <td>101,845,207.52</td>\n",
       "    </tr>\n",
       "    <tr>\n",
       "      <th>Arab</th>\n",
       "      <td>93,474,053.28</td>\n",
       "    </tr>\n",
       "    <tr>\n",
       "      <th>Arab-Berber</th>\n",
       "      <td>85,709,405.06</td>\n",
       "    </tr>\n",
       "    <tr>\n",
       "      <th>Tajik</th>\n",
       "      <td>79,597,613.48</td>\n",
       "    </tr>\n",
       "  </tbody>\n",
       "</table>\n",
       "</div>"
      ],
      "text/plain": [
       "                 population\n",
       "ethnicgroups               \n",
       "Indo-Aryan   871,815,583.44\n",
       "African      667,724,568.37\n",
       "Bhote        605,427,488.50\n",
       "Nepalese     423,799,241.95\n",
       "Dravidian    302,713,744.25\n",
       "Bengali      146,776,916.72\n",
       "Burman       101,845,207.52\n",
       "Arab          93,474,053.28\n",
       "Arab-Berber   85,709,405.06\n",
       "Tajik         79,597,613.48"
      ]
     },
     "execution_count": 44,
     "metadata": {},
     "output_type": "execute_result"
    }
   ],
   "source": [
    "#3. 10 ethnic groups with the largest overall populations (sum of best/latest estimates over all countries)\n",
    "country_name, ethnicity, population = [], [], []\n",
    "for country in document.iterfind('country'):\n",
    "    name = country.find('name').text\n",
    "    populations = country.findall('population')\n",
    "    for i in populations:\n",
    "        if i.attrib['year'] == '2011':\n",
    "            pop = int(i.text)\n",
    "    eth = country.findall('ethnicgroup')\n",
    "    for e in eth:\n",
    "        country_name.append(name)\n",
    "        ethnicity.append(e.text)\n",
    "        population.append(float(e.attrib['percentage'])/100*pop)\n",
    "data = {'country_names': country_name, 'ethnicgroups': ethnicity, 'population': population}\n",
    "df = pd.DataFrame(data)\n",
    "ethnic = df.groupby('ethnicgroups').sum()\n",
    "ethnic.sort_values('population', ascending=False).head(10)"
   ]
  },
  {
   "cell_type": "code",
   "execution_count": 155,
   "metadata": {
    "collapsed": false
   },
   "outputs": [],
   "source": [
    "#Create dataframe for country name to code joins\n",
    "country_name, car_codes = [], []\n",
    "for country in document.iterfind('country'):\n",
    "    name = country.find('name').text\n",
    "    car_code = country.attrib['car_code']\n",
    "    country_name.append(name)\n",
    "    car_codes.append(car_code)\n",
    "countries_temp = {'country_name': country_name, 'car_code': car_codes}\n",
    "countries = pd.DataFrame(countries_temp)"
   ]
  },
  {
   "cell_type": "code",
   "execution_count": 156,
   "metadata": {
    "collapsed": false
   },
   "outputs": [
    {
     "name": "stdout",
     "output_type": "stream",
     "text": [
      "Longest Rivers - for some reason the Nile's length isn't in the XML\n"
     ]
    },
    {
     "data": {
      "text/html": [
       "<div>\n",
       "<table border=\"1\" class=\"dataframe\">\n",
       "  <thead>\n",
       "    <tr style=\"text-align: right;\">\n",
       "      <th></th>\n",
       "      <th>car_code</th>\n",
       "      <th>length</th>\n",
       "      <th>river_name</th>\n",
       "      <th>country_name</th>\n",
       "    </tr>\n",
       "  </thead>\n",
       "  <tbody>\n",
       "    <tr>\n",
       "      <th>310</th>\n",
       "      <td>PE</td>\n",
       "      <td>6,448.00</td>\n",
       "      <td>Amazonas</td>\n",
       "      <td>Peru</td>\n",
       "    </tr>\n",
       "    <tr>\n",
       "      <th>299</th>\n",
       "      <td>CO</td>\n",
       "      <td>6,448.00</td>\n",
       "      <td>Amazonas</td>\n",
       "      <td>Colombia</td>\n",
       "    </tr>\n",
       "    <tr>\n",
       "      <th>302</th>\n",
       "      <td>BR</td>\n",
       "      <td>6,448.00</td>\n",
       "      <td>Amazonas</td>\n",
       "      <td>Brazil</td>\n",
       "    </tr>\n",
       "    <tr>\n",
       "      <th>226</th>\n",
       "      <td>CN</td>\n",
       "      <td>6,380.00</td>\n",
       "      <td>Jangtse</td>\n",
       "      <td>China</td>\n",
       "    </tr>\n",
       "    <tr>\n",
       "      <th>225</th>\n",
       "      <td>CN</td>\n",
       "      <td>4,845.00</td>\n",
       "      <td>Hwangho</td>\n",
       "      <td>China</td>\n",
       "    </tr>\n",
       "    <tr>\n",
       "      <th>43</th>\n",
       "      <td>R</td>\n",
       "      <td>4,400.00</td>\n",
       "      <td>Lena</td>\n",
       "      <td>Russia</td>\n",
       "    </tr>\n",
       "    <tr>\n",
       "      <th>364</th>\n",
       "      <td>ZRE</td>\n",
       "      <td>4,374.00</td>\n",
       "      <td>Zaire</td>\n",
       "      <td>Zaire</td>\n",
       "    </tr>\n",
       "    <tr>\n",
       "      <th>390</th>\n",
       "      <td>RCB</td>\n",
       "      <td>4,374.00</td>\n",
       "      <td>Zaire</td>\n",
       "      <td>Congo</td>\n",
       "    </tr>\n",
       "    <tr>\n",
       "      <th>227</th>\n",
       "      <td>CN</td>\n",
       "      <td>4,350.00</td>\n",
       "      <td>Mekong</td>\n",
       "      <td>China</td>\n",
       "    </tr>\n",
       "    <tr>\n",
       "      <th>246</th>\n",
       "      <td>LAO</td>\n",
       "      <td>4,350.00</td>\n",
       "      <td>Mekong</td>\n",
       "      <td>Laos</td>\n",
       "    </tr>\n",
       "  </tbody>\n",
       "</table>\n",
       "</div>"
      ],
      "text/plain": [
       "    car_code   length river_name country_name\n",
       "310       PE 6,448.00   Amazonas         Peru\n",
       "299       CO 6,448.00   Amazonas     Colombia\n",
       "302       BR 6,448.00   Amazonas       Brazil\n",
       "226       CN 6,380.00    Jangtse        China\n",
       "225       CN 4,845.00    Hwangho        China\n",
       "43         R 4,400.00       Lena       Russia\n",
       "364      ZRE 4,374.00      Zaire        Zaire\n",
       "390      RCB 4,374.00      Zaire        Congo\n",
       "227       CN 4,350.00     Mekong        China\n",
       "246      LAO 4,350.00     Mekong         Laos"
      ]
     },
     "execution_count": 156,
     "metadata": {},
     "output_type": "execute_result"
    }
   ],
   "source": [
    "#4. name and country of a) longest river, b) largest lake and c) airport at highest elevation\n",
    "river_name, river_length, car_code = [], [], []\n",
    "for r in document.iterfind('river'):\n",
    "    name = r.find('name').text\n",
    "    try:\n",
    "        length = float(r.find('length').text)\n",
    "    except:\n",
    "        length = np.nan\n",
    "    counts = r.attrib['country'].split(\" \")\n",
    "    for i in counts:        \n",
    "        river_name.append(name)\n",
    "        river_length.append(length)\n",
    "        car_code.append(i)\n",
    "rivers_temp = {'river_name': river_name, 'length': river_length, 'car_code': car_code}\n",
    "rivers = pd.DataFrame(rivers_temp)\n",
    "rivers_df = pd.merge(rivers, countries)\n",
    "print('Longest Rivers - for some reason the Nile\\'s length isn\\'t in the XML')\n",
    "rivers_df.sort_values('length', ascending=False).head(10)"
   ]
  },
  {
   "cell_type": "code",
   "execution_count": 157,
   "metadata": {
    "collapsed": false
   },
   "outputs": [
    {
     "name": "stdout",
     "output_type": "stream",
     "text": [
      "Largest Lakes\n"
     ]
    },
    {
     "data": {
      "text/html": [
       "<div>\n",
       "<table border=\"1\" class=\"dataframe\">\n",
       "  <thead>\n",
       "    <tr style=\"text-align: right;\">\n",
       "      <th></th>\n",
       "      <th>area</th>\n",
       "      <th>car_code</th>\n",
       "      <th>lake_name</th>\n",
       "      <th>country_name</th>\n",
       "    </tr>\n",
       "  </thead>\n",
       "  <tbody>\n",
       "    <tr>\n",
       "      <th>56</th>\n",
       "      <td>386,400.00</td>\n",
       "      <td>R</td>\n",
       "      <td>Caspian Sea</td>\n",
       "      <td>Russia</td>\n",
       "    </tr>\n",
       "    <tr>\n",
       "      <th>72</th>\n",
       "      <td>386,400.00</td>\n",
       "      <td>IR</td>\n",
       "      <td>Caspian Sea</td>\n",
       "      <td>Iran</td>\n",
       "    </tr>\n",
       "    <tr>\n",
       "      <th>73</th>\n",
       "      <td>386,400.00</td>\n",
       "      <td>AZ</td>\n",
       "      <td>Caspian Sea</td>\n",
       "      <td>Azerbaijan</td>\n",
       "    </tr>\n",
       "    <tr>\n",
       "      <th>74</th>\n",
       "      <td>386,400.00</td>\n",
       "      <td>KAZ</td>\n",
       "      <td>Caspian Sea</td>\n",
       "      <td>Kazakhstan</td>\n",
       "    </tr>\n",
       "    <tr>\n",
       "      <th>77</th>\n",
       "      <td>386,400.00</td>\n",
       "      <td>TM</td>\n",
       "      <td>Caspian Sea</td>\n",
       "      <td>Turkmenistan</td>\n",
       "    </tr>\n",
       "    <tr>\n",
       "      <th>148</th>\n",
       "      <td>82,103.00</td>\n",
       "      <td>CDN</td>\n",
       "      <td>Lake Superior</td>\n",
       "      <td>Canada</td>\n",
       "    </tr>\n",
       "    <tr>\n",
       "      <th>154</th>\n",
       "      <td>82,103.00</td>\n",
       "      <td>USA</td>\n",
       "      <td>Lake Superior</td>\n",
       "      <td>United States</td>\n",
       "    </tr>\n",
       "    <tr>\n",
       "      <th>116</th>\n",
       "      <td>68,870.00</td>\n",
       "      <td>EAT</td>\n",
       "      <td>Lake Victoria</td>\n",
       "      <td>Tanzania</td>\n",
       "    </tr>\n",
       "    <tr>\n",
       "      <th>104</th>\n",
       "      <td>68,870.00</td>\n",
       "      <td>EAK</td>\n",
       "      <td>Lake Victoria</td>\n",
       "      <td>Kenya</td>\n",
       "    </tr>\n",
       "    <tr>\n",
       "      <th>108</th>\n",
       "      <td>68,870.00</td>\n",
       "      <td>EAU</td>\n",
       "      <td>Lake Victoria</td>\n",
       "      <td>Uganda</td>\n",
       "    </tr>\n",
       "  </tbody>\n",
       "</table>\n",
       "</div>"
      ],
      "text/plain": [
       "          area car_code      lake_name   country_name\n",
       "56  386,400.00        R    Caspian Sea         Russia\n",
       "72  386,400.00       IR    Caspian Sea           Iran\n",
       "73  386,400.00       AZ    Caspian Sea     Azerbaijan\n",
       "74  386,400.00      KAZ    Caspian Sea     Kazakhstan\n",
       "77  386,400.00       TM    Caspian Sea   Turkmenistan\n",
       "148  82,103.00      CDN  Lake Superior         Canada\n",
       "154  82,103.00      USA  Lake Superior  United States\n",
       "116  68,870.00      EAT  Lake Victoria       Tanzania\n",
       "104  68,870.00      EAK  Lake Victoria          Kenya\n",
       "108  68,870.00      EAU  Lake Victoria         Uganda"
      ]
     },
     "execution_count": 157,
     "metadata": {},
     "output_type": "execute_result"
    }
   ],
   "source": [
    "#4. name and country of a) longest river, b) largest lake and c) airport at highest elevation\n",
    "lake_name, lake_area, car_code = [], [], []\n",
    "for r in document.iterfind('lake'):\n",
    "    name = r.find('name').text\n",
    "    try:\n",
    "        area = float(r.find('area').text)\n",
    "    except:\n",
    "        area = np.nan\n",
    "    country = r.attrib['country'].split(' ')\n",
    "    for i in country:\n",
    "        lake_name.append(name)\n",
    "        lake_area.append(area)\n",
    "        car_code.append(i)\n",
    "lakes_temp = {'lake_name': lake_name, 'area': lake_area, 'car_code': car_code}\n",
    "lakes = pd.DataFrame(lakes_temp)\n",
    "lakes = pd.merge(lakes, countries)\n",
    "print('Largest Lakes')\n",
    "lakes.sort_values('area', ascending=False).head(10)"
   ]
  },
  {
   "cell_type": "code",
   "execution_count": 158,
   "metadata": {
    "collapsed": false
   },
   "outputs": [
    {
     "name": "stdout",
     "output_type": "stream",
     "text": [
      "Highest Airport\n"
     ]
    },
    {
     "data": {
      "text/html": [
       "<div>\n",
       "<table border=\"1\" class=\"dataframe\">\n",
       "  <thead>\n",
       "    <tr style=\"text-align: right;\">\n",
       "      <th></th>\n",
       "      <th>airport_name</th>\n",
       "      <th>car_code</th>\n",
       "      <th>elevation</th>\n",
       "      <th>country_name</th>\n",
       "    </tr>\n",
       "  </thead>\n",
       "  <tbody>\n",
       "    <tr>\n",
       "      <th>48</th>\n",
       "      <td>Nam Co</td>\n",
       "      <td>CN</td>\n",
       "      <td>4,718.00</td>\n",
       "      <td>China</td>\n",
       "    </tr>\n",
       "    <tr>\n",
       "      <th>97</th>\n",
       "      <td>Poopo</td>\n",
       "      <td>BOL</td>\n",
       "      <td>3,686.00</td>\n",
       "      <td>Bolivia</td>\n",
       "    </tr>\n",
       "    <tr>\n",
       "      <th>98</th>\n",
       "      <td>Salar de Uyuni</td>\n",
       "      <td>BOL</td>\n",
       "      <td>3,650.00</td>\n",
       "      <td>Bolivia</td>\n",
       "    </tr>\n",
       "    <tr>\n",
       "      <th>45</th>\n",
       "      <td>Koli Sarez</td>\n",
       "      <td>TAD</td>\n",
       "      <td>3,250.00</td>\n",
       "      <td>Tajikistan</td>\n",
       "    </tr>\n",
       "    <tr>\n",
       "      <th>94</th>\n",
       "      <td>Lake Irazu</td>\n",
       "      <td>CR</td>\n",
       "      <td>3,200.00</td>\n",
       "      <td>Costa Rica</td>\n",
       "    </tr>\n",
       "    <tr>\n",
       "      <th>47</th>\n",
       "      <td>Qinghai Lake</td>\n",
       "      <td>CN</td>\n",
       "      <td>3,195.00</td>\n",
       "      <td>China</td>\n",
       "    </tr>\n",
       "    <tr>\n",
       "      <th>51</th>\n",
       "      <td>Segara Anak</td>\n",
       "      <td>RI</td>\n",
       "      <td>2,008.00</td>\n",
       "      <td>Indonesia</td>\n",
       "    </tr>\n",
       "    <tr>\n",
       "      <th>85</th>\n",
       "      <td>Lake Tahoe</td>\n",
       "      <td>USA</td>\n",
       "      <td>1,900.00</td>\n",
       "      <td>United States</td>\n",
       "    </tr>\n",
       "    <tr>\n",
       "      <th>83</th>\n",
       "      <td>Crater Lake</td>\n",
       "      <td>USA</td>\n",
       "      <td>1,883.00</td>\n",
       "      <td>United States</td>\n",
       "    </tr>\n",
       "    <tr>\n",
       "      <th>59</th>\n",
       "      <td>Lake Tana</td>\n",
       "      <td>ETH</td>\n",
       "      <td>1,830.00</td>\n",
       "      <td>Ethiopia</td>\n",
       "    </tr>\n",
       "  </tbody>\n",
       "</table>\n",
       "</div>"
      ],
      "text/plain": [
       "      airport_name car_code  elevation   country_name\n",
       "48          Nam Co       CN   4,718.00          China\n",
       "97           Poopo      BOL   3,686.00        Bolivia\n",
       "98  Salar de Uyuni      BOL   3,650.00        Bolivia\n",
       "45      Koli Sarez      TAD   3,250.00     Tajikistan\n",
       "94      Lake Irazu       CR   3,200.00     Costa Rica\n",
       "47    Qinghai Lake       CN   3,195.00          China\n",
       "51     Segara Anak       RI   2,008.00      Indonesia\n",
       "85      Lake Tahoe      USA   1,900.00  United States\n",
       "83     Crater Lake      USA   1,883.00  United States\n",
       "59       Lake Tana      ETH   1,830.00       Ethiopia"
      ]
     },
     "execution_count": 158,
     "metadata": {},
     "output_type": "execute_result"
    }
   ],
   "source": [
    "#4. name and country of a) longest river, b) largest lake and c) airport at highest elevation\n",
    "airport_name, airport_elevation, car_code = [], [], []\n",
    "for r in document.iterfind('lake'):\n",
    "    name = r.find('name').text\n",
    "    try:\n",
    "        elevation = float(r.find('elevation').text)\n",
    "    except:\n",
    "        elevation = np.nan\n",
    "    country = r.attrib['country']\n",
    "    airport_name.append(name)\n",
    "    airport_elevation.append(elevation)\n",
    "    car_code.append(country)\n",
    "airports_temp = {'airport_name': airport_name, 'elevation': airport_elevation, 'car_code': car_code}\n",
    "airports = pd.DataFrame(airports_temp)\n",
    "airports = pd.merge(airports, countries)\n",
    "print('Highest Airport')\n",
    "airports.sort_values('elevation', ascending=False).head(10)"
   ]
  },
  {
   "cell_type": "code",
   "execution_count": null,
   "metadata": {
    "collapsed": true
   },
   "outputs": [],
   "source": []
  }
 ],
 "metadata": {
  "kernelspec": {
   "display_name": "Python 2",
   "language": "python",
   "name": "python2"
  },
  "language_info": {
   "codemirror_mode": {
    "name": "ipython",
    "version": 2
   },
   "file_extension": ".py",
   "mimetype": "text/x-python",
   "name": "python",
   "nbconvert_exporter": "python",
   "pygments_lexer": "ipython2",
   "version": "2.7.11"
  }
 },
 "nbformat": 4,
 "nbformat_minor": 0
}
