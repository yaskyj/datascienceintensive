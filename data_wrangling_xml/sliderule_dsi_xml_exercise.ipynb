{
 "cells": [
  {
   "cell_type": "markdown",
   "metadata": {},
   "source": [
    "# XML example and exercise\n",
    "****\n",
    "+ study examples of accessing nodes in XML tree structure  \n",
    "+ work on exercise to be completed and submitted\n",
    "****\n",
    "+ reference: https://docs.python.org/2.7/library/xml.etree.elementtree.html\n",
    "+ data source: http://www.dbis.informatik.uni-goettingen.de/Mondial\n",
    "****"
   ]
  },
  {
   "cell_type": "code",
   "execution_count": 1,
   "metadata": {
    "collapsed": true
   },
   "outputs": [],
   "source": [
    "from xml.etree import ElementTree as ET\n",
    "import pandas as pd\n",
    "pd.options.display.float_format = '{:,.2f}'.format\n",
    "import numpy as np"
   ]
  },
  {
   "cell_type": "markdown",
   "metadata": {},
   "source": [
    "## XML example\n",
    "\n",
    "+ for details about tree traversal and iterators, see https://docs.python.org/2.7/library/xml.etree.elementtree.html"
   ]
  },
  {
   "cell_type": "code",
   "execution_count": 2,
   "metadata": {
    "collapsed": true
   },
   "outputs": [],
   "source": [
    "document_tree = ET.parse( './data/mondial_database_less.xml' )"
   ]
  },
  {
   "cell_type": "code",
   "execution_count": 3,
   "metadata": {
    "collapsed": false
   },
   "outputs": [
    {
     "name": "stdout",
     "output_type": "stream",
     "text": [
      "Albania\n",
      "Greece\n",
      "Macedonia\n",
      "Serbia\n",
      "Montenegro\n",
      "Kosovo\n",
      "Andorra\n"
     ]
    }
   ],
   "source": [
    "# print names of all countries\n",
    "for child in document_tree.getroot():\n",
    "    print child.find('name').text"
   ]
  },
  {
   "cell_type": "code",
   "execution_count": 4,
   "metadata": {
    "collapsed": false
   },
   "outputs": [
    {
     "name": "stdout",
     "output_type": "stream",
     "text": [
      "* Albania: Tirana, Shkodër, Durrës, Vlorë, Elbasan, Korçë\n",
      "* Greece: Komotini, Kavala, Athina, Peiraias, Peristeri, Acharnes, Patra, Kozani, Kerkyra, Ioannina, Thessaloniki, Iraklio, Chania, Ermoupoli, Rhodes, Tripoli, Lamia, Chalkida, Larissa, Volos, Mytilini, Karyes\n",
      "* Macedonia: Skopje, Kumanovo\n",
      "* Serbia: Beograd, Novi Sad, Niš\n",
      "* Montenegro: Podgorica\n",
      "* Kosovo: Prishtine\n",
      "* Andorra: Andorra la Vella\n"
     ]
    }
   ],
   "source": [
    "# print names of all countries and their cities\n",
    "for element in document_tree.iterfind('country'):\n",
    "    print '* ' + element.find('name').text + ':',\n",
    "    capitals_string = ''\n",
    "    for subelement in element.getiterator('city'):\n",
    "        capitals_string += subelement.find('name').text + ', '\n",
    "    print capitals_string[:-2]"
   ]
  },
  {
   "cell_type": "markdown",
   "metadata": {},
   "source": [
    "****\n",
    "## XML exercise\n",
    "\n",
    "Using data in 'data/mondial_database.xml', the examples above, and refering to https://docs.python.org/2.7/library/xml.etree.elementtree.html, find\n",
    "\n",
    "1. 10 countries with the lowest infant mortality rates\n",
    "2. 10 cities with the largest population\n",
    "3. 10 ethnic groups with the largest overall populations (sum of best/latest estimates over all countries)\n",
    "4. name and country of a) longest river, b) largest lake and c) airport at highest elevation"
   ]
  },
  {
   "cell_type": "code",
   "execution_count": 5,
   "metadata": {
    "collapsed": true
   },
   "outputs": [],
   "source": [
    "document = ET.parse( './data/mondial_database.xml' )"
   ]
  },
  {
   "cell_type": "code",
   "execution_count": 6,
   "metadata": {
    "collapsed": false
   },
   "outputs": [
    {
     "data": {
      "text/plain": [
       "Monaco                   1.81\n",
       "Romania                 10.16\n",
       "Fiji                     10.2\n",
       "Brunei                  10.48\n",
       "Grenada                  10.5\n",
       "Mauritius               10.59\n",
       "Panama                   10.7\n",
       "Seychelles              10.77\n",
       "United Arab Emirates    10.92\n",
       "Barbados                10.93\n",
       "dtype: object"
      ]
     },
     "execution_count": 6,
     "metadata": {},
     "output_type": "execute_result"
    }
   ],
   "source": [
    "names, mortalities = [], []\n",
    "for country in document.iterfind('country'):\n",
    "    name = country.find('name').text\n",
    "    try:\n",
    "        mort = country.find('infant_mortality').text\n",
    "    except:\n",
    "        mort = np.nan\n",
    "    names.append(name)\n",
    "    mortalities.append(mort)\n",
    "morts = pd.Series(mortalities, index=names)\n",
    "morts = morts[morts.notnull()].sort_values()\n",
    "morts.head(10)\n"
   ]
  },
  {
   "cell_type": "code",
   "execution_count": 7,
   "metadata": {
    "collapsed": false
   },
   "outputs": [
    {
     "data": {
      "text/plain": [
       "Mumbai       12442373\n",
       "Delhi        11034555\n",
       "Hubli         8443675\n",
       "Bangalore     8443675\n",
       "Mysore        8443675\n",
       "London        8250205\n",
       "Tehran        8154051\n",
       "Dhaka         7423137\n",
       "Thimphu       6731790\n",
       "Warangal      6731790\n",
       "dtype: int64"
      ]
     },
     "execution_count": 7,
     "metadata": {},
     "output_type": "execute_result"
    }
   ],
   "source": [
    "names, populations = [], []\n",
    "for city in document.iter('city'):\n",
    "    name = city.find('name').text\n",
    "    population = city.findall('population')\n",
    "    for i in population:\n",
    "        if i.attrib['year'] == '2011':\n",
    "            pop = int(i.text)\n",
    "    populations.append(pop)\n",
    "    names.append(name)\n",
    "\n",
    "pops = pd.Series(populations, names)\n",
    "pops.sort_values(ascending=False).head(10)"
   ]
  },
  {
   "cell_type": "code",
   "execution_count": 22,
   "metadata": {
    "collapsed": false
   },
   "outputs": [
    {
     "data": {
      "text/html": [
       "<div>\n",
       "<table border=\"1\" class=\"dataframe\">\n",
       "  <thead>\n",
       "    <tr style=\"text-align: right;\">\n",
       "      <th></th>\n",
       "      <th>population</th>\n",
       "    </tr>\n",
       "    <tr>\n",
       "      <th>ethnicgroups</th>\n",
       "      <th></th>\n",
       "    </tr>\n",
       "  </thead>\n",
       "  <tbody>\n",
       "    <tr>\n",
       "      <th>Indo-Aryan</th>\n",
       "      <td>871,815,583.44</td>\n",
       "    </tr>\n",
       "    <tr>\n",
       "      <th>African</th>\n",
       "      <td>667,724,568.37</td>\n",
       "    </tr>\n",
       "    <tr>\n",
       "      <th>Bhote</th>\n",
       "      <td>605,427,488.50</td>\n",
       "    </tr>\n",
       "    <tr>\n",
       "      <th>Nepalese</th>\n",
       "      <td>423,799,241.95</td>\n",
       "    </tr>\n",
       "    <tr>\n",
       "      <th>Dravidian</th>\n",
       "      <td>302,713,744.25</td>\n",
       "    </tr>\n",
       "    <tr>\n",
       "      <th>Bengali</th>\n",
       "      <td>146,776,916.72</td>\n",
       "    </tr>\n",
       "    <tr>\n",
       "      <th>Burman</th>\n",
       "      <td>101,845,207.52</td>\n",
       "    </tr>\n",
       "    <tr>\n",
       "      <th>Arab</th>\n",
       "      <td>93,474,053.28</td>\n",
       "    </tr>\n",
       "    <tr>\n",
       "      <th>Arab-Berber</th>\n",
       "      <td>85,709,405.06</td>\n",
       "    </tr>\n",
       "    <tr>\n",
       "      <th>Tajik</th>\n",
       "      <td>79,597,613.48</td>\n",
       "    </tr>\n",
       "  </tbody>\n",
       "</table>\n",
       "</div>"
      ],
      "text/plain": [
       "                 population\n",
       "ethnicgroups               \n",
       "Indo-Aryan   871,815,583.44\n",
       "African      667,724,568.37\n",
       "Bhote        605,427,488.50\n",
       "Nepalese     423,799,241.95\n",
       "Dravidian    302,713,744.25\n",
       "Bengali      146,776,916.72\n",
       "Burman       101,845,207.52\n",
       "Arab          93,474,053.28\n",
       "Arab-Berber   85,709,405.06\n",
       "Tajik         79,597,613.48"
      ]
     },
     "execution_count": 22,
     "metadata": {},
     "output_type": "execute_result"
    }
   ],
   "source": [
    "country_name, ethnicity, population = [], [], []\n",
    "for country in document.iterfind('country'):\n",
    "    name = country.find('name').text\n",
    "    populations = country.findall('population')\n",
    "    for i in populations:\n",
    "        if i.attrib['year'] == '2011':\n",
    "            pop = int(i.text)\n",
    "    eth = country.findall('ethnicgroup')\n",
    "    for e in eth:\n",
    "        country_name.append(name)\n",
    "        ethnicity.append(e.text)\n",
    "        population.append(float(e.attrib['percentage'])/100*pop)\n",
    "data = {'country_names': country_name, 'ethnicgroups': ethnicity, 'population': population}\n",
    "df = pd.DataFrame(data)\n",
    "ethnic = df.groupby('ethnicgroups').sum()\n",
    "ethnic.sort_values('population', ascending=False).head(10)"
   ]
  },
  {
   "cell_type": "code",
   "execution_count": null,
   "metadata": {
    "collapsed": true
   },
   "outputs": [],
   "source": []
  },
  {
   "cell_type": "code",
   "execution_count": null,
   "metadata": {
    "collapsed": true
   },
   "outputs": [],
   "source": []
  },
  {
   "cell_type": "code",
   "execution_count": null,
   "metadata": {
    "collapsed": true
   },
   "outputs": [],
   "source": []
  },
  {
   "cell_type": "code",
   "execution_count": null,
   "metadata": {
    "collapsed": true
   },
   "outputs": [],
   "source": []
  },
  {
   "cell_type": "code",
   "execution_count": null,
   "metadata": {
    "collapsed": true
   },
   "outputs": [],
   "source": []
  },
  {
   "cell_type": "code",
   "execution_count": null,
   "metadata": {
    "collapsed": true
   },
   "outputs": [],
   "source": []
  }
 ],
 "metadata": {
  "kernelspec": {
   "display_name": "Python 2",
   "language": "python",
   "name": "python2"
  },
  "language_info": {
   "codemirror_mode": {
    "name": "ipython",
    "version": 2
   },
   "file_extension": ".py",
   "mimetype": "text/x-python",
   "name": "python",
   "nbconvert_exporter": "python",
   "pygments_lexer": "ipython2",
   "version": "2.7.11"
  }
 },
 "nbformat": 4,
 "nbformat_minor": 0
}
